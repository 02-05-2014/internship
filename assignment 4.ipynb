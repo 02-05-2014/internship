{
 "cells": [
  {
   "cell_type": "code",
   "execution_count": 1,
   "id": "4607982f",
   "metadata": {},
   "outputs": [],
   "source": [
    "#importing important libraries\n",
    "import selenium\n",
    "from selenium import webdriver\n",
    "import pandas as pd\n",
    "from selenium.webdriver.common.by import By\n",
    "import warnings\n",
    "warnings.filterwarnings(\"ignore\")\n",
    "import time\n",
    "from selenium.common.exceptions import StaleElementReferenceException,NoSuchElementException\n",
    "import re\n",
    "from selenium.webdriver.common.by import By\n",
    "import urllib"
   ]
  },
  {
   "cell_type": "markdown",
   "id": "85d57a86",
   "metadata": {},
   "source": [
    "# 1. Scrape the details of most viewed videos on YouTube from Wikipedia.\n",
    "Url = https://en.wikipedia.org/wiki/List_of_most-viewed_YouTube_videos You need to find following details:\n",
    "\n",
    "A) Rank\n",
    "\n",
    "B) Name\n",
    "\n",
    "C) Artist\n",
    "\n",
    "D) Upload date\n",
    "\n",
    "E) Views"
   ]
  },
  {
   "cell_type": "code",
   "execution_count": 7,
   "id": "a295b179",
   "metadata": {},
   "outputs": [],
   "source": [
    "#connecting to web drivers\n",
    "driver = webdriver.Chrome(r'C:\\Users\\ASUS\\Downloads\\chromedriver_win32\\chromedriver.exe')"
   ]
  },
  {
   "cell_type": "code",
   "execution_count": 8,
   "id": "c364117a",
   "metadata": {},
   "outputs": [],
   "source": [
    "#maximizing automated windows\n",
    "driver.maximize_window()"
   ]
  },
  {
   "cell_type": "code",
   "execution_count": 9,
   "id": "2d5fb2f8",
   "metadata": {},
   "outputs": [],
   "source": [
    "#opening website in automated chrome window\n",
    "url = 'https://en.wikipedia.org/wiki/List_of_most-viewed_YouTube_videos'\n",
    "driver.get(url)"
   ]
  },
  {
   "cell_type": "code",
   "execution_count": 10,
   "id": "712c2d17",
   "metadata": {},
   "outputs": [],
   "source": [
    "Name_url = []\n",
    "\n",
    "url =driver.find_elements(By.XPATH,\"//*[@id='mw-content-text']/div[1]/table[2]/tbody\")\n",
    "for i in url:\n",
    "    Name_url.append(i.get_attribute('href'))\n",
    "    "
   ]
  },
  {
   "cell_type": "code",
   "execution_count": 6,
   "id": "ab42879e",
   "metadata": {},
   "outputs": [
    {
     "name": "stdout",
     "output_type": "stream",
     "text": [
      "[None]\n"
     ]
    }
   ],
   "source": [
    "print(Name_url)"
   ]
  },
  {
   "cell_type": "code",
   "execution_count": 30,
   "id": "87badf4d",
   "metadata": {},
   "outputs": [],
   "source": [
    "Names = []\n",
    "for i in Name_url[0:30]:\n",
    "    driver.get(i)\n",
    "    time.sleep(5)\n",
    "    try:\n",
    "   \n",
    "        Name_details = driver.find_element(By.XPATH,\"//*[@id='cite_ref-']/a\") \n",
    "        Names.append(Name_details.text)\n",
    "    except NoSuchElementException:\n",
    "        Names.append(\"--\")\n",
    "   "
   ]
  },
  {
   "cell_type": "code",
   "execution_count": 31,
   "id": "9c5d01dd",
   "metadata": {},
   "outputs": [
    {
     "name": "stdout",
     "output_type": "stream",
     "text": [
      "['--', '--', '--', '--', '--', '--', '--', '--', '--', '--', '--', '--', '--', '--', '--', '--', '--', '--', '--']\n"
     ]
    }
   ],
   "source": [
    "print(Names)"
   ]
  },
  {
   "cell_type": "code",
   "execution_count": 11,
   "id": "c320b660",
   "metadata": {},
   "outputs": [],
   "source": [
    "Names =[]\n",
    "\n",
    "table = driver.find_elements(By.XPATH,\"//*[@id='mw-content-text']/div[1]/table[2]/tbody\")\n",
    "for i in table :\n",
    "    Names.append(i.text) "
   ]
  },
  {
   "cell_type": "code",
   "execution_count": 22,
   "id": "7e4e8ce6",
   "metadata": {},
   "outputs": [
    {
     "name": "stdout",
     "output_type": "stream",
     "text": [
      "['1. \"Baby Shark Dance\"[4] Pinkfong Baby Shark - Kids\\' Songs & Stories 11.74 June 17, 2016 [A]\\n2. \"Despacito\"[7] Luis Fonsi 8.01 January 12, 2017 [B]\\n3. \"Johny Johny Yes Papa\"[14] LooLoo Kids 6.53 October 8, 2016 [C]\\n4. \"Shape of You\"[15] Ed Sheeran 5.85 January 30, 2017 [D]\\n5. \"Bath Song\"[17] Cocomelon – Nursery Rhymes 5.77 May 2, 2018 [E]\\n6. \"See You Again\"[18] Wiz Khalifa 5.70 April 6, 2015 [F]\\n7. \"Phonics Song with Two Words\"[23] ChuChu TV 5.02 March 6, 2014 [G]\\n8. \"Uptown Funk\"[24] Mark Ronson 4.76 November 19, 2014 [H]\\n9. \"Learning Colors – Colorful Eggs on a Farm\"[25] Miroshka TV 4.73 February 27, 2018 [I]\\n10. \"Wheels on the Bus\"[26] Cocomelon – Nursery Rhymes 4.63 May 24, 2018\\n11. \"Gangnam Style\"[27] Psy 4.61 July 15, 2012 [J]\\n12. \"Masha and the Bear – Recipe for Disaster\"[32] Get Movies 4.51 January 31, 2012 [K]\\n13. \"Dame Tu Cosita\"[33] El Chombo 4.14 April 5, 2018\\n14. \"Sugar\"[34] Maroon 5 3.78 January 14, 2015\\n15. \"Roar\"[35] Katy Perry 3.69 September 5, 2013\\n16. \"Counting Stars\"[36] OneRepublic 3.68 May 31, 2013\\n17. \"Axel F\"[37] Crazy Frog 3.61 June 16, 2009\\n18. \"Sorry\"[38] Justin Bieber 3.61 October 22, 2015\\n19. \"Thinking Out Loud\"[39] Ed Sheeran 3.52 October 7, 2014\\n20. \"Baa Baa Black Sheep\"[40] Cocomelon – Nursery Rhymes 3.43 June 25, 2018\\n21. \"Dark Horse\"[41] Katy Perry 3.40 February 20, 2014\\n22. \"Faded\"[42] Alan Walker 3.37 December 3, 2015\\n23. \"Girls Like You\"[43] Maroon 5 3.35 May 31, 2018\\n24. \"Let Her Go\"[44] Passenger 3.34 July 25, 2012\\n25. \"Waka Waka (This Time for Africa)\"[45] Shakira 3.31 June 4, 2010\\n26. \"Perfect\"[46] Ed Sheeran 3.30 November 9, 2017\\n27. \"Bailando\"[47] Enrique Iglesias 3.30 April 11, 2014\\n28. \"Lean On\"[48] Major Lazer 3.29 March 22, 2015\\n29. \"Humpty the train on a fruits ride\"[49] Kiddiestv Hindi – Nursery Rhymes & Kids Songs 3.23 January 26, 2018\\n30. \"Shake It Off\"[50] Taylor Swift 3.23 August 18, 2014']\n"
     ]
    }
   ],
   "source": [
    "print(Names)"
   ]
  },
  {
   "cell_type": "code",
   "execution_count": 23,
   "id": "36f45821",
   "metadata": {},
   "outputs": [],
   "source": [
    "Names =[]\n",
    "\n",
    "table = driver.find_elements(By.XPATH,\"//*[@id='mw-content-text']/div[1]/table[2]/tbody/tr[1]\")\n",
    "for i in table :\n",
    "    Names.append(i.text) "
   ]
  },
  {
   "cell_type": "code",
   "execution_count": 24,
   "id": "d58bd078",
   "metadata": {},
   "outputs": [
    {
     "name": "stdout",
     "output_type": "stream",
     "text": [
      "['1. \"Baby Shark Dance\"[4] Pinkfong Baby Shark - Kids\\' Songs & Stories 11.74 June 17, 2016 [A]']\n"
     ]
    }
   ],
   "source": [
    "print(Names)"
   ]
  },
  {
   "cell_type": "markdown",
   "id": "9448c9a6",
   "metadata": {},
   "source": [
    "# 2. Scrape the details team India’s international fixtures from bcci.tv. Url = https://www.bcci.tv/.\n",
    "\n",
    "You need to find following details:\n",
    "\n",
    "A) Match title (I.e. 1st ODI)\n",
    "\n",
    "B) Series\n",
    "\n",
    "C) Place\n",
    "\n",
    "D) Date\n",
    "\n",
    "E) Time\n",
    "\n",
    "Note: - From bcci.tv home page you have reach to the international fixture page through code."
   ]
  },
  {
   "cell_type": "code",
   "execution_count": 16,
   "id": "9ec06946",
   "metadata": {},
   "outputs": [],
   "source": [
    "#connecting to web drivers\n",
    "driver = webdriver.Chrome(r'C:\\Users\\ASUS\\Downloads\\chromedriver_win32\\chromedriver.exe')"
   ]
  },
  {
   "cell_type": "code",
   "execution_count": 17,
   "id": "dc6c5349",
   "metadata": {},
   "outputs": [],
   "source": [
    "#maximizing automated windows\n",
    "driver.maximize_window()"
   ]
  },
  {
   "cell_type": "code",
   "execution_count": 18,
   "id": "918db95b",
   "metadata": {},
   "outputs": [],
   "source": [
    "#opening website in automated chrome window\n",
    "url = 'https://www.bcci.tv/'\n",
    "driver.get(url)"
   ]
  },
  {
   "cell_type": "code",
   "execution_count": 19,
   "id": "9b271060",
   "metadata": {},
   "outputs": [],
   "source": [
    "#clicking using absolute xpath function\n",
    "search_btn =driver.find_element(By.XPATH,\"//*[@id='navigation']/ul[1]/li[2]/a\")\n",
    "search_btn.click()"
   ]
  },
  {
   "cell_type": "code",
   "execution_count": 20,
   "id": "092bba70",
   "metadata": {},
   "outputs": [],
   "source": [
    "#extracting all the web elements containing match titles\n",
    "match_titles =[]\n",
    "title_tags = driver.find_elements(By.XPATH,\"//span[@class='ng-binding']\" )\n",
    "for i in title_tags :\n",
    "    match_titles.append(i.text)\n",
    "    "
   ]
  },
  {
   "cell_type": "code",
   "execution_count": 21,
   "id": "cc3fb98a",
   "metadata": {},
   "outputs": [
    {
     "name": "stdout",
     "output_type": "stream",
     "text": [
      "['INDIA TOUR OF BANGLADESH ODI SERIES 2022-23', 'India Need 219 Run(s) to Win', 'AUSTRALIA WOMEN TOUR OF INDIA 2022', 'INDIA TOUR OF BANGLADESH ODI SERIES 2022-23', 'AUSTRALIA WOMEN TOUR OF INDIA 2022', 'INDIA TOUR OF BANGLADESH TEST SERIES 2022-23', 'AUSTRALIA WOMEN TOUR OF INDIA 2022', 'AUSTRALIA WOMEN TOUR OF INDIA 2022', 'AUSTRALIA WOMEN TOUR OF INDIA 2022']\n"
     ]
    }
   ],
   "source": [
    "print(match_titles)"
   ]
  },
  {
   "cell_type": "code",
   "execution_count": 24,
   "id": "702bbf59",
   "metadata": {},
   "outputs": [],
   "source": [
    "#extracting all the web elements containing match date\n",
    "match_date =[]\n",
    "date_tags = driver.find_elements(By.XPATH,\"//div[@class='match-card-left match-schedule']\" )\n",
    "for i in date_tags :\n",
    "    match_date.append(i.text)\n",
    "    "
   ]
  },
  {
   "cell_type": "code",
   "execution_count": 25,
   "id": "05695518",
   "metadata": {},
   "outputs": [
    {
     "name": "stdout",
     "output_type": "stream",
     "text": [
      "['6 DEC 2022', '7 DEC 2022', '9 DEC 2022', '10 DEC 2022', '11 DEC 2022', '14 DEC 2022', '14 DEC 2022', '17 DEC 2022']\n"
     ]
    }
   ],
   "source": [
    "print(match_date)"
   ]
  },
  {
   "cell_type": "code",
   "execution_count": 28,
   "id": "f1db32a3",
   "metadata": {},
   "outputs": [],
   "source": [
    "#extracting all the web elements containing match time\n",
    "match_time =[]\n",
    "time_tags = driver.find_elements(By.XPATH,\"//h5[@class='text-right ng-binding']\" )\n",
    "for i in time_tags :\n",
    "    match_time.append(i.text)\n",
    "    "
   ]
  },
  {
   "cell_type": "code",
   "execution_count": 29,
   "id": "6ef51513",
   "metadata": {},
   "outputs": [
    {
     "name": "stdout",
     "output_type": "stream",
     "text": [
      "['7:00 PM IST', '11:30 AM IST', '7:00 PM IST', '9:30 AM IST', '7:00 PM IST', '7:00 PM IST']\n"
     ]
    }
   ],
   "source": [
    "print(match_time)"
   ]
  },
  {
   "cell_type": "code",
   "execution_count": 30,
   "id": "97deaf83",
   "metadata": {},
   "outputs": [],
   "source": [
    "#extracting all the web elements containing match place\n",
    "match_place =[]\n",
    "place_tags = driver.find_elements(By.XPATH,\"//div[@class='fix-place ng-binding ng-scope']\" )\n",
    "for i in place_tags :\n",
    "    match_place.append(i.text)"
   ]
  },
  {
   "cell_type": "code",
   "execution_count": 31,
   "id": "a7b8b0f8",
   "metadata": {},
   "outputs": [
    {
     "name": "stdout",
     "output_type": "stream",
     "text": [
      "['First-Class Match - Sylhet International Cricket Stadium, Sylhet', '2nd ODI - Shere Bangla National Stadium, Mirpur, Dhaka', '1st T20I - DY Patil Stadium, NAVI MUMBAI', '3rd ODI - Zahur Ahmed Chowdhury Stadium, Chattogram', '2nd T20I - DY Patil Stadium, NAVI MUMBAI', '1st Test - Zahur Ahmed Chowdhury Stadium, Chattogram', '3rd T20I - Brabourne - CCI, Mumbai', '4th T20I - Brabourne - CCI, Mumbai']\n"
     ]
    }
   ],
   "source": [
    "print(match_place)"
   ]
  },
  {
   "cell_type": "markdown",
   "id": "f666a6f1",
   "metadata": {},
   "source": [
    "# 3. Scrape the details of selenium exception from guru99.com. \n",
    "\n",
    "Url = https://www.guru99.com/\n",
    " \n",
    "You need to find following details:\n",
    "\n",
    "A) Name\n",
    "\n",
    "B) Description\n",
    "\n",
    "Note: - From guru99 home page you have to reach to selenium exception handling page through code."
   ]
  },
  {
   "cell_type": "code",
   "execution_count": 2,
   "id": "29e5c67a",
   "metadata": {},
   "outputs": [],
   "source": [
    "#connecting to web drivers\n",
    "driver = webdriver.Chrome(r\"C:\\Users\\ASUS\\Downloads\\chromedriver_win32 (1)\\chromedriver.exe\")"
   ]
  },
  {
   "cell_type": "code",
   "execution_count": 3,
   "id": "d0517871",
   "metadata": {},
   "outputs": [],
   "source": [
    "#maximizing automated windows\n",
    "driver.maximize_window()"
   ]
  },
  {
   "cell_type": "code",
   "execution_count": 4,
   "id": "b427d9f5",
   "metadata": {},
   "outputs": [],
   "source": [
    "#opening website in automated chrome window\n",
    "url = 'https://www.guru99.com/'\n",
    "driver.get(url)\n",
    "time.sleep(10)"
   ]
  },
  {
   "cell_type": "code",
   "execution_count": 5,
   "id": "4d64d51c",
   "metadata": {},
   "outputs": [],
   "source": [
    "#finding web element for search element\n",
    "search_element = driver.find_element(By.XPATH,\"//*[@id='gsc-i-id1']\")\n",
    "search_element.send_keys(\"selenium exception handling\")"
   ]
  },
  {
   "cell_type": "code",
   "execution_count": 6,
   "id": "d93fdd64",
   "metadata": {},
   "outputs": [],
   "source": [
    "#clicking using absolute xpath function\n",
    "search_btn =driver.find_element(By.XPATH,\"//*[@id='___gcse_0']/div/div/form/table/tbody/tr/td[2]/button\")\n",
    "search_btn.click()"
   ]
  },
  {
   "cell_type": "code",
   "execution_count": 7,
   "id": "223a69c4",
   "metadata": {},
   "outputs": [],
   "source": [
    "#clicking using absolute xpath function\n",
    "search_btn =driver.find_element(By.XPATH,\"/html/body/div[1]/div/div/div/main/div/article/div/div[1]/div[1]/div[2]/div/div[1]/div/div/div/div[1]/div[6]/div[2]/div/div/div[1]/div[1]/div[1]/div[1]/div/a\")\n",
    "search_btn.click()"
   ]
  },
  {
   "cell_type": "code",
   "execution_count": 8,
   "id": "88150497",
   "metadata": {},
   "outputs": [],
   "source": [
    "#extracting all the web elements containing  titles\n",
    "title_name = driver.find_elements(By.XPATH,\"//*[@id='post-1953']/div/div/p[2]\")\n",
    "for i in title_name:\n",
    "    title_name.append(i.text)\n",
    "    "
   ]
  },
  {
   "cell_type": "code",
   "execution_count": 9,
   "id": "75e40d5b",
   "metadata": {},
   "outputs": [
    {
     "name": "stdout",
     "output_type": "stream",
     "text": [
      "[]\n"
     ]
    }
   ],
   "source": [
    "print(title_name)"
   ]
  },
  {
   "cell_type": "markdown",
   "id": "02f679eb",
   "metadata": {},
   "source": [
    "# 4. Scrape the details of State-wise GDP of India from statisticstime.com. Url = http://statisticstimes.com/\n",
    "\n",
    "you have to find following details:\n",
    "\n",
    "A) Rank\n",
    "\n",
    "B) State\n",
    "\n",
    "C) GSDP(18-19)- at current prices\n",
    "\n",
    "D) GSDP(19-20)- at current prices\n",
    "\n",
    "E) Share(18-19)\n",
    "\n",
    "F) GDP($ billion)\n",
    "\n",
    "Note: - From statisticstimes home page you have to reach to economy page through code."
   ]
  },
  {
   "cell_type": "code",
   "execution_count": 10,
   "id": "4c3a5a01",
   "metadata": {},
   "outputs": [],
   "source": [
    "#connecting to web drivers\n",
    "driver = webdriver.Chrome(r\"C:\\Users\\ASUS\\Downloads\\chromedriver_win32 (1)\\chromedriver.exe\")"
   ]
  },
  {
   "cell_type": "code",
   "execution_count": 11,
   "id": "16d9317e",
   "metadata": {},
   "outputs": [],
   "source": [
    "#maximizing automated windows\n",
    "driver.maximize_window()"
   ]
  },
  {
   "cell_type": "code",
   "execution_count": 12,
   "id": "069db257",
   "metadata": {},
   "outputs": [],
   "source": [
    "#opening website in automated chrome window\n",
    "url = 'http://statisticstimes.com/'\n",
    "driver.get(url)"
   ]
  },
  {
   "cell_type": "code",
   "execution_count": 13,
   "id": "e194fab3",
   "metadata": {},
   "outputs": [],
   "source": [
    "#clicking using absolute xpath function\n",
    "search_btn =driver.find_element(By.XPATH,\"//*[@id='top']/div[2]/div[2]/button\")\n",
    "search_btn.click()"
   ]
  },
  {
   "cell_type": "code",
   "execution_count": 14,
   "id": "d4b94f21",
   "metadata": {},
   "outputs": [],
   "source": [
    "#clicking using absolute xpath function\n",
    "search_btn =driver.find_element(By.XPATH,\"//*[@id='top']/div[2]/div[2]/div/a[3]\")\n",
    "search_btn.click()"
   ]
  },
  {
   "cell_type": "code",
   "execution_count": 15,
   "id": "da9d4564",
   "metadata": {},
   "outputs": [],
   "source": [
    "#clicking using absolute xpath function\n",
    "search_btn =driver.find_element(By.XPATH,\"/html/body/div[2]/div[2]/div[2]/ul/li[1]/a\")\n",
    "search_btn.click()"
   ]
  },
  {
   "cell_type": "code",
   "execution_count": 26,
   "id": "d00b24aa",
   "metadata": {},
   "outputs": [
    {
     "data": {
      "text/plain": [
       "1"
      ]
     },
     "execution_count": 26,
     "metadata": {},
     "output_type": "execute_result"
    }
   ],
   "source": [
    "table = []\n",
    "\n",
    "elements =driver.find_elements(By.XPATH,\"//*[@id='table_id']/tbody\")\n",
    "for i in elements:\n",
    "    table.append(i.text)\n",
    "    \n",
    "len(table)    "
   ]
  },
  {
   "cell_type": "code",
   "execution_count": 27,
   "id": "a4c03624",
   "metadata": {},
   "outputs": [
    {
     "name": "stdout",
     "output_type": "stream",
     "text": [
      "['1 Maharashtra - 2,632,792 13.94% 399.921 - 2,039,074\\n2 Tamil Nadu 1,845,853 1,630,208 8.63% 247.629 1,312,929 1,215,307\\n3 Uttar Pradesh 1,687,818 1,584,764 8.39% 240.726 1,166,817 1,123,982\\n4 Gujarat - 1,502,899 7.96% 228.290 - 1,186,379\\n5 Karnataka 1,631,977 1,493,127 7.91% 226.806 1,156,039 1,091,077\\n6 West Bengal 1,253,832 1,089,898 5.77% 165.556 793,223 739,525\\n7 Rajasthan 1,020,989 942,586 4.99% 143.179 711,627 677,428\\n8 Andhra Pradesh 972,782 862,957 4.57% 131.083 672,018 621,301\\n9 Telangana 969,604 861,031 4.56% 130.791 663,258 612,828\\n10 Madhya Pradesh 906,672 809,592 4.29% 122.977 561,801 522,009\\n11 Kerala - 781,653 4.14% 118.733 - 559,412\\n12 Delhi 856,112 774,870 4.10% 117.703 634,408 590,569\\n13 Haryana 831,610 734,163 3.89% 111.519 572,240 531,085\\n14 Bihar 611,804 530,363 2.81% 80.562 414,977 375,651\\n15 Punjab 574,760 526,376 2.79% 79.957 418,868 397,669\\n16 Odisha 521,275 487,805 2.58% 74.098 396,499 376,877\\n17 Assam - 315,881 1.67% 47.982 - 234,048\\n18 Chhattisgarh 329,180 304,063 1.61% 46.187 243,477 231,182\\n19 Jharkhand 328,598 297,204 1.57% 45.145 240,036 224,986\\n20 Uttarakhand - 245,895 1.30% 37.351 - 193,273\\n21 Jammu & Kashmir - 155,956 0.83% 23.690 - 112,755\\n22 Himachal Pradesh 165,472 153,845 0.81% 23.369 124,403 117,851\\n23 Goa 80,449 73,170 0.39% 11.115 63,408 57,787\\n24 Tripura 55,984 49,845 0.26% 7.571 40,583 36,963\\n25 Chandigarh - 42,114 0.22% 6.397 - 31,192\\n26 Puducherry 38,253 34,433 0.18% 5.230 25,093 23,013\\n27 Meghalaya 36,572 33,481 0.18% 5.086 26,695 24,682\\n28 Sikkim 32,496 28,723 0.15% 4.363 20,017 18,722\\n29 Manipur 31,790 27,870 0.15% 4.233 20,673 19,300\\n30 Nagaland - 27,283 0.14% 4.144 - 17,647\\n31 Arunachal Pradesh - 24,603 0.13% 3.737 - 16,676\\n32 Mizoram 26,503 22,287 0.12% 3.385 18,797 16,478\\n33 Andaman & Nicobar Islands - - - - - -']\n"
     ]
    }
   ],
   "source": [
    "print(table)"
   ]
  },
  {
   "cell_type": "markdown",
   "id": "239cf064",
   "metadata": {},
   "source": [
    "# 5. Scrape the details of trending repositories on Github.com. \n",
    "\n",
    "Url = https://github.com/\n",
    "\n",
    "You have to find the following details:\n",
    "\n",
    "A) Repository title\n",
    "\n",
    "B) Repository description\n",
    "\n",
    "C) Contributors count\n",
    "\n",
    "D) Language used\n",
    "\n",
    "Note: - From the home page you have to click on the trending option from Explore menu through code."
   ]
  },
  {
   "cell_type": "code",
   "execution_count": 2,
   "id": "6340a6ca",
   "metadata": {},
   "outputs": [],
   "source": [
    "#connecting to web drivers\n",
    "driver = webdriver.Chrome(r\"C:\\Users\\ASUS\\Downloads\\chromedriver_win32 (1)\\chromedriver.exe\")"
   ]
  },
  {
   "cell_type": "code",
   "execution_count": 3,
   "id": "82716025",
   "metadata": {},
   "outputs": [],
   "source": [
    "#maximizing automated windows\n",
    "driver.maximize_window()"
   ]
  },
  {
   "cell_type": "code",
   "execution_count": 7,
   "id": "8a5f5d93",
   "metadata": {},
   "outputs": [],
   "source": [
    "#opening website in automated chrome window\n",
    "url = 'https://github.com/'\n",
    "driver.get(url)"
   ]
  },
  {
   "cell_type": "code",
   "execution_count": 8,
   "id": "f1a956d8",
   "metadata": {},
   "outputs": [],
   "source": [
    "repository_title = []\n",
    "title =driver.find_elements(By.XPATH,\"//span[@class='text-normal']\")\n",
    "for i in title:\n",
    "    repository_title.append(i.text)\n",
    "      \n"
   ]
  },
  {
   "cell_type": "code",
   "execution_count": 9,
   "id": "54f2e304",
   "metadata": {},
   "outputs": [
    {
     "name": "stdout",
     "output_type": "stream",
     "text": [
      "['fuergaosi233 /', 'acheong08 /', 'ggerganov /', 'openai /', 'bupticybee /', 'android /', 'flutter /', 'transitive-bullshit /', 'rawandahmad698 /', 'poteto /', 'airbnb /', 'cpq /', 'qunash /', 'wong2 /', 'humanloop /', 'microsoft /', 'helix-editor /', 'sudoskys /', 'Tencent /', 'Netflix /', 'labteral /', 'f /', 'microsoft /', 'gorilla /', 'AutumnWhj /']\n"
     ]
    }
   ],
   "source": [
    "print(repository_title)"
   ]
  },
  {
   "cell_type": "code",
   "execution_count": 10,
   "id": "7e135d7d",
   "metadata": {},
   "outputs": [],
   "source": [
    "repository_url = []\n",
    "\n",
    "url =driver.find_elements(By.XPATH,\"/html/body/div[1]/div[4]/main/div[3]/div/div[1]/nav/a[1]\")\n",
    "for i in url:\n",
    "    repository_url.append(i.get_attribute('href'))\n",
    "    "
   ]
  },
  {
   "cell_type": "code",
   "execution_count": 11,
   "id": "caddea35",
   "metadata": {},
   "outputs": [
    {
     "name": "stdout",
     "output_type": "stream",
     "text": [
      "['https://github.com/trending']\n"
     ]
    }
   ],
   "source": [
    "print(repository_url)"
   ]
  },
  {
   "cell_type": "code",
   "execution_count": 22,
   "id": "5dec44bd",
   "metadata": {},
   "outputs": [],
   "source": [
    "res_des = []   \n",
    "description = driver.find_elements(By.XPATH,\"//p[@class='col-9 color-fg-muted my-1 pr-4']\") \n",
    "for i in description:\n",
    "    res_des.append(i.text)"
   ]
  },
  {
   "cell_type": "code",
   "execution_count": 23,
   "id": "065b778a",
   "metadata": {},
   "outputs": [
    {
     "name": "stdout",
     "output_type": "stream",
     "text": [
      "['Use ChatGPT On Wechat via wechaty', \"Lightweight package for interacting with ChatGPT's API by OpenAI. Uses reverse engineered official API.\", \"Port of OpenAI's Whisper model in C/C++\", 'Robust Speech Recognition via Large-Scale Weak Supervision', '中文版的ai地牢，直接使用的openai的ChatGPT api作为讲故事的模型。', 'Flutter makes it easy and fast to build beautiful apps for mobile and beyond', 'Node.js client for the unofficial ChatGPT API. 🔥', '⚡️ Python client for the unofficial ChatGPT API with auto token regeneration, conversation tracking, proxy support and more.', \"⭐️ Companies that don't have a broken hiring process\", 'An iOS library to natively render After Effects vector animations', 'A bare metal programming guide on STM32 microcontroller', 'A browser extension that augments your ChatGPT prompts with web results.', 'A browser extension to display ChatGPT response alongside Google Search results', 'Curated list of awesome tools, demos, docs for ChatGPT and GPT-3', 'Windows system utilities to maximize productivity', 'A post-modern modal text editor.', \"🤖 Using OpenAi's Api on Telegram to achieve chatGPT func|在 Telegram 上使用 openai *API* 对话/续写 异步机器人| 👋 支持上下文对话 | 一键部署⚡️ | 非逆向\", 'Hippy is designed to easily build cross-platform dynamic apps. 👏', 'Conductor is a microservices orchestration engine.', \"Unofficial Python SDK for OpenAI's ChatGPT\", 'This repo includes ChatGPT promt curation to use ChatGPT better.', 'Visual Studio Code', 'A powerful HTTP router and URL matcher for building Go web servers with 🦍', 'ChatGPT for wechat']\n"
     ]
    }
   ],
   "source": [
    "print(res_des)"
   ]
  },
  {
   "cell_type": "code",
   "execution_count": 29,
   "id": "03df60cf",
   "metadata": {},
   "outputs": [],
   "source": [
    "con_count = []  \n",
    "count= driver.find_elements(By.XPATH,\"//span[@class='Counter']\") \n",
    "for i in count:\n",
    "    con_count.append(i.text)"
   ]
  },
  {
   "cell_type": "code",
   "execution_count": 30,
   "id": "f45f2d28",
   "metadata": {},
   "outputs": [
    {
     "name": "stdout",
     "output_type": "stream",
     "text": [
      "['137', '', '32', '3', '', '', '', '2', '', '11']\n"
     ]
    }
   ],
   "source": [
    "print(con_count)"
   ]
  },
  {
   "cell_type": "code",
   "execution_count": 31,
   "id": "36bf5c1e",
   "metadata": {},
   "outputs": [],
   "source": [
    "lang = []  \n",
    "languages= driver.find_elements(By.XPATH,\"//span[@itemprop='programmingLanguage']\") \n",
    "for i in languages:\n",
    "    lang.append(i.text)"
   ]
  },
  {
   "cell_type": "code",
   "execution_count": 32,
   "id": "63c90ef3",
   "metadata": {},
   "outputs": [
    {
     "name": "stdout",
     "output_type": "stream",
     "text": [
      "['TypeScript', 'Python', 'C', 'Jupyter Notebook', 'Python', 'Dart', 'TypeScript', 'Python', 'JavaScript', 'Swift', 'C', 'JavaScript', 'CSS', 'C#', 'Rust', 'Python', 'C++', 'Java', 'Python', 'TypeScript', 'Go', 'TypeScript']\n"
     ]
    }
   ],
   "source": [
    "print(lang)"
   ]
  },
  {
   "cell_type": "markdown",
   "id": "d51b63ac",
   "metadata": {},
   "source": [
    "# 6. Scrape the details of top 100 songs on billiboard.com.\n",
    "\n",
    "Url = https:/www.billboard.com/\n",
    "\n",
    "You have to find the following details:\n",
    "\n",
    "A) Song name\n",
    "\n",
    "B) Artist name\n",
    "\n",
    "C) Last week rank\n",
    "\n",
    "D) Peak rank\n",
    "\n",
    "E) Weeks on board\n",
    "\n",
    "Note: - From the home page you have to click on the charts option then hot 100-page link through code."
   ]
  },
  {
   "cell_type": "code",
   "execution_count": 33,
   "id": "471417c5",
   "metadata": {},
   "outputs": [],
   "source": [
    "#connecting to web drivers\n",
    "driver = webdriver.Chrome(r\"C:\\Users\\ASUS\\Downloads\\chromedriver_win32 (1)\\chromedriver.exe\")"
   ]
  },
  {
   "cell_type": "code",
   "execution_count": 34,
   "id": "4a0a8b2f",
   "metadata": {},
   "outputs": [],
   "source": [
    "#maximizing automated windows\n",
    "driver.maximize_window()"
   ]
  },
  {
   "cell_type": "code",
   "execution_count": 36,
   "id": "7a9d2c74",
   "metadata": {},
   "outputs": [],
   "source": [
    "#opening website in automated chrome window\n",
    "url = 'https:/www.billboard.com/'\n",
    "driver.get(url)"
   ]
  },
  {
   "cell_type": "code",
   "execution_count": 37,
   "id": "f96a877a",
   "metadata": {},
   "outputs": [],
   "source": [
    "#clicking using absolute xpath function\n",
    "search_btn =driver.find_element(By.XPATH,\"//*[@id='main-wrapper']/header/div/div[2]/div/div/div[2]/div[2]/div/div/nav/ul/li[1]/a\")\n",
    "search_btn.click()"
   ]
  },
  {
   "cell_type": "code",
   "execution_count": 38,
   "id": "4490f0d3",
   "metadata": {},
   "outputs": [],
   "source": [
    "#clicking using absolute xpath function\n",
    "search_btn =driver.find_element(By.XPATH,\"//*[@id='main-wrapper']/main/div[2]/div[3]/div/div/div[2]/div/div[1]/a/span/span\")\n",
    "search_btn.click()"
   ]
  },
  {
   "cell_type": "code",
   "execution_count": 39,
   "id": "e871c4ae",
   "metadata": {},
   "outputs": [],
   "source": [
    "song_name = []  \n",
    "name= driver.find_elements(By.XPATH,\"//h3[@id='title-of-a-story']\") \n",
    "for i in name:\n",
    "    song_name.append(i.text)"
   ]
  },
  {
   "cell_type": "code",
   "execution_count": 40,
   "id": "3dd0822f",
   "metadata": {},
   "outputs": [
    {
     "name": "stdout",
     "output_type": "stream",
     "text": [
      "['', '', '', '', '', '', 'Anti-Hero', '', '', '', 'All I Want For Christmas Is You', '', '', '', \"Rockin' Around The Christmas Tree\", '', '', '', 'Unholy', '', '', '', 'Jingle Bell Rock', '', '', '', 'A Holly Jolly Christmas', '', '', '', 'Rich Flex', '', '', '', 'Bad Habit', '', '', '', \"It's The Most Wonderful Time Of The Year\", '', '', '', 'Last Christmas', '', '', '', \"I'm Good (Blue)\", '', '', '', 'The Christmas Song (Merry Christmas To You)', '', '', '', 'Feliz Navidad', '', '', '', 'As It Was', '', '', '', 'Die For You', '', '', '', 'Sleigh Ride', '', '', '', 'Underneath The Tree', '', '', '', 'Let It Snow, Let It Snow, Let It Snow', '', '', '', \"It's Beginning To Look A Lot Like Christmas\", '', '', '', 'Cuff It', '', '', '', 'Under The Influence', '', '', '', 'Lift Me Up', '', '', '', 'Christmas (Baby Please Come Home)', '', '', '', 'Santa Tell Me', '', '', '', 'You Proof', '', '', '', 'Super Freaky Girl', '', '', '', 'I Like You (A Happier Song)', '', '', '', 'Something In The Orange', '', '', '', \"It's Beginning To Look A Lot Like Christmas\", '', '', '', 'Deck The Halls', '', '', '', 'White Christmas', '', '', '', 'Wasted On You', '', '', '', 'Jingle Bells', '', '', '', 'Rudolph The Red-Nosed Reindeer', '', '', '', 'Just Wanna Rock', '', '', '', 'Made You Look', '', '', '', 'Tomorrow 2', '', '', '', 'Vegas', '', '', '', 'Here Comes Santa Claus (Right Down Santa Claus Lane)', '', '', '', 'Wait For U', '', '', '', 'Golden Hour', '', '', '', \"You're A Mean One, Mr. Grinch\", '', '', '', 'Blue Christmas', '', '', '', 'Titi Me Pregunto', '', '', '', \"I Ain't Worried\", '', '', '', 'Jimmy Cooks', '', '', '', 'Sunroof', '', '', '', 'About Damn Time', '', '', '', \"Santa Claus Is Comin' To Town\", '', '', '', 'She Had Me At Heads Carolina', '', '', '', 'Fall In Love', '', '', '', 'Lavender Haze', '', '', '', 'Spin Bout U', '', '', '', 'Until I Found You', '', '', '', 'Thank God', '', '', '', 'Circo Loco', '', '', '', \"Victoria's Secret\", '', '', '', 'On BS', '', '', '', 'Major Distribution', '', '', '', 'Son Of A Sinner', '', '', '', 'Rock And A Hard Place', '', '', '', 'What My World Spins Around', '', '', '', \"Star Walkin' (League Of Legends Worlds Anthem)\", '', '', '', 'Pussy & Millions', '', '', '', 'Wait In The Truck', '', '', '', 'Shirt', '', '', '', 'Hold Me Closer', '', '', '', 'Half Of Me', '', '', '', \"Don't Come Lookin'\", '', '', '', 'Bejeweled', '', '', '', 'Midnight Rain', '', '', '', 'Romantic Homicide', '', '', '', 'Maroon', '', '', '', 'Free Mind', '', '', '', 'Privileged Rappers', '', '', '', 'Whiskey On You', '', '', '', 'Billie Eilish.', '', '', '', 'Karma', '', '', '', 'Broke Boys', '', '', '', \"You're On Your Own, Kid\", '', '', '', 'BackOutsideBoyz', '', '', '', 'Heyy', '', '', '', 'Snow On The Beach', '', '', '', 'No Se Va', '', '', '', 'All Mine', '', '', '', 'California Breeze', '', '', '', 'Calm Down', '', '', '', 'Hours In Silence', '', '', '', 'Country On', '', '', '', 'Freestyle', '', '', '', 'Last Christmas', '', '', '', 'Jumbotron Shit Poppin', '', '', '', 'Pick Me Up', '', '', '', 'Heart Like A Truck', '', '', '', 'La Bachata', '', '', '', 'Someday At Christmas', '', '', '', 'Vigilante Shit', '', '', '', 'Forget Me', '', '', '', 'Going, Going, Gone', '', '', '', 'Miss You', '', '', '', \"Patty Jenkins' ‘Wonder Woman 3’ Not Moving Forward as DC Movies Hit Turning Point (Exclusive)\", 'Helena Christensen Leaves Little to the Imagination in These Daring & Dark Lace Lingerie Sets', 'Careful — Lensa is Using Your Photos to Train Their AI', 'Milwaukee Mom Killed By 10-Year-Old Son After Refusing To Buy A VR Headset', 'Kelli Giddish Thanks ‘Law & Order: SVU’ Fans as Final Episode Airs', 'Ludacris, Mercedes-Benz Partner For Atlanta Shoe Donation', 'Lululemon Proves Activewear Still in Demand, Even Among Cautious Shoppers', 'Jerry Jones and John Goff Merging Esports Venture Onto Nasdaq', '', 'Follow Us', '', 'The Daily', 'Have a Tip?']\n"
     ]
    }
   ],
   "source": [
    "print(song_name)"
   ]
  },
  {
   "cell_type": "code",
   "execution_count": 41,
   "id": "b41ec88a",
   "metadata": {},
   "outputs": [],
   "source": [
    "artist_name = []  \n",
    "name= driver.find_elements(By.XPATH,\"//span[@class='c-label  a-no-trucate a-font-primary-s lrv-u-font-size-14@mobile-max u-line-height-normal@mobile-max u-letter-spacing-0021 lrv-u-display-block a-truncate-ellipsis-2line u-max-width-330 u-max-width-230@tablet-only']\") \n",
    "for i in name:\n",
    "    artist_name.append(i.text)"
   ]
  },
  {
   "cell_type": "code",
   "execution_count": 42,
   "id": "888128f8",
   "metadata": {},
   "outputs": [
    {
     "name": "stdout",
     "output_type": "stream",
     "text": [
      "['Mariah Carey', 'Brenda Lee', 'Sam Smith & Kim Petras', 'Bobby Helms', 'Burl Ives', 'Drake & 21 Savage', 'Steve Lacy', 'Andy Williams', 'Wham!', 'David Guetta & Bebe Rexha', 'Nat King Cole', 'Jose Feliciano', 'Harry Styles', 'The Weeknd', 'The Ronettes', 'Kelly Clarkson', 'Dean Martin', 'Perry Como And The Fontane Sisters With Mitchell Ayres And His Orchestra', 'Beyonce', 'Chris Brown', 'Rihanna', 'Darlene Love', 'Ariana Grande', 'Morgan Wallen', 'Nicki Minaj', 'Post Malone Featuring Doja Cat', 'Zach Bryan', 'Michael Buble', 'Nat King Cole', 'Bing Crosby', 'Morgan Wallen', 'Frank Sinatra', 'Gene Autry', 'Lil Uzi Vert', 'Meghan Trainor', 'GloRilla & Cardi B', 'Doja Cat', 'Gene Autry', 'Future Featuring Drake & Tems', 'JVKE', 'Thurl Ravenscroft', 'Elvis Presley', 'Bad Bunny', 'OneRepublic', 'Drake Featuring 21 Savage', 'Nicky Youre & dazy', 'Lizzo', 'Jackson 5', 'Cole Swindell', 'Bailey Zimmerman', 'Taylor Swift', 'Drake & 21 Savage', 'Stephen Sanchez', 'Kane Brown With Katelyn Brown', 'Drake & 21 Savage', 'Jax', 'Drake & 21 Savage', 'Drake & 21 Savage', 'Jelly Roll', 'Bailey Zimmerman', 'Jordan Davis', 'Lil Nas X', 'Drake & 21 Savage Featuring Travis Scott', 'HARDY Featuring Lainey Wilson', 'SZA', 'Elton John & Britney Spears', 'Thomas Rhett Featuring Riley Green', 'Jackson Dean', 'Taylor Swift', 'Taylor Swift', 'd4vd', 'Taylor Swift', 'Tems', 'Drake & 21 Savage', 'Nate Smith', 'Armani White', 'Taylor Swift', 'Drake & 21 Savage', 'Taylor Swift', 'Drake', 'Lil Baby', 'Taylor Swift Featuring Lana Del Rey', 'Grupo Frontera', 'Brent Faiyaz', 'Lil Baby', 'Rema & Selena Gomez', 'Drake & 21 Savage', 'Luke Bryan', 'Lil Baby', 'Lauren Spencer-Smith', 'Drake', 'Gabby Barrett', 'Lainey Wilson', 'Manuel Turizo', 'Lizzo', 'Taylor Swift', 'Lewis Capaldi', 'Luke Combs', 'Oliver Tree & Robin Schulz']\n"
     ]
    }
   ],
   "source": [
    "print(artist_name)"
   ]
  },
  {
   "cell_type": "code",
   "execution_count": 44,
   "id": "7e5e96e8",
   "metadata": {},
   "outputs": [],
   "source": [
    "last_rank = []  \n",
    "last_week= driver.find_elements(By.XPATH,\"//li[@class='o-chart-results-list__item // a-chart-color u-width-72 u-width-55@mobile-max u-width-55@tablet-only lrv-u-flex lrv-u-flex-shrink-0 lrv-u-align-items-center lrv-u-justify-content-center lrv-u-border-b-1 u-border-b-0@mobile-max lrv-u-border-color-grey-light u-background-color-white-064@mobile-max u-hidden@mobile-max']\") \n",
    "for i in last_week:\n",
    "    last_rank.append(i.text)"
   ]
  },
  {
   "cell_type": "code",
   "execution_count": 45,
   "id": "3804c2b6",
   "metadata": {},
   "outputs": [
    {
     "name": "stdout",
     "output_type": "stream",
     "text": [
      "['1', '6', '5', '54', '6', '48', '3', '10', '9', '45', '10', '28', '2', '4', '4', '22', '19', '29', '23', '27', '7', '14', '34', '34', '42', '22', '8', '35', '12', '18', '40', '18', '48', '17', '41', '21', '43', '14', '16', '16', '14', '12', '11', '5', '-', '13', '-', '14', '13', '29', '15', '16', '18', '26', '17', '32', '-', '11', '-', '4', '-', '26', '20', '55', '-', '5', '-', '18', '21', '7', '24', '6', '22', '10', '25', '26', '-', '11', '29', '31', '35', '14', '-', '5', '-', '4', '28', '30', '27', '25', '36', '24', '33', '27', '44', '33', '-', '3', '38', '27', '49', '31', '26', '6', '31', '4', '45', '22', '46', '12', '37', '4', '59', '18', '39', '4', '30', '4', '61', '22', '54', '25', '55', '16', '64', '10', '47', '4', '53', '13', '63', '5', '51', '14', '56', '15', '60', '14', '50', '6', '52', '6', '72', '13', '58', '6', '74', '20', '62', '4', '71', '24', '75', '12', '65', '6', '68', '4', '67', '6', '66', '4', '80', '8', '69', '6', '79', '10', '93', '17', '81', '7', '82', '13', '70', '4', '83', '15', '90', '12', '-', '1', '77', '4', '87', '18', '86', '3', '94', '15', '-', '1', '73', '6', '-', '6', '98', '3', '91', '6']\n"
     ]
    }
   ],
   "source": [
    "print(last_rank)"
   ]
  },
  {
   "cell_type": "code",
   "execution_count": 46,
   "id": "8f51ae91",
   "metadata": {},
   "outputs": [],
   "source": [
    "peak_rank = []  \n",
    "pr= driver.find_elements(By.XPATH,\"//li[@class='o-chart-results-list__item // a-chart-bg-color a-chart-color u-width-72 u-width-55@mobile-max u-width-55@tablet-only lrv-u-flex lrv-u-flex-shrink-0 lrv-u-align-items-center lrv-u-justify-content-center lrv-u-background-color-grey-lightest lrv-u-border-b-1 u-border-b-0@mobile-max lrv-u-border-color-grey-light u-hidden@mobile-max']\") \n",
    "for i in pr:\n",
    "    peak_rank.append(i.text)"
   ]
  },
  {
   "cell_type": "code",
   "execution_count": 47,
   "id": "ce8f061e",
   "metadata": {},
   "outputs": [
    {
     "name": "stdout",
     "output_type": "stream",
     "text": [
      "['', '1', '', '1', '', '2', '', '1', '', '3', '', '4', '', '2', '', '1', '', '5', '', '7', '', '7', '', '11', '', '6', '', '1', '', '12', '', '10', '', '12', '', '8', '', '12', '', '13', '', '14', '', '2', '', '16', '', '17', '', '5', '', '1', '', '3', '', '12', '', '20', '', '30', '', '12', '', '9', '', '33', '', '16', '', '21', '', '24', '', '9', '', '10', '', '26', '', '1', '', '35', '', '32', '', '33', '', '5', '', '6', '', '1', '', '4', '', '1', '', '41', '', '16', '', '29', '', '2', '', '5', '', '38', '', '22', '', '8', '', '35', '', '4', '', '3', '', '31', '', '24', '', '41', '', '32', '', '6', '', '51', '', '11', '', '6', '', '52', '', '50', '', '6', '', '5', '', '33', '', '3', '', '46', '', '7', '', '44', '', '58', '', '9', '', '12', '', '8', '', '9', '', '21', '', '4', '', '57', '', '42', '', '4', '', '74', '', '11', '', '72', '', '63', '', '91', '', '16', '', '69', '', '86', '', '67', '', '96', '', '10', '', '95', '', '98', '', '84']\n"
     ]
    }
   ],
   "source": [
    "print(peak_rank)"
   ]
  },
  {
   "cell_type": "code",
   "execution_count": 48,
   "id": "fdcfc923",
   "metadata": {},
   "outputs": [],
   "source": [
    "wob = []  \n",
    "weeks_on_board= driver.find_elements(By.XPATH,\"//li[@class='o-chart-results-list__item // a-chart-color u-width-72 u-width-55@mobile-max u-width-55@tablet-only lrv-u-flex lrv-u-flex-shrink-0 lrv-u-align-items-center lrv-u-justify-content-center lrv-u-border-b-1 u-border-b-0@mobile-max lrv-u-border-color-grey-light u-background-color-white-064@mobile-max u-hidden@mobile-max']\") \n",
    "for i in weeks_on_board:\n",
    "    wob.append(i.text)"
   ]
  },
  {
   "cell_type": "code",
   "execution_count": 49,
   "id": "bc6324cd",
   "metadata": {},
   "outputs": [
    {
     "name": "stdout",
     "output_type": "stream",
     "text": [
      "['1', '6', '5', '54', '6', '48', '3', '10', '9', '45', '10', '28', '2', '4', '4', '22', '19', '29', '23', '27', '7', '14', '34', '34', '42', '22', '8', '35', '12', '18', '40', '18', '48', '17', '41', '21', '43', '14', '16', '16', '14', '12', '11', '5', '-', '13', '-', '14', '13', '29', '15', '16', '18', '26', '17', '32', '-', '11', '-', '4', '-', '26', '20', '55', '-', '5', '-', '18', '21', '7', '24', '6', '22', '10', '25', '26', '-', '11', '29', '31', '35', '14', '-', '5', '-', '4', '28', '30', '27', '25', '36', '24', '33', '27', '44', '33', '-', '3', '38', '27', '49', '31', '26', '6', '31', '4', '45', '22', '46', '12', '37', '4', '59', '18', '39', '4', '30', '4', '61', '22', '54', '25', '55', '16', '64', '10', '47', '4', '53', '13', '63', '5', '51', '14', '56', '15', '60', '14', '50', '6', '52', '6', '72', '13', '58', '6', '74', '20', '62', '4', '71', '24', '75', '12', '65', '6', '68', '4', '67', '6', '66', '4', '80', '8', '69', '6', '79', '10', '93', '17', '81', '7', '82', '13', '70', '4', '83', '15', '90', '12', '-', '1', '77', '4', '87', '18', '86', '3', '94', '15', '-', '1', '73', '6', '-', '6', '98', '3', '91', '6']\n"
     ]
    }
   ],
   "source": [
    "print(wob)"
   ]
  },
  {
   "cell_type": "markdown",
   "id": "245abc6b",
   "metadata": {},
   "source": [
    "# 7. Scrape the details of Data science recruiters from naukri.com.\n",
    "\n",
    "Url = https://www.naukri.com/\n",
    "\n",
    "You have to find the following details:\n",
    "\n",
    "A) Name\n",
    "\n",
    "B) Designation\n",
    "\n",
    "C) Company\n",
    "\n",
    "D) Skills they hire for\n",
    "\n",
    "E) Location\n",
    "\n",
    "Note: - From naukri.com homepage click on the recruiters option and the on the search pane type Data science and\n",
    "click on search. All this should be done through code\n"
   ]
  },
  {
   "cell_type": "code",
   "execution_count": 2,
   "id": "a228523c",
   "metadata": {},
   "outputs": [],
   "source": [
    "#connecting to web drivers\n",
    "driver = webdriver.Chrome(r\"C:\\Users\\ASUS\\Downloads\\chromedriver_win32 (1)\\chromedriver.exe\")"
   ]
  },
  {
   "cell_type": "code",
   "execution_count": 3,
   "id": "5558d49d",
   "metadata": {},
   "outputs": [],
   "source": [
    "#maximizing automated windows\n",
    "driver.maximize_window()"
   ]
  },
  {
   "cell_type": "code",
   "execution_count": 4,
   "id": "717d6f22",
   "metadata": {},
   "outputs": [],
   "source": [
    "#opening website in automated chrome window\n",
    "url = 'https:/www.naukri.com/'\n",
    "driver.get(url)"
   ]
  },
  {
   "cell_type": "code",
   "execution_count": 5,
   "id": "887e772e",
   "metadata": {},
   "outputs": [],
   "source": [
    "#finding web element for search job bar\n",
    "search_job = driver.find_element(By.CLASS_NAME,\"suggestor-input\")\n",
    "search_job.send_keys(\"Data science\")"
   ]
  },
  {
   "cell_type": "code",
   "execution_count": 6,
   "id": "04a9abae",
   "metadata": {},
   "outputs": [],
   "source": [
    "#clicking using absolute xpath function\n",
    "search_btn =driver.find_element(By.CLASS_NAME,\"qsbSubmit\")\n",
    "search_btn.click()"
   ]
  },
  {
   "cell_type": "code",
   "execution_count": 56,
   "id": "b4983bfc",
   "metadata": {},
   "outputs": [
    {
     "data": {
      "text/plain": [
       "20"
      ]
     },
     "execution_count": 56,
     "metadata": {},
     "output_type": "execute_result"
    }
   ],
   "source": [
    "#extracting all the web elements containing job titles\n",
    "job_titles =[]\n",
    "title_tags = driver.find_elements(By.XPATH,\"//a[@ class='title fw500 ellipsis']\" )\n",
    "for i in title_tags :\n",
    "    job_titles.append(i.text)\n",
    "len(job_titles)    "
   ]
  },
  {
   "cell_type": "code",
   "execution_count": 57,
   "id": "6993d837",
   "metadata": {},
   "outputs": [
    {
     "name": "stdout",
     "output_type": "stream",
     "text": [
      "['Analyst-Data Science', 'Analyst-Data Science', 'Data Science - Engineering Manager', 'Data Scientist - Data Science', 'Sr. Manager - Data Science', 'Data Science- Data Scientist/Sr. Data Scientist', 'Lead Data Scientist - Data Sciences', 'Manager, Data Science 1', 'Manager, Data Science 1', 'Data Analyst / Data Science', 'Analyst-Data Science', 'Technology Analyst / Data Science / Machine Learning', 'Senior Analyst-Data Science', 'Data Science Lead - Forecasting', 'ACN - Applied Intelligence - Finance - Data Science - 09', 'Paytm - Data Science - Lead', 'Engineering Manager - Data Science', 'Consultant - Data Science', 'Senior Data Science Engineer', 'ACN - Applied Intelligence - CC - Data Science (IN) - 06']\n"
     ]
    }
   ],
   "source": [
    "print(job_titles)"
   ]
  },
  {
   "cell_type": "code",
   "execution_count": 60,
   "id": "cad9cdc8",
   "metadata": {},
   "outputs": [
    {
     "data": {
      "text/plain": [
       "20"
      ]
     },
     "execution_count": 60,
     "metadata": {},
     "output_type": "execute_result"
    }
   ],
   "source": [
    "#extracting all the web elements containing company names\n",
    "company_names =[]\n",
    "company_tags = driver.find_elements(By.XPATH,'//a[@class=\"subTitle ellipsis fleft\"]')\n",
    "for i in company_tags:\n",
    "    company_names.append(i.text)\n",
    "len(company_names)    "
   ]
  },
  {
   "cell_type": "code",
   "execution_count": 61,
   "id": "a0842500",
   "metadata": {},
   "outputs": [
    {
     "name": "stdout",
     "output_type": "stream",
     "text": [
      "['AMERICAN EXPRESS', 'AMERICAN EXPRESS', 'Paytm', 'Bristlecone', 'AMERICAN EXPRESS', 'Jet2 Travel Technologies', 'GEP', 'Paypal', 'Xoom', 'Infoweb', 'Accenture', 'Infosys', 'Accenture', 'Cargill', 'Accenture', 'Paytm', 'Zeta Inc.', 'Affine Analytics', 'Bizongo', 'Accenture']\n"
     ]
    }
   ],
   "source": [
    "print(company_names)"
   ]
  },
  {
   "cell_type": "code",
   "execution_count": 62,
   "id": "e1b593b2",
   "metadata": {},
   "outputs": [
    {
     "data": {
      "text/plain": [
       "20"
      ]
     },
     "execution_count": 62,
     "metadata": {},
     "output_type": "execute_result"
    }
   ],
   "source": [
    "#extracting all the web elements containing location\n",
    "location =[]\n",
    "loctn_tags = driver.find_elements(By.XPATH,'//li[@class=\"fleft grey-text br2 placeHolderLi location\"]')\n",
    "for i in loctn_tags :\n",
    "    location.append(i.text)\n",
    "len(location)    "
   ]
  },
  {
   "cell_type": "code",
   "execution_count": 63,
   "id": "81194668",
   "metadata": {},
   "outputs": [
    {
     "name": "stdout",
     "output_type": "stream",
     "text": [
      "['Gurgaon/Gurugram', 'Gurgaon/Gurugram', 'New Delhi, Bangalore/Bengaluru', 'Mumbai', 'Gurgaon/Gurugram', 'Pune', 'Remote', 'Chennai', 'Chennai', 'Pune', 'Bangalore/Bengaluru', 'Bangalore/Bengaluru', 'Mumbai', 'Bangalore/Bengaluru', 'Bangalore/Bengaluru', 'Noida, Mumbai, Bangalore/Bengaluru', 'Bangalore/Bengaluru', 'Bangalore/Bengaluru', 'Mumbai, Bangalore/Bengaluru', 'Gurgaon/Gurugram']\n"
     ]
    }
   ],
   "source": [
    "print(location)"
   ]
  },
  {
   "cell_type": "code",
   "execution_count": 7,
   "id": "7ad1f6e3",
   "metadata": {},
   "outputs": [],
   "source": [
    "job_url = []\n",
    "\n",
    "url =driver.find_elements(By.XPATH,\"//a[@class='subTitle ellipsis fleft']\")\n",
    "for i in url:\n",
    "    job_url.append(i.get_attribute('href'))\n",
    "    "
   ]
  },
  {
   "cell_type": "code",
   "execution_count": 65,
   "id": "28b8848f",
   "metadata": {},
   "outputs": [
    {
     "name": "stdout",
     "output_type": "stream",
     "text": [
      "['https://www.naukri.com/american-express-jobs-careers-106810', 'https://www.naukri.com/american-express-jobs-careers-106810', 'https://www.naukri.com/paytm-jobs-careers-59290', 'https://www.naukri.com/bristlecone-jobs-careers-27802', 'https://www.naukri.com/american-express-jobs-careers-106810', 'https://www.naukri.com/jet2-travel-technologies-jobs-careers-123579651', 'https://www.naukri.com/gep-jobs-careers-21647', 'https://www.naukri.com/paypal-jobs-careers-218520', 'https://www.naukri.com/xoom-jobs-careers-123483045', 'https://www.naukri.com/infoweb-jobs-careers-187164', 'https://www.naukri.com/accenture-jobs-careers-7682', 'https://www.naukri.com/infosys-jobs-careers-11244', 'https://www.naukri.com/accenture-jobs-careers-7682', 'https://www.naukri.com/cargill-jobs-careers-22524', 'https://www.naukri.com/accenture-jobs-careers-7682', 'https://www.naukri.com/paytm-jobs-careers-59290', 'https://www.naukri.com/zeta-jobs-careers-63588', 'https://www.naukri.com/affine-analytics-jobs-careers-1852182', 'https://www.naukri.com/bizongo-jobs-careers-2156102', 'https://www.naukri.com/accenture-jobs-careers-7682']\n"
     ]
    }
   ],
   "source": [
    "print(job_url)"
   ]
  },
  {
   "cell_type": "code",
   "execution_count": 11,
   "id": "79f04c13",
   "metadata": {},
   "outputs": [],
   "source": [
    "skills = []\n",
    "for i in job_url[0:20]:\n",
    "    driver.get(i)\n",
    "    time.sleep(5)\n",
    "    try:\n",
    "   \n",
    "        skills_details = driver.find_element(By.XPATH,\"//*[@id='root']/main/div[2]/div[2]/section[2]/div[1]/div/ul[4]\") \n",
    "        skills.append(skills_details.text)\n",
    "    except NoSuchElementException:\n",
    "        skills.append(\"--\")\n",
    "   "
   ]
  },
  {
   "cell_type": "code",
   "execution_count": 12,
   "id": "9b19b3dd",
   "metadata": {},
   "outputs": [
    {
     "name": "stdout",
     "output_type": "stream",
     "text": [
      "['--', '--', '--', '--', '--', '--', '--', '--', '--', '--', '--', '--', '--', '--', '--', '--', '--', '--', '--', '--']\n"
     ]
    }
   ],
   "source": [
    "print(skills)"
   ]
  },
  {
   "cell_type": "markdown",
   "id": "3b39900f",
   "metadata": {},
   "source": [
    "# 8. Scrape the details of Highest selling novels.\n",
    "\n",
    "Url = https://www.theguardian.com/news/datablog/2012/aug/09/best-selling-books-all-time-fifty-shades-greycompare/\n",
    "\n",
    "You have to find the following details:\n",
    "\n",
    "A) Book name\n",
    "\n",
    "B) Author name\n",
    "\n",
    "C) Volumes sold\n",
    "\n",
    "D) Publisher\n",
    "\n",
    "E) Genre\n"
   ]
  },
  {
   "cell_type": "code",
   "execution_count": 13,
   "id": "59a0b2de",
   "metadata": {},
   "outputs": [],
   "source": [
    "#connecting to web drivers\n",
    "driver = webdriver.Chrome(r\"C:\\Users\\ASUS\\Downloads\\chromedriver_win32 (1)\\chromedriver.exe\")"
   ]
  },
  {
   "cell_type": "code",
   "execution_count": 14,
   "id": "986dfc99",
   "metadata": {},
   "outputs": [],
   "source": [
    "#maximizing automated windows\n",
    "driver.maximize_window()"
   ]
  },
  {
   "cell_type": "code",
   "execution_count": 15,
   "id": "c5cf3af0",
   "metadata": {},
   "outputs": [],
   "source": [
    "#opening website in automated chrome window\n",
    "url = 'https://www.theguardian.com/news/datablog/2012/aug/09/best-selling-books-all-time-fifty-shades-greycompare/'\n",
    "driver.get(url)"
   ]
  },
  {
   "cell_type": "code",
   "execution_count": 16,
   "id": "2a87b3dd",
   "metadata": {},
   "outputs": [],
   "source": [
    "#giving the page not found error."
   ]
  },
  {
   "cell_type": "markdown",
   "id": "9acf5add",
   "metadata": {},
   "source": [
    "# 9. Scrape the details most watched tv series of all time from imdb.com.\n",
    "\n",
    "Url = https://www.imdb.com/list/ls095964455/\n",
    "\n",
    "You have to find the following details:\n",
    "\n",
    "A) Name\n",
    "\n",
    "B) Year span\n",
    "\n",
    "C) Genre\n",
    "\n",
    "D) Run time\n",
    "\n",
    "E) Ratings\n",
    "\n",
    "F) Votes"
   ]
  },
  {
   "cell_type": "code",
   "execution_count": 2,
   "id": "90fb8a3b",
   "metadata": {},
   "outputs": [],
   "source": [
    "#connecting to web drivers\n",
    "driver = webdriver.Chrome(r\"C:\\Users\\ASUS\\Downloads\\chromedriver_win32 (1)\\chromedriver.exe\")"
   ]
  },
  {
   "cell_type": "code",
   "execution_count": 3,
   "id": "27c176ea",
   "metadata": {},
   "outputs": [],
   "source": [
    "#maximizing automated windows\n",
    "driver.maximize_window()"
   ]
  },
  {
   "cell_type": "code",
   "execution_count": 4,
   "id": "cf2f25db",
   "metadata": {},
   "outputs": [],
   "source": [
    "#opening website in automated chrome window\n",
    "url = 'https://www.imdb.com/list/ls095964455/'\n",
    "driver.get(url)"
   ]
  },
  {
   "cell_type": "code",
   "execution_count": 5,
   "id": "f253cf13",
   "metadata": {},
   "outputs": [
    {
     "data": {
      "text/plain": [
       "100"
      ]
     },
     "execution_count": 5,
     "metadata": {},
     "output_type": "execute_result"
    }
   ],
   "source": [
    "#extracting all the web elements of name of series:\n",
    "name =[]\n",
    "title_tags = driver.find_elements(By.XPATH,\"//h3[@class='lister-item-header']\" )\n",
    "for i in title_tags :\n",
    "    name.append(i.text)\n",
    "len(name)    "
   ]
  },
  {
   "cell_type": "code",
   "execution_count": 6,
   "id": "5352a62d",
   "metadata": {},
   "outputs": [
    {
     "name": "stdout",
     "output_type": "stream",
     "text": [
      "['1. Game of Thrones (2011–2019)', '2. Stranger Things (2016– )', '3. The Walking Dead (2010–2022)', '4. 13 Reasons Why (2017–2020)', '5. The 100 (2014–2020)', '6. Orange Is the New Black (2013–2019)', '7. Riverdale (2017– )', \"8. Grey's Anatomy (2005– )\", '9. The Flash (2014–2023)', '10. Arrow (2012–2020)', '11. Money Heist (2017–2021)', '12. The Big Bang Theory (2007–2019)', '13. Black Mirror (2011–2019)', '14. Sherlock (2010–2017)', '15. Vikings (2013–2020)', '16. Pretty Little Liars (2010–2017)', '17. The Vampire Diaries (2009–2017)', '18. American Horror Story (2011– )', '19. Breaking Bad (2008–2013)', '20. Lucifer (2016–2021)', '21. Supernatural (2005–2020)', '22. Prison Break (2005–2017)', '23. How to Get Away with Murder (2014–2020)', '24. Teen Wolf (2011–2017)', '25. The Simpsons (1989– )', '26. Once Upon a Time (2011–2018)', '27. Narcos (2015–2017)', '28. Daredevil (2015–2018)', '29. Friends (1994–2004)', '30. How I Met Your Mother (2005–2014)', '31. Suits (2011–2019)', '32. Mr. Robot (2015–2019)', '33. The Originals (2013–2018)', '34. Supergirl (2015–2021)', '35. Gossip Girl (2007–2012)', '36. Sense8 (2015–2018)', '37. Gotham (2014–2019)', '38. Westworld (2016–2022)', '39. Jessica Jones (2015–2019)', '40. Modern Family (2009–2020)', '41. Rick and Morty (2013– )', '42. Shadowhunters (2016–2019)', '43. The End of the F***ing World (2017–2019)', '44. House of Cards (2013–2018)', '45. Dark (2017–2020)', '46. Elite (2018– )', '47. Sex Education (2019– )', '48. Shameless (2011–2021)', '49. New Girl (2011–2018)', '50. Agents of S.H.I.E.L.D. (2013–2020)', '51. You (2018– )', '52. Dexter (2006–2013)', '53. Fear the Walking Dead (2015– )', '54. Family Guy (1999– )', '55. The Blacklist (2013– )', '56. Lost (2004–2010)', '57. Peaky Blinders (2013–2022)', '58. House (2004–2012)', '59. Quantico (2015–2018)', '60. Orphan Black (2013–2017)', '61. Homeland (2011–2020)', '62. Blindspot (2015–2020)', \"63. DC's Legends of Tomorrow (2016–2022)\", \"64. The Handmaid's Tale (2017– )\", '65. Chilling Adventures of Sabrina (2018–2020)', '66. The Good Doctor (2017– )', '67. Jane the Virgin (2014–2019)', '68. Glee (2009–2015)', '69. South Park (1997– )', '70. Brooklyn Nine-Nine (2013–2021)', '71. Under the Dome (2013–2015)', '72. The Umbrella Academy (2019–2023)', '73. True Detective (2014–2019)', '74. The OA (2016–2019)', '75. Desperate Housewives (2004–2012)', '76. Better Call Saul (2015–2022)', '77. Bates Motel (2013–2017)', '78. The Punisher (2017–2019)', '79. Atypical (2017–2021)', '80. Dynasty (2017–2022)', '81. This Is Us (2016–2022)', '82. The Good Place (2016–2020)', '83. Iron Fist (2017–2018)', '84. The Rain (2018–2020)', '85. Mindhunter (2017–2019)', '86. Revenge (2011–2015)', '87. Luke Cage (2016–2018)', '88. Scandal (2012–2018)', '89. The Defenders (2017)', '90. Big Little Lies (2017–2019)', '91. Insatiable (2018–2019)', '92. The Mentalist (2008–2015)', '93. The Crown (2016– )', '94. Chernobyl (2019)', '95. iZombie (2015–2019)', '96. Reign (2013–2017)', '97. A Series of Unfortunate Events (2017–2019)', '98. Criminal Minds (2005– )', '99. Scream: The TV Series (2015–2019)', '100. The Haunting of Hill House (2018)']\n"
     ]
    }
   ],
   "source": [
    "print(name)"
   ]
  },
  {
   "cell_type": "code",
   "execution_count": 7,
   "id": "053acb58",
   "metadata": {},
   "outputs": [
    {
     "data": {
      "text/plain": [
       "100"
      ]
     },
     "execution_count": 7,
     "metadata": {},
     "output_type": "execute_result"
    }
   ],
   "source": [
    "#extracting all the web elements of genre of series:\n",
    "genre =[]\n",
    "genre_tags = driver.find_elements(By.XPATH,\"//span[@class='genre']\" )\n",
    "for i in genre_tags :\n",
    "    genre.append(i.text)\n",
    "len(genre)    "
   ]
  },
  {
   "cell_type": "code",
   "execution_count": 8,
   "id": "5f295012",
   "metadata": {},
   "outputs": [
    {
     "name": "stdout",
     "output_type": "stream",
     "text": [
      "['Action, Adventure, Drama', 'Drama, Fantasy, Horror', 'Drama, Horror, Thriller', 'Drama, Mystery, Thriller', 'Drama, Mystery, Sci-Fi', 'Comedy, Crime, Drama', 'Crime, Drama, Mystery', 'Drama, Romance', 'Action, Adventure, Drama', 'Action, Adventure, Crime', 'Action, Crime, Drama', 'Comedy, Romance', 'Drama, Mystery, Sci-Fi', 'Crime, Drama, Mystery', 'Action, Adventure, Drama', 'Drama, Mystery, Romance', 'Drama, Fantasy, Horror', 'Drama, Horror, Sci-Fi', 'Crime, Drama, Thriller', 'Crime, Drama, Fantasy', 'Drama, Fantasy, Horror', 'Action, Crime, Drama', 'Crime, Drama, Mystery', 'Action, Drama, Fantasy', 'Animation, Comedy', 'Adventure, Fantasy, Romance', 'Biography, Crime, Drama', 'Action, Crime, Drama', 'Comedy, Romance', 'Comedy, Romance', 'Comedy, Drama', 'Crime, Drama, Thriller', 'Drama, Fantasy, Horror', 'Action, Adventure, Drama', 'Drama, Romance', 'Drama, Mystery, Sci-Fi', 'Action, Crime, Drama', 'Drama, Mystery, Sci-Fi', 'Action, Crime, Drama', 'Comedy, Drama, Romance', 'Animation, Adventure, Comedy', 'Action, Drama, Fantasy', 'Adventure, Comedy, Crime', 'Drama', 'Crime, Drama, Mystery', 'Crime, Drama, Thriller', 'Comedy, Drama', 'Comedy, Drama', 'Comedy, Romance', 'Action, Adventure, Drama', 'Crime, Drama, Romance', 'Crime, Drama, Mystery', 'Drama, Horror, Sci-Fi', 'Animation, Comedy', 'Crime, Drama, Mystery', 'Adventure, Drama, Fantasy', 'Crime, Drama', 'Drama, Mystery', 'Crime, Drama, Mystery', 'Drama, Sci-Fi, Thriller', 'Crime, Drama, Mystery', 'Action, Crime, Drama', 'Action, Adventure, Drama', 'Drama, Sci-Fi, Thriller', 'Drama, Fantasy, Horror', 'Drama', 'Comedy', 'Comedy, Drama, Music', 'Animation, Comedy', 'Comedy, Crime', 'Drama, Mystery, Sci-Fi', 'Action, Adventure, Comedy', 'Crime, Drama, Mystery', 'Drama, Fantasy, Mystery', 'Comedy, Drama, Mystery', 'Crime, Drama', 'Drama, Horror, Mystery', 'Action, Crime, Drama', 'Comedy, Drama', 'Drama', 'Comedy, Drama, Romance', 'Comedy, Drama, Fantasy', 'Action, Adventure, Crime', 'Drama, Sci-Fi, Thriller', 'Crime, Drama, Mystery', 'Drama, Mystery, Thriller', 'Action, Crime, Drama', 'Drama, Thriller', 'Action, Adventure, Crime', 'Crime, Drama, Mystery', 'Comedy, Drama, Thriller', 'Crime, Drama, Mystery', 'Biography, Drama, History', 'Drama, History, Thriller', 'Comedy, Crime, Drama', 'Drama', 'Adventure, Comedy, Drama', 'Crime, Drama, Mystery', 'Comedy, Crime, Drama', 'Drama, Horror, Mystery']\n"
     ]
    }
   ],
   "source": [
    "print(genre)"
   ]
  },
  {
   "cell_type": "code",
   "execution_count": 9,
   "id": "68a66acb",
   "metadata": {},
   "outputs": [
    {
     "data": {
      "text/plain": [
       "100"
      ]
     },
     "execution_count": 9,
     "metadata": {},
     "output_type": "execute_result"
    }
   ],
   "source": [
    "#extracting all the web elements of run_time of series:\n",
    "run_time =[]\n",
    "run_time_tags = driver.find_elements(By.XPATH,\"//span[@class='runtime']\" )\n",
    "for i in run_time_tags :\n",
    "    run_time.append(i.text)\n",
    "len(run_time)    "
   ]
  },
  {
   "cell_type": "code",
   "execution_count": 10,
   "id": "5902db79",
   "metadata": {},
   "outputs": [
    {
     "name": "stdout",
     "output_type": "stream",
     "text": [
      "['57 min', '51 min', '44 min', '60 min', '43 min', '59 min', '45 min', '41 min', '43 min', '42 min', '70 min', '22 min', '60 min', '88 min', '44 min', '44 min', '43 min', '60 min', '49 min', '42 min', '44 min', '44 min', '43 min', '41 min', '22 min', '60 min', '49 min', '54 min', '22 min', '22 min', '44 min', '49 min', '45 min', '43 min', '42 min', '60 min', '42 min', '62 min', '56 min', '22 min', '23 min', '42 min', '25 min', '51 min', '60 min', '60 min', '45 min', '46 min', '22 min', '45 min', '45 min', '53 min', '44 min', '22 min', '43 min', '44 min', '60 min', '44 min', '42 min', '44 min', '55 min', '42 min', '42 min', '60 min', '60 min', '41 min', '60 min', '44 min', '22 min', '22 min', '43 min', '60 min', '55 min', '60 min', '45 min', '46 min', '45 min', '53 min', '30 min', '42 min', '45 min', '22 min', '55 min', '45 min', '60 min', '44 min', '55 min', '43 min', '50 min', '60 min', '45 min', '43 min', '58 min', '330 min', '42 min', '42 min', '50 min', '42 min', '45 min', '572 min']\n"
     ]
    }
   ],
   "source": [
    "print(run_time)"
   ]
  },
  {
   "cell_type": "code",
   "execution_count": 11,
   "id": "11600cae",
   "metadata": {},
   "outputs": [
    {
     "data": {
      "text/plain": [
       "100"
      ]
     },
     "execution_count": 11,
     "metadata": {},
     "output_type": "execute_result"
    }
   ],
   "source": [
    "#extracting all the web elements of ratings of series:\n",
    "ratings =[]\n",
    "rating_tags = driver.find_elements(By.XPATH,\"//div[@class='ipl-rating-star small']\" )\n",
    "for i in rating_tags :\n",
    "    ratings.append(i.text)\n",
    "len(ratings)    "
   ]
  },
  {
   "cell_type": "code",
   "execution_count": 12,
   "id": "2c6d94a1",
   "metadata": {},
   "outputs": [
    {
     "name": "stdout",
     "output_type": "stream",
     "text": [
      "['9.2', '8.7', '8.1', '7.5', '7.6', '8.1', '6.6', '7.6', '7.6', '7.5', '8.2', '8.2', '8.8', '9.1', '8.5', '7.4', '7.7', '8', '9.5', '8.1', '8.4', '8.3', '8.1', '7.7', '8.7', '7.7', '8.8', '8.6', '8.9', '8.3', '8.5', '8.6', '8.3', '6.2', '7.5', '8.2', '7.8', '8.5', '7.9', '8.5', '9.1', '6.5', '8.1', '8.7', '8.7', '7.3', '8.4', '8.6', '7.8', '7.5', '7.7', '8.7', '6.8', '8.2', '8', '8.3', '8.8', '8.7', '6.7', '8.3', '8.3', '7.3', '6.8', '8.4', '7.4', '8.1', '7.9', '6.8', '8.7', '8.4', '6.5', '7.9', '8.9', '7.8', '7.6', '8.9', '8.1', '8.5', '8.3', '7.3', '8.7', '8.2', '6.4', '6.3', '8.6', '7.8', '7.3', '7.7', '7.2', '8.5', '6.5', '8.1', '8.7', '9.4', '7.8', '7.4', '7.8', '8.1', '7.1', '8.6']\n"
     ]
    }
   ],
   "source": [
    "print(ratings)"
   ]
  },
  {
   "cell_type": "code",
   "execution_count": 13,
   "id": "09e81295",
   "metadata": {},
   "outputs": [
    {
     "data": {
      "text/plain": [
       "100"
      ]
     },
     "execution_count": 13,
     "metadata": {},
     "output_type": "execute_result"
    }
   ],
   "source": [
    "#extracting all the web elements of votes of series:\n",
    "votes =[]\n",
    "votes_tags = driver.find_elements(By.XPATH,\"//span[@name='nv']\" )\n",
    "for i in votes_tags :\n",
    "    votes.append(i.text)\n",
    "len(votes)    "
   ]
  },
  {
   "cell_type": "code",
   "execution_count": 14,
   "id": "e96ae8c9",
   "metadata": {},
   "outputs": [
    {
     "name": "stdout",
     "output_type": "stream",
     "text": [
      "['2,090,707', '1,180,209', '989,320', '292,937', '252,079', '302,989', '145,538', '308,998', '346,380', '432,028', '476,178', '807,356', '545,865', '924,517', '531,862', '168,065', '322,347', '319,752', '1,873,469', '324,541', '445,801', '535,450', '152,306', '148,980', '407,547', '225,486', '422,087', '440,919', '993,088', '683,286', '410,953', '387,796', '136,642', '124,441', '175,502', '155,030', '230,967', '505,078', '215,220', '430,759', '519,849', '64,126', '190,959', '504,709', '385,495', '79,714', '280,714', '243,453', '225,134', '217,681', '240,589', '725,525', '130,459', '340,053', '249,827', '553,575', '546,663', '465,000', '61,275', '111,553', '342,092', '74,413', '105,255', '237,222', '95,834', '95,577', '51,166', '149,017', '369,674', '316,271', '107,046', '248,337', '570,565', '105,472', '129,640', '525,708', '108,753', '236,632', '89,489', '22,883', '144,456', '160,760', '131,766', '37,614', '288,835', '120,502', '131,859', '74,353', '108,520', '199,654', '29,129', '185,766', '216,971', '748,900', '68,718', '50,201', '61,492', '198,440', '41,585', '245,337']\n"
     ]
    }
   ],
   "source": [
    "print(votes)"
   ]
  },
  {
   "cell_type": "code",
   "execution_count": 15,
   "id": "a8582ffd",
   "metadata": {},
   "outputs": [
    {
     "data": {
      "text/html": [
       "<div>\n",
       "<style scoped>\n",
       "    .dataframe tbody tr th:only-of-type {\n",
       "        vertical-align: middle;\n",
       "    }\n",
       "\n",
       "    .dataframe tbody tr th {\n",
       "        vertical-align: top;\n",
       "    }\n",
       "\n",
       "    .dataframe thead th {\n",
       "        text-align: right;\n",
       "    }\n",
       "</style>\n",
       "<table border=\"1\" class=\"dataframe\">\n",
       "  <thead>\n",
       "    <tr style=\"text-align: right;\">\n",
       "      <th></th>\n",
       "      <th>Name</th>\n",
       "      <th>Genre</th>\n",
       "      <th>Run_Time</th>\n",
       "      <th>Ratings</th>\n",
       "      <th>Votes</th>\n",
       "    </tr>\n",
       "  </thead>\n",
       "  <tbody>\n",
       "    <tr>\n",
       "      <th>0</th>\n",
       "      <td>1. Game of Thrones (2011–2019)</td>\n",
       "      <td>Action, Adventure, Drama</td>\n",
       "      <td>57 min</td>\n",
       "      <td>9.2</td>\n",
       "      <td>2,090,707</td>\n",
       "    </tr>\n",
       "    <tr>\n",
       "      <th>1</th>\n",
       "      <td>2. Stranger Things (2016– )</td>\n",
       "      <td>Drama, Fantasy, Horror</td>\n",
       "      <td>51 min</td>\n",
       "      <td>8.7</td>\n",
       "      <td>1,180,209</td>\n",
       "    </tr>\n",
       "    <tr>\n",
       "      <th>2</th>\n",
       "      <td>3. The Walking Dead (2010–2022)</td>\n",
       "      <td>Drama, Horror, Thriller</td>\n",
       "      <td>44 min</td>\n",
       "      <td>8.1</td>\n",
       "      <td>989,320</td>\n",
       "    </tr>\n",
       "    <tr>\n",
       "      <th>3</th>\n",
       "      <td>4. 13 Reasons Why (2017–2020)</td>\n",
       "      <td>Drama, Mystery, Thriller</td>\n",
       "      <td>60 min</td>\n",
       "      <td>7.5</td>\n",
       "      <td>292,937</td>\n",
       "    </tr>\n",
       "    <tr>\n",
       "      <th>4</th>\n",
       "      <td>5. The 100 (2014–2020)</td>\n",
       "      <td>Drama, Mystery, Sci-Fi</td>\n",
       "      <td>43 min</td>\n",
       "      <td>7.6</td>\n",
       "      <td>252,079</td>\n",
       "    </tr>\n",
       "    <tr>\n",
       "      <th>...</th>\n",
       "      <td>...</td>\n",
       "      <td>...</td>\n",
       "      <td>...</td>\n",
       "      <td>...</td>\n",
       "      <td>...</td>\n",
       "    </tr>\n",
       "    <tr>\n",
       "      <th>95</th>\n",
       "      <td>96. Reign (2013–2017)</td>\n",
       "      <td>Drama</td>\n",
       "      <td>42 min</td>\n",
       "      <td>7.4</td>\n",
       "      <td>50,201</td>\n",
       "    </tr>\n",
       "    <tr>\n",
       "      <th>96</th>\n",
       "      <td>97. A Series of Unfortunate Events (2017–2019)</td>\n",
       "      <td>Adventure, Comedy, Drama</td>\n",
       "      <td>50 min</td>\n",
       "      <td>7.8</td>\n",
       "      <td>61,492</td>\n",
       "    </tr>\n",
       "    <tr>\n",
       "      <th>97</th>\n",
       "      <td>98. Criminal Minds (2005– )</td>\n",
       "      <td>Crime, Drama, Mystery</td>\n",
       "      <td>42 min</td>\n",
       "      <td>8.1</td>\n",
       "      <td>198,440</td>\n",
       "    </tr>\n",
       "    <tr>\n",
       "      <th>98</th>\n",
       "      <td>99. Scream: The TV Series (2015–2019)</td>\n",
       "      <td>Comedy, Crime, Drama</td>\n",
       "      <td>45 min</td>\n",
       "      <td>7.1</td>\n",
       "      <td>41,585</td>\n",
       "    </tr>\n",
       "    <tr>\n",
       "      <th>99</th>\n",
       "      <td>100. The Haunting of Hill House (2018)</td>\n",
       "      <td>Drama, Horror, Mystery</td>\n",
       "      <td>572 min</td>\n",
       "      <td>8.6</td>\n",
       "      <td>245,337</td>\n",
       "    </tr>\n",
       "  </tbody>\n",
       "</table>\n",
       "<p>100 rows × 5 columns</p>\n",
       "</div>"
      ],
      "text/plain": [
       "                                              Name                     Genre  \\\n",
       "0                   1. Game of Thrones (2011–2019)  Action, Adventure, Drama   \n",
       "1                      2. Stranger Things (2016– )    Drama, Fantasy, Horror   \n",
       "2                  3. The Walking Dead (2010–2022)   Drama, Horror, Thriller   \n",
       "3                    4. 13 Reasons Why (2017–2020)  Drama, Mystery, Thriller   \n",
       "4                           5. The 100 (2014–2020)    Drama, Mystery, Sci-Fi   \n",
       "..                                             ...                       ...   \n",
       "95                           96. Reign (2013–2017)                     Drama   \n",
       "96  97. A Series of Unfortunate Events (2017–2019)  Adventure, Comedy, Drama   \n",
       "97                     98. Criminal Minds (2005– )     Crime, Drama, Mystery   \n",
       "98           99. Scream: The TV Series (2015–2019)      Comedy, Crime, Drama   \n",
       "99          100. The Haunting of Hill House (2018)    Drama, Horror, Mystery   \n",
       "\n",
       "   Run_Time Ratings      Votes  \n",
       "0    57 min     9.2  2,090,707  \n",
       "1    51 min     8.7  1,180,209  \n",
       "2    44 min     8.1    989,320  \n",
       "3    60 min     7.5    292,937  \n",
       "4    43 min     7.6    252,079  \n",
       "..      ...     ...        ...  \n",
       "95   42 min     7.4     50,201  \n",
       "96   50 min     7.8     61,492  \n",
       "97   42 min     8.1    198,440  \n",
       "98   45 min     7.1     41,585  \n",
       "99  572 min     8.6    245,337  \n",
       "\n",
       "[100 rows x 5 columns]"
      ]
     },
     "execution_count": 15,
     "metadata": {},
     "output_type": "execute_result"
    }
   ],
   "source": [
    "#now let's create a dataframe for scrapped data \n",
    "tv_series = pd.DataFrame()\n",
    "tv_series['Name'] = name\n",
    "tv_series['Genre'] = genre\n",
    "tv_series['Run_Time']=run_time\n",
    "tv_series['Ratings'] = ratings\n",
    "tv_series['Votes'] = votes\n",
    "tv_series\n"
   ]
  },
  {
   "cell_type": "markdown",
   "id": "61364722",
   "metadata": {},
   "source": [
    "# 10. Details of Datasets from UCI machine learning repositories.\n",
    "\n",
    "Url = https://archive.ics.uci.edu/\n",
    "\n",
    "You have to find the following details:\n",
    "\n",
    "A) Dataset name\n",
    "\n",
    "B) Data type\n",
    "\n",
    "C) Task\n",
    "\n",
    "D) Attribute type\n",
    "\n",
    "E) No of instances\n",
    "\n",
    "F) No of attribute\n",
    "\n",
    "G) Year\n",
    "\n",
    "Note: - from the home page you have to go to the ShowAllDataset page through code."
   ]
  },
  {
   "cell_type": "code",
   "execution_count": 16,
   "id": "a38c9443",
   "metadata": {},
   "outputs": [],
   "source": [
    "#connecting to web drivers\n",
    "driver = webdriver.Chrome(r\"C:\\Users\\ASUS\\Downloads\\chromedriver_win32 (1)\\chromedriver.exe\")"
   ]
  },
  {
   "cell_type": "code",
   "execution_count": 17,
   "id": "4dba7b74",
   "metadata": {},
   "outputs": [],
   "source": [
    "#maximizing automated windows\n",
    "driver.maximize_window()"
   ]
  },
  {
   "cell_type": "code",
   "execution_count": 18,
   "id": "b2c0e5b4",
   "metadata": {},
   "outputs": [],
   "source": [
    "#opening website in automated chrome window\n",
    "url = ' https://archive.ics.uci.edu/'\n",
    "driver.get(url)"
   ]
  },
  {
   "cell_type": "code",
   "execution_count": 19,
   "id": "6368a8fe",
   "metadata": {},
   "outputs": [],
   "source": [
    "#clicking using absolute xpath function\n",
    "search_btn =driver.find_element(By.XPATH,\"/html/body/table[1]/tbody/tr/td[2]/span[2]/a/font/b\")\n",
    "search_btn.click()"
   ]
  },
  {
   "cell_type": "code",
   "execution_count": 36,
   "id": "6042b347",
   "metadata": {},
   "outputs": [
    {
     "data": {
      "text/plain": [
       "1"
      ]
     },
     "execution_count": 36,
     "metadata": {},
     "output_type": "execute_result"
    }
   ],
   "source": [
    "dataset_name =[]\n",
    "name_tags = driver.find_elements(By.XPATH,\"/html/body/table[2]/tbody/tr/td[2]\" )\n",
    "for i in name_tags :\n",
    "    dataset_name.append(i.text)"
   ]
  },
  {
   "cell_type": "code",
   "execution_count": 37,
   "id": "6257b3f5",
   "metadata": {},
   "outputs": [
    {
     "name": "stdout",
     "output_type": "stream",
     "text": [
      "[\"622 Data Sets\\nTable View  List View\\nName\\nData Types\\nDefault Task\\nAttribute Types\\n# Instances\\n# Attributes\\nYear\\n  Zoo\\nMultivariate \\nClassification \\nCategorical, Integer \\n101 \\n17 \\n1990 \\n  Z-Alizadeh Sani\\n  Classification \\nInteger, Real \\n303 \\n56 \\n2017 \\n  YouTube Spam Collection\\nText \\nClassification \\n  1956 \\n5 \\n2017 \\n  YouTube Multiview Video Games Dataset\\nMultivariate, Text \\nClassification, Clustering \\nInteger, Real \\n120000 \\n1000000 \\n2013 \\n  Youtube cookery channels viewers comments in Hinglish\\nMultivariate, Text \\nClassification \\n  9800 \\n3 \\n2019 \\n  YouTube Comedy Slam Preference Data\\nText \\nClassification \\n  1138562 \\n3 \\n2012 \\n  Yeast\\nMultivariate \\nClassification \\nReal \\n1484 \\n8 \\n1996 \\n  YearPredictionMSD\\nMultivariate \\nRegression \\nReal \\n515345 \\n90 \\n2011 \\n  Yacht Hydrodynamics\\nMultivariate \\nRegression \\nReal \\n308 \\n7 \\n2013 \\n  Wisesight Sentiment Corpus\\nMultivariate, Text \\nClassification \\n  26737 \\n4 \\n2020 \\n  WISDM Smartphone and Smartwatch Activity and Biometrics Dataset\\nMultivariate, Time-Series \\nClassification \\nReal \\n15630426 \\n6 \\n2019 \\n  Wireless Indoor Localization\\nMultivariate \\nClassification \\nReal \\n2000 \\n7 \\n2017 \\n  Wine Quality\\nMultivariate \\nClassification, Regression \\nReal \\n4898 \\n12 \\n2009 \\n  Wine\\nMultivariate \\nClassification \\nInteger, Real \\n178 \\n13 \\n1991 \\n  Wilt\\nMultivariate \\nClassification \\n  4889 \\n6 \\n2014 \\n  Wikipedia Math Essentials\\nTime-Series \\nRegression \\nReal \\n731 \\n1068 \\n2021 \\n  Wikipedia Math Essentials\\nTime-Series \\nRegression \\nReal \\n731 \\n1068 \\n2021 \\n  wiki4HE\\nMultivariate \\nRegression, Clustering, Causal-Discovery \\n  913 \\n53 \\n2015 \\n  Wholesale customers\\nMultivariate \\nClassification, Clustering \\nInteger \\n440 \\n8 \\n2014 \\n  Wheat kernels\\nMultivariate \\nClassification \\nReal \\n314 \\n15 \\n2020 \\n  WESAD (Wearable Stress and Affect Detection)\\nMultivariate, Time-Series \\nClassification, Regression \\nReal \\n63000000 \\n12 \\n2018 \\n  Weight Lifting Exercises monitored with Inertial Measurement Units\\nMultivariate \\nClassification \\nReal \\n39242 \\n152 \\n2013 \\n  Website Phishing\\nMultivariate \\nClassification \\nInteger \\n1353 \\n10 \\n2016 \\n  Wearable Computing: Classification of Body Postures and Movements (PUC-Rio)\\nSequential \\nClassification \\nInteger, Real \\n165632 \\n18 \\n2013 \\n  Waveform Database Generator (Version 2)\\nMultivariate, Data-Generator \\nClassification \\nReal \\n5000 \\n40 \\n1988 \\n  Waveform Database Generator (Version 1)\\nMultivariate, Data-Generator \\nClassification \\nReal \\n5000 \\n21 \\n1988 \\n  Wave Energy Converters\\nMultivariate \\nRegression \\nReal \\n288000 \\n49 \\n2019 \\n  Wave Energy Converters\\nMultivariate \\nRegression \\nReal \\n288000 \\n49 \\n2019 \\n  Water Treatment Plant\\nMultivariate \\nClustering \\nInteger, Real \\n527 \\n38 \\n1993 \\n  Water Quality Prediction\\nMultivariate \\nRegression \\nReal \\n705 \\n11 \\n2020 \\n  Wall-Following Robot Navigation Data\\nMultivariate, Sequential \\nClassification \\nReal \\n5456 \\n24 \\n2010 \\n  Volcanoes on Venus - JARtool experiment\\nImage \\nClassification \\n          Victorian Era Authorship Attribution\\nText \\nClassification \\n  93600 \\n1000 \\n2018 \\n  Vicon Physical Action Data Set\\nTime-Series \\nClassification \\nReal \\n3000 \\n27 \\n2011 \\n  Vertebral Column\\nMultivariate \\nClassification \\nReal \\n310 \\n6 \\n2011 \\n  Vehicle routing and scheduling problems\\nMultivariate \\nClustering \\nInteger, Real \\n18 \\n9 \\n2019 \\n  USPTO Algorithm Challenge, run by NASA-Harvard Tournament Lab and TopCoder Problem: Pat\\nDomain-Theory \\nClassification \\nInteger \\n306 \\n5 \\n2013 \\n  User Profiling and Abusive Language Detection Dataset\\n  Classification \\n  65919 \\n3 \\n2019 \\n  User Knowledge Modeling\\nMultivariate \\nClassification, Clustering \\nInteger \\n403 \\n5 \\n2013 \\n  User Identification From Walking Activity\\nUnivariate, Sequential, Time-Series \\nClassification, Clustering \\nReal \\n    2014 \\n  US Census Data (1990)\\nMultivariate \\nClustering \\nCategorical \\n2458285 \\n68 \\n    URL Reputation\\nMultivariate, Time-Series \\nClassification \\nInteger, Real \\n2396130 \\n3231961 \\n2009 \\n  UrbanGB, urban road accidents coordinates labelled by the urban center\\nUnivariate \\nClustering \\nReal \\n360177 \\n2 \\n2019 \\n  Urban Land Cover\\nMultivariate \\nClassification \\n  168 \\n148 \\n2014 \\n  Unmanned Aerial Vehicle (UAV) Intrusion Detection\\nMultivariate \\nClassification \\nReal \\n17256 \\n55 \\n2020 \\n  Unmanned Aerial Vehicle (UAV) Intrusion Detection\\nMultivariate \\nClassification \\nReal \\n17256 \\n55 \\n2020 \\n  UNIX User Data\\nText, Sequential \\n            University of Tehran Question Dataset 2016 (UTQD.2016)\\nText \\nClassification \\n  1175 \\n3 \\n2017 \\n  University\\nMultivariate \\nClassification \\nCategorical, Integer \\n285 \\n17 \\n1988 \\n  Undocumented\\n              Ultrasonic flowmeter diagnostics\\nMultivariate \\nClassification \\nReal \\n540 \\n173 \\n2018 \\n  UJIIndoorLoc-Mag\\nMultivariate, Sequential, Time-Series \\nClassification, Regression, Clustering \\nInteger, Real \\n40000 \\n13 \\n2015 \\n  UJIIndoorLoc\\nMultivariate \\nClassification, Regression \\nInteger, Real \\n21048 \\n529 \\n2014 \\n  UJI Pen Characters (Version 2)\\nMultivariate, Sequential \\nClassification \\nInteger \\n11640 \\n  2009 \\n  UJI Pen Characters\\nMultivariate, Sequential \\nClassification \\nInteger \\n1364 \\n  2007 \\n  UbiqLog (smartphone lifelogging)\\nMultivariate \\nCausal-Discovery \\n  9782222 \\n  2016 \\n  Twitter Data set for Arabic Sentiment Analysis\\nText \\nClassification \\n  2000 \\n2 \\n2014 \\n  Twin gas sensor arrays\\nMultivariate, Time-Series, Domain-Theory \\nClassification, Regression \\nReal \\n640 \\n480000 \\n2016 \\n  Twenty Newsgroups\\nText \\n    20000 \\n  1999 \\n  TV News Channel Commercial Detection Dataset\\nMultivariate \\nClassification, Clustering \\nReal \\n129685 \\n12 \\n2015 \\n  Turkiye Student Evaluation\\nMultivariate \\nClassification, Clustering \\n  5820 \\n33 \\n2013 \\n  Turkish Spam V01\\nText \\nClassification \\n  826 \\n2 \\n2019 \\n  Turkish Music Emotion Dataset\\nMultivariate \\nClassification \\nInteger, Real \\n400 \\n50 \\n2020 \\n  Turkish Headlines Dataset\\nText \\nClassification, Clustering \\n  4200 \\n7 \\n2021 \\n  TUANDROMD ( Tezpur University Android Malware Dataset)\\nMultivariate \\nClassification \\nInteger \\n4465 \\n241 \\n2021 \\n  TTC-3600: Benchmark dataset for Turkish text categorization\\nText \\nClassification, Clustering \\nInteger \\n3600 \\n4814 \\n2017 \\n  Travel Reviews\\nMultivariate, Text \\nClassification, Clustering \\nReal \\n980 \\n11 \\n2018 \\n  Trains\\nMultivariate \\nClassification \\nCategorical \\n10 \\n32 \\n1994 \\n  Traffic Flow Forecasting\\nMultivariate \\nRegression \\nReal \\n2101 \\n47 \\n2020 \\n  Tic-Tac-Toe Endgame\\nMultivariate \\nClassification \\nCategorical \\n958 \\n9 \\n1991 \\n  Thyroid Disease\\nMultivariate, Domain-Theory \\nClassification \\nCategorical, Real \\n7200 \\n21 \\n1987 \\n  Thoracic Surgery Data\\nMultivariate \\nClassification \\nInteger, Real \\n470 \\n17 \\n2013 \\n  Tennis Major Tournament Match Statistics\\nMultivariate \\nClassification, Regression, Clustering \\nInteger, Real \\n127 \\n42 \\n2014 \\n  Teaching Assistant Evaluation\\nMultivariate \\nClassification \\nCategorical, Integer \\n151 \\n5 \\n1997 \\n  Taxi Service Trajectory - Prediction Challenge, ECML PKDD 2015\\nMultivariate, Sequential, Time-Series, Domain-Theory \\nClustering, Causal-Discovery \\nReal \\n1710671 \\n9 \\n2015 \\n  Tarvel Review Ratings\\nMultivariate, Text \\nClassification, Clustering \\nReal \\n5456 \\n25 \\n2018 \\n  TamilSentiMix\\n  Classification \\n  15744 \\n  2021 \\n  Tamilnadu Electricity Board Hourly Readings\\nMultivariate \\nClassification, Regression, Clustering \\nReal \\n45781 \\n5 \\n2013 \\n  Taiwanese Bankruptcy Prediction\\nMultivariate \\nClassification \\nInteger \\n6819 \\n96 \\n2020 \\n  Syskill and Webert Web Page Ratings\\nMultivariate, Text \\nClassification \\nCategorical \\n332 \\n5 \\n1998 \\n  Synthetic Control Chart Time Series\\nTime-Series \\nClassification, Clustering \\nReal \\n600 \\n  1999 \\n  Synchronous Machine Data Set\\nMultivariate \\nRegression \\nReal \\n557 \\n5 \\n2021 \\n  Synchronous Machine Data Set\\nMultivariate \\nRegression \\nReal \\n557 \\n5 \\n2021 \\n  Swarm Behaviour\\nMultivariate \\nClassification \\nReal \\n24017 \\n2400 \\n2020 \\n  SUSY\\n  Classification \\nReal \\n5000000 \\n18 \\n2014 \\n  Superconductivty Data\\nMultivariate \\nRegression \\nReal \\n21263 \\n81 \\n2018 \\n  Student Performance on an entrance examination\\nMultivariate \\nClassification \\n  666 \\n11 \\n2018 \\n  Student Performance\\nMultivariate \\nClassification, Regression \\nInteger \\n649 \\n33 \\n2014 \\n  Student Loan Relational\\nDomain-Theory \\n    1000 \\n  1993 \\n  Student Academics Performance\\nMultivariate \\nClassification \\n  300 \\n22 \\n2018 \\n  StoneFlakes\\nMultivariate \\nClassification, Clustering, Causal-Discovery \\nReal \\n79 \\n8 \\n2014 \\n  Stock portfolio performance\\nMultivariate \\nRegression \\nReal \\n315 \\n12 \\n2016 \\n  Stock keeping units\\nMultivariate \\nClustering \\nInteger, Real \\n2279 \\n9 \\n2019 \\n  Stock keeping units\\nMultivariate \\nClustering \\nInteger, Real \\n2279 \\n9 \\n2019 \\n  Steel Plates Faults\\nMultivariate \\nClassification \\nInteger, Real \\n1941 \\n27 \\n2010 \\n  Steel Industry Energy Consumption Dataset\\nMultivariate \\nRegression \\n  35040 \\n11 \\n2021 \\n  Steel Industry Energy Consumption Dataset\\nMultivariate \\nRegression \\nInteger \\n35040 \\n11 \\n2020 \\n  Statlog Project\\n          1992 \\n  Statlog (Vehicle Silhouettes)\\nMultivariate \\nClassification \\nInteger \\n946 \\n18 \\n    Statlog (Shuttle)\\nMultivariate \\nClassification \\nInteger \\n58000 \\n9 \\n    Statlog (Landsat Satellite)\\nMultivariate \\nClassification \\nInteger \\n6435 \\n36 \\n1993 \\n  Statlog (Image Segmentation)\\nMultivariate \\nClassification \\nReal \\n2310 \\n19 \\n1990 \\n  Statlog (Heart)\\nMultivariate \\nClassification \\nCategorical, Real \\n270 \\n13 \\n    Statlog (German Credit Data)\\nMultivariate \\nClassification \\nCategorical, Integer \\n1000 \\n20 \\n1994 \\n  Statlog (Australian Credit Approval)\\nMultivariate \\nClassification \\nCategorical, Integer, Real \\n690 \\n14 \\n    Sports articles for objectivity analysis\\nMultivariate, Text \\nClassification \\nInteger \\n1000 \\n59 \\n2018 \\n  Sponge\\nMultivariate \\nClustering \\nCategorical, Integer \\n76 \\n45 \\n    Spoken Arabic Digit\\nMultivariate, Time-Series \\nClassification \\nReal \\n8800 \\n13 \\n2010 \\n  SPECTF Heart\\nMultivariate \\nClassification \\nInteger \\n267 \\n44 \\n2001 \\n  SPECT Heart\\nMultivariate \\nClassification \\nCategorical \\n267 \\n22 \\n2001 \\n  Speaker Accent Recognition\\nMultivariate \\nClassification \\nReal \\n329 \\n12 \\n2020 \\n  Spambase\\nMultivariate \\nClassification \\nInteger, Real \\n4601 \\n57 \\n1999 \\n  Soybean (Small)\\nMultivariate \\nClassification \\nCategorical \\n47 \\n35 \\n1987 \\n  Soybean (Large)\\nMultivariate \\nClassification \\nCategorical \\n307 \\n35 \\n1988 \\n  South German Credit (UPDATE)\\nMultivariate \\nClassification, Regression, Clustering \\nInteger, Real \\n1000 \\n21 \\n2020 \\n  South German Credit\\nMultivariate \\nClassification, Regression, Clustering \\nInteger, Real \\n1000 \\n21 \\n2019 \\n  Somerville Happiness Survey\\n  Classification \\nInteger \\n143 \\n7 \\n2018 \\n  Solar Flare\\nMultivariate \\nRegression \\nCategorical \\n1389 \\n10 \\n1989 \\n  SMS Spam Collection\\nMultivariate, Text, Domain-Theory \\nClassification, Clustering \\nReal \\n5574 \\n  2012 \\n  SML2010\\nMultivariate, Sequential, Time-Series, Text \\nRegression \\nReal \\n4137 \\n24 \\n2014 \\n  Smartphone-Based Recognition of Human Activities and Postural Transitions\\nMultivariate, Time-Series \\nClassification \\nReal \\n10929 \\n561 \\n2015 \\n  Smartphone Dataset for Human Activity Recognition (HAR) in Ambient Assisted Living (AAL)\\nTime-Series \\nClassification \\nReal \\n5744 \\n561 \\n2016 \\n  Skin Segmentation\\nUnivariate \\nClassification \\nReal \\n245057 \\n4 \\n2012 \\n  SkillCraft1 Master Table Dataset\\nMultivariate \\nRegression \\nInteger, Real \\n3395 \\n20 \\n2013 \\n  Simulated Falls and Daily Living Activities Data Set\\nTime-Series \\nClassification \\nInteger \\n3060 \\n138 \\n2018 \\n  Simulated data for survival modelling\\nMultivariate, Time-Series \\nRegression \\nInteger, Real \\n120000 \\n25 \\n2018 \\n  SIFT10M\\nMultivariate \\nCausal-Discovery \\nInteger \\n11164866 \\n128 \\n2016 \\n  Shuttle Landing Control\\nMultivariate \\nClassification \\nCategorical \\n15 \\n6 \\n1988 \\n  Shoulder Implant X-Ray Manufacturer Classification\\nMultivariate \\nClassification \\nReal \\n597 \\n1 \\n2020 \\n  Shoulder Implant X-Ray Manufacturer Classification\\nMultivariate \\nClassification \\nReal \\n597 \\n1 \\n2020 \\n  Shoulder Implant Manufacture Classification\\nMultivariate \\nClassification \\n  597 \\n1 \\n2020 \\n  Shoulder Implant Manufacture Classification\\nMultivariate \\nClassification \\n  597 \\n1 \\n2020 \\n  Shill Bidding Dataset\\nMultivariate \\nClassification, Clustering \\n  6321 \\n13 \\n2020 \\n  SGEMM GPU kernel performance\\nMultivariate \\nRegression \\nInteger \\n241600 \\n18 \\n2018 \\n  Servo\\nMultivariate \\nRegression \\nCategorical, Integer \\n167 \\n4 \\n1993 \\n  ser Knowledge Modeling Data (Students' Knowledge Levels on DC Electrical Machines)\\nMultivariate \\nClassification \\nReal \\n403 \\n5 \\n2013 \\n  Sepsis survival minimal clinical records\\nMultivariate \\nClassification \\nInteger \\n110341 \\n4 \\n2020 \\n  Seoul Bike Sharing Demand\\nMultivariate \\nRegression \\nInteger, Real \\n8760 \\n14 \\n2020 \\n  Sentiment Labelled Sentences\\nText \\nClassification \\n  3000 \\n  2015 \\n  sentiment analysis in Saudi Arabia about distance education during Covid-19\\nText \\nClassification \\nInteger \\n1765 \\n10 \\n2020 \\n  Sentence Classification\\nText \\nClassification \\nInteger \\n    2014 \\n  sEMG for Basic Hand movements\\nTime-Series \\nClassification \\nReal \\n3000 \\n2500 \\n2014 \\n  Semeion Handwritten Digit\\nMultivariate \\nClassification \\nInteger \\n1593 \\n256 \\n2008 \\n  selfBACK\\nTime-Series \\nClassification, Clustering \\nReal \\n26136 \\n6 \\n2020 \\n  seismic-bumps\\nMultivariate \\nClassification \\nReal \\n2584 \\n19 \\n2013 \\n  seeds\\nMultivariate \\nClassification, Clustering \\nReal \\n210 \\n7 \\n2012 \\n  Secondary Mushroom Dataset\\nUnivariate \\nClassification \\nReal \\n61069 \\n21 \\n2021 \\n  SECOM\\nMultivariate \\nClassification, Causal-Discovery \\nReal \\n1567 \\n591 \\n2008 \\n  SCADI\\nMultivariate \\nClassification, Clustering \\n  70 \\n206 \\n2018 \\n  Sattriya_Dance_Single_Hand_Gestures Dataset\\nMultivariate \\nClassification \\n  1450 \\n  2019 \\n  Sales_Transactions_Dataset_Weekly\\nMultivariate, Time-Series \\nClustering \\nInteger, Real \\n811 \\n53 \\n2017 \\n  Russian Corpus of Biographical Texts\\nText \\nClassification \\n  200 \\n2 \\n2020 \\n  Room Occupancy Estimation\\nMultivariate, Time-Series \\nClassification \\nReal \\n10129 \\n16 \\n2021 \\n  Roman Urdu Sentiment Analysis Dataset (RUSAD)\\nText \\nClassification \\n  11000 \\n2 \\n2021 \\n  Roman Urdu Data Set\\nText \\nClassification \\n  20000 \\n2 \\n2018 \\n  Rocket League Skillshots Data Set\\nMultivariate, Time-Series \\nClassification \\nReal \\n298 \\n  2020 \\n  Robot Execution Failures\\nMultivariate, Time-Series \\nClassification \\nInteger \\n463 \\n90 \\n1999 \\n  Risk Factor prediction of Chronic Kidney Disease\\nMultivariate \\nClassification, Regression \\nReal \\n202 \\n29 \\n2021 \\n  Rice Leaf Diseases\\nMultivariate \\nClassification \\nInteger \\n120 \\n  2019 \\n  Rice (Cammeo and Osmancik)\\nMultivariate \\nClassification \\nReal \\n3810 \\n8 \\n2019 \\n  REWEMA\\nMultivariate \\nClassification \\nInteger \\n6272 \\n632 \\n2020 \\n  Reuter_50_50\\nMultivariate, Text, Domain-Theory \\nClassification, Clustering \\nReal \\n2500 \\n10000 \\n2011 \\n  Reuters-21578 Text Categorization Collection\\nText \\nClassification \\nCategorical \\n21578 \\n5 \\n1997 \\n  Reuters Transcribed Subset\\nText \\nClassification \\n  200 \\n  2008 \\n  Reuters RCV1 RCV2 Multilingual, Multiview Text Categorization Test collection\\nMultivariate \\nClassification \\nReal \\n111740 \\n  2013 \\n  Restaurant & consumer data\\nMultivariate \\n    138 \\n47 \\n2012 \\n  Residential Building Data Set\\nMultivariate \\nRegression \\nReal \\n372 \\n105 \\n2018 \\n  Repeat Consumption Matrices\\nMultivariate \\nClustering \\nReal \\n130000 \\n21000 \\n2018 \\n  Relative location of CT slices on axial axis\\nDomain-Theory \\nRegression \\nReal \\n53500 \\n386 \\n2011 \\n  REJAFADA\\nMultivariate \\nClassification \\nInteger \\n1996 \\n6826 \\n2020 \\n  Refractive errors\\nMultivariate \\nClassification \\nInteger \\n467 \\n79 \\n2020 \\n  Record Linkage Comparison Patterns\\nMultivariate \\nClassification \\nReal \\n5749132 \\n12 \\n2011 \\n  REALDISP Activity Recognition Dataset\\nMultivariate, Time-Series \\nClassification \\nReal \\n1419 \\n120 \\n2014 \\n  Real-time Election Results: Portugal 2019\\nMultivariate, Time-Series, Text \\nRegression \\nInteger, Real \\n21643 \\n29 \\n2019 \\n  Real estate valuation data set\\nMultivariate \\nRegression \\nInteger, Real \\n414 \\n7 \\n2018 \\n  Raisin Dataset\\nMultivariate \\nClassification \\nInteger, Real \\n900 \\n8 \\n2021 \\n  Query Analytics Workloads Dataset\\nMultivariate \\nRegression, Clustering \\nReal \\n260000 \\n8 \\n2019 \\n  Quality Assessment of Digital Colposcopies\\nMultivariate \\nClassification \\nReal \\n287 \\n69 \\n2017 \\n  Qualitative_Bankruptcy\\nMultivariate \\nClassification \\n  250 \\n7 \\n2014 \\n  Qualitative Structure Activity Relationships\\nDomain-Theory \\n            Quadruped Mammals\\nMultivariate, Data-Generator \\nClassification \\nReal \\n  72 \\n1992 \\n  QtyT40I10D100K\\nSequential \\n  Integer \\n3960456 \\n4 \\n2012 \\n  QSAR oral toxicity\\nMultivariate \\nClassification \\n  8992 \\n1024 \\n2019 \\n  QSAR fish toxicity\\nMultivariate \\nRegression \\nReal \\n908 \\n7 \\n2019 \\n  QSAR fish bioconcentration factor (BCF)\\nMultivariate \\nRegression \\nInteger, Real \\n1056 \\n7 \\n2019 \\n  QSAR biodegradation\\nMultivariate \\nClassification \\nInteger, Real \\n1055 \\n41 \\n2013 \\n  QSAR Bioconcentration classes dataset\\nMultivariate \\nClassification, Regression \\n  779 \\n14 \\n2019 \\n  QSAR aquatic toxicity\\nMultivariate \\nRegression \\nReal \\n546 \\n9 \\n2019 \\n  QSAR androgen receptor\\nMultivariate \\nClassification \\n  1687 \\n1024 \\n2019 \\n  PubChem Bioassay Data\\nMultivariate \\nClassification \\nInteger, Real \\n    2011 \\n  Pseudo Periodic Synthetic Time Series\\nUnivariate, Time-Series \\n    100000 \\n  1999 \\n  Protein Data\\n              Productivity Prediction of Garment Employees\\nMultivariate, Time-Series \\nClassification, Regression \\nInteger, Real \\n1197 \\n15 \\n2020 \\n  Prodigy\\nDomain-Theory \\n            Primary Tumor\\nMultivariate \\nClassification \\nCategorical \\n339 \\n17 \\n1988 \\n  Predict keywords activities in a online social media\\nMultivariate, Sequential, Time-Series \\n  Integer, Real \\n51 \\n35 \\n2013 \\n  PPG-DaLiA\\nMultivariate, Time-Series \\nRegression \\nReal \\n8300000 \\n11 \\n2019 \\n  Power consumption of Tetouan city\\nMultivariate, Time-Series \\nRegression \\nInteger, Real \\n52417 \\n9 \\n2021 \\n  Post-Operative Patient\\nMultivariate \\nClassification \\nCategorical, Integer \\n90 \\n8 \\n1993 \\n  Polish companies bankruptcy data\\nMultivariate \\nClassification \\nReal \\n10503 \\n64 \\n2016 \\n  Poker Hand\\nMultivariate \\nClassification \\nCategorical, Integer \\n1025010 \\n11 \\n2007 \\n  PMU-UD\\nUnivariate \\nClassification \\n  5180 \\n9 \\n2018 \\n  PM2.5 Data of Five Chinese Cities\\nMultivariate, Time-Series \\nRegression \\nInteger, Real \\n52854 \\n86 \\n2017 \\n  Plants\\nMultivariate \\nClustering \\nCategorical \\n22632 \\n70 \\n2008 \\n  Planning Relax\\nUnivariate \\nClassification \\nReal \\n182 \\n13 \\n2012 \\n  Pittsburgh Bridges\\nMultivariate \\nClassification \\nCategorical, Integer \\n108 \\n13 \\n1990 \\n  Pioneer-1 Mobile Robot Data\\nMultivariate, Time-Series \\n  Categorical, Real \\n    1999 \\n  Physicochemical Properties of Protein Tertiary Structure\\nMultivariate \\nRegression \\nReal \\n45730 \\n9 \\n2013 \\n  Physical Unclonable Functions\\nMultivariate \\nClassification \\nInteger \\n6000000 \\n129 \\n2018 \\n  Phishing Websites\\n  Classification \\nInteger \\n2456 \\n30 \\n2015 \\n  Person Classification Gait Data\\nMultivariate \\nClassification \\nReal \\n48 \\n321 \\n2020 \\n  Perfume Data\\nUnivariate, Domain-Theory \\nClassification, Clustering \\nInteger \\n560 \\n2 \\n2014 \\n  Pen-Based Recognition of Handwritten Digits\\nMultivariate \\nClassification \\nInteger \\n10992 \\n16 \\n1998 \\n  PEMS-SF\\nMultivariate, Time-Series \\nClassification \\nReal \\n440 \\n138672 \\n2011 \\n  Pedestrian in Traffic Dataset\\nMultivariate, Sequential, Time-Series \\nClassification, Regression, Causal-Discovery \\nReal \\n4760 \\n14 \\n2019 \\n  Pedal Me Bicycle Deliveries\\nTime-Series \\nRegression \\nReal \\n36 \\n15 \\n2021 \\n  Parkinsons Telemonitoring\\nMultivariate \\nRegression \\nInteger, Real \\n5875 \\n26 \\n2009 \\n  Parkinsons\\nMultivariate \\nClassification \\nReal \\n197 \\n23 \\n2008 \\n  Parkinson's Disease Classification\\nMultivariate \\nClassification \\nInteger, Real \\n756 \\n754 \\n2018 \\n  Parkinson Speech Dataset with Multiple Types of Sound Recordings\\nMultivariate \\nClassification, Regression \\nInteger, Real \\n1040 \\n26 \\n2014 \\n  Parkinson Disease Spiral Drawings Using Digitized Graphics Tablet\\nMultivariate \\nClassification, Regression, Clustering \\nInteger \\n77 \\n7 \\n2017 \\n  Parkinson Dataset with replicated acoustic features\\nMultivariate \\nClassification \\n  240 \\n46 \\n2019 \\n  Parking Birmingham\\nMultivariate, Univariate, Sequential, Time-Series \\nClassification, Regression, Clustering \\nReal \\n35717 \\n4 \\n2019 \\n  Paper Reviews\\nText \\nClassification, Regression \\nInteger \\n405 \\n10 \\n2017 \\n  PANDOR\\nMultivariate \\nRecommendation \\nCategorical \\n    2018 \\n  PAMAP2 Physical Activity Monitoring\\nMultivariate, Time-Series \\nClassification \\nReal \\n3850505 \\n52 \\n2012 \\n  Page Blocks Classification\\nMultivariate \\nClassification \\nInteger, Real \\n5473 \\n10 \\n1995 \\n  p53 Mutants\\nMultivariate \\nClassification \\nReal \\n16772 \\n5409 \\n2010 \\n  Ozone Level Detection\\nMultivariate, Sequential, Time-Series \\nClassification \\nReal \\n2536 \\n73 \\n2008 \\n  Othello Domain Theory\\nDomain-Theory \\n        1991 \\n  Optical Recognition of Handwritten Digits\\nMultivariate \\nClassification \\nInteger \\n5620 \\n64 \\n1998 \\n  Optical Interconnection Network\\nMultivariate \\nClassification, Regression \\nInteger, Real \\n640 \\n10 \\n2018 \\n  OPPORTUNITY Activity Recognition\\nMultivariate, Time-Series \\nClassification \\nReal \\n2551 \\n242 \\n2012 \\n  OpinRank Review Dataset\\nText \\n        2011 \\n  Opinosis Opinion ⁄ Review\\nText \\n    51 \\n  2010 \\n  Opinion Corpus for Lebanese Arabic Reviews (OCLAR)\\nText \\nClassification \\nInteger \\n3916 \\n3916 \\n2019 \\n  Open University Learning Analytics dataset\\nMultivariate, Sequential, Time-Series \\nClassification, Regression, Clustering \\nInteger \\n    2015 \\n  Online Video Characteristics and Transcoding Time Dataset\\nMultivariate \\nRegression \\nInteger, Real \\n168286 \\n11 \\n2015 \\n  Online Shoppers Purchasing Intention Dataset\\nMultivariate \\nClassification, Clustering \\nInteger, Real \\n12330 \\n18 \\n2018 \\n  Online Retail II\\nMultivariate, Sequential, Time-Series, Text \\nClassification, Regression, Clustering \\nInteger, Real \\n1067371 \\n8 \\n2019 \\n  Online Retail\\nMultivariate, Sequential, Time-Series \\nClassification, Clustering \\nInteger, Real \\n541909 \\n8 \\n2015 \\n  Online News Popularity\\nMultivariate \\nClassification, Regression \\nInteger, Real \\n39797 \\n61 \\n2015 \\n  Online Handwritten Assamese Characters Dataset\\nMultivariate, Sequential \\nClassification \\nInteger \\n8235 \\n  2011 \\n  One-hundred plant species leaves data set\\n  Classification \\nReal \\n1600 \\n64 \\n2012 \\n  OCT data & Color Fundus Images of Left & Right Eyes\\nMultivariate \\nClassification \\nReal \\n50 \\n2 \\n2016 \\n  Occupancy Detection\\nMultivariate, Time-Series \\nClassification \\nReal \\n20560 \\n7 \\n2016 \\n  NYSK\\nMultivariate, Sequential, Text \\nClustering \\n  10421 \\n7 \\n2013 \\n  Nursery\\nMultivariate \\nClassification \\nCategorical \\n12960 \\n8 \\n1997 \\n  NSF Research Award Abstracts 1990-2003\\nText \\n    129000 \\n  2003 \\n  Northix\\nMultivariate, Univariate, Text \\nClassification \\nInteger, Real \\n115 \\n200 \\n2012 \\n  Non verbal tourists data\\nMultivariate \\nClassification, Clustering \\nInteger, Real \\n73 \\n22 \\n2021 \\n  Nomao\\nUnivariate \\nClassification \\nReal \\n34465 \\n120 \\n2012 \\n  NoisyOffice\\nMultivariate \\nClassification, Regression \\nReal \\n216 \\n216 \\n2015 \\n  NIPS Conference Papers 1987-2015\\nText \\nClustering \\nInteger \\n11463 \\n5812 \\n2016 \\n  Newspaper and magazine images segmentation dataset\\n  Classification \\n  101 \\n  2014 \\n  News Popularity in Multiple Social Media Platforms\\nMultivariate, Time-Series, Text \\nRegression \\nInteger, Real \\n93239 \\n11 \\n2018 \\n  News Aggregator\\nMultivariate \\nClassification, Clustering \\n  422937 \\n5 \\n2016 \\n  Nasarian CAD Dataset\\nMultivariate \\nClassification \\n  150 \\n52 \\n2020 \\n  Myocardial infarction complications\\nMultivariate \\nClassification \\nReal \\n1700 \\n124 \\n2020 \\n  Musk (Version 2)\\nMultivariate \\nClassification \\nInteger \\n6598 \\n168 \\n1994 \\n  Musk (Version 1)\\nMultivariate \\nClassification \\nInteger \\n476 \\n168 \\n1994 \\n  Mushroom\\nMultivariate \\nClassification \\nCategorical \\n8124 \\n22 \\n1987 \\n  Multiple Features\\nMultivariate \\nClassification \\nInteger, Real \\n2000 \\n649 \\n    Multimodal Damage Identification for Humanitarian Computing\\nMultivariate, Text \\nClassification \\nInteger \\n5879 \\n  2018 \\n  Multi-view Brain Networks\\nMultivariate \\nClassification, Clustering \\nInteger \\n70 \\n70 \\n2020 \\n  Mturk User-Perceived Clusters over Images\\nMultivariate, Text \\nClustering \\nInteger \\n180 \\n500 \\n2016 \\n  MSNBC.com Anonymous Web Data\\nSequential \\n  Categorical \\n989818 \\n      Movie\\nMultivariate, Relational \\n    10000 \\n  1999 \\n  Motion Capture Hand Postures\\nMultivariate \\nClassification, Clustering \\nReal \\n78095 \\n38 \\n2017 \\n  Moral Reasoner\\nDomain-Theory \\n    202 \\n  1994 \\n  Monolithic Columns in Troad and Mysia Region\\nMultivariate \\nClassification \\nReal \\n11 \\n19 \\n2020 \\n  Monolithic Columns in Troad and Mysia Region\\nMultivariate \\nClassification \\nReal \\n11 \\n19 \\n2020 \\n  MONK's Problems\\nMultivariate \\nClassification \\nCategorical \\n432 \\n7 \\n1992 \\n  Molecular Biology (Splice-junction Gene Sequences)\\nSequential, Domain-Theory \\nClassification \\nCategorical \\n3190 \\n61 \\n1992 \\n  Molecular Biology (Protein Secondary Structure)\\nSequential \\nClassification \\nCategorical \\n128 \\n      Molecular Biology (Promoter Gene Sequences)\\nSequential, Domain-Theory \\nClassification \\nCategorical \\n106 \\n58 \\n1990 \\n  MoCap Hand Postures\\nMultivariate \\nClassification, Clustering \\nInteger, Real \\n78095 \\n38 \\n2016 \\n  Mobile Robots\\nDomain-Theory \\n  Categorical, Integer, Real \\n    1995 \\n  Miskolc IIS Hybrid IPS\\nText \\nClassification, Clustering, Causal-Discovery \\nInteger \\n1540 \\n67 \\n2016 \\n  MiniBooNE particle identification\\nMultivariate \\nClassification \\nReal \\n130065 \\n50 \\n2010 \\n  MicroMass\\nMultivariate \\nClassification \\nReal \\n931 \\n1300 \\n2013 \\n  microblogPCU\\nMultivariate, Univariate, Sequential, Text \\nClassification, Causal-Discovery \\nInteger, Real \\n221579 \\n20 \\n2015 \\n  Mice Protein Expression\\nMultivariate \\nClassification, Clustering \\nReal \\n1080 \\n82 \\n2015 \\n  MHEALTH Dataset\\nMultivariate, Time-Series \\nClassification \\nReal \\n120 \\n23 \\n2014 \\n  MEx\\nTime-Series \\nClassification, Clustering \\nReal \\n6262 \\n710 \\n2019 \\n  MEU-Mobile KSD\\nMultivariate \\nClassification \\nInteger, Real \\n2856 \\n71 \\n2016 \\n  Metro Interstate Traffic Volume\\nMultivariate, Sequential, Time-Series \\nRegression \\nInteger, Real \\n48204 \\n9 \\n2019 \\n  Meta-data\\nMultivariate \\nClassification \\nCategorical, Integer, Real \\n528 \\n22 \\n1996 \\n  Mesothelioma’s disease data set\\nMultivariate \\nClassification \\nReal \\n324 \\n34 \\n2016 \\n  Mechanical Analysis\\nMultivariate \\nClassification \\nCategorical, Integer, Real \\n209 \\n8 \\n1990 \\n  Maternal Health Risk Data Set\\n  Classification \\n  1014 \\n7 \\n2020 \\n  Mammographic Mass\\nMultivariate \\nClassification \\nInteger \\n961 \\n6 \\n2007 \\n  Malware static and dynamic features VxHeaven and Virus Total\\nMultivariate \\nClassification \\nInteger, Real \\n2955 \\n1087 \\n2019 \\n  MAGIC Gamma Telescope\\nMultivariate \\nClassification \\nReal \\n19020 \\n11 \\n2007 \\n  Madelon\\nMultivariate \\nClassification \\nReal \\n4400 \\n500 \\n2008 \\n  Machine Learning based ZZAlpha Ltd. Stock Recommendations 2012-2014\\nSequential, Time-Series \\nClassification \\nReal \\n314080 \\n0 \\n2015 \\n  M. Tuberculosis Genes\\nRelational \\n        2001 \\n  Lymphography\\nMultivariate \\nClassification \\nCategorical \\n148 \\n18 \\n1988 \\n  Lung Cancer\\nMultivariate \\nClassification \\nInteger \\n32 \\n56 \\n1992 \\n  LSVT Voice Rehabilitation\\nMultivariate \\nClassification \\nReal \\n126 \\n309 \\n2014 \\n  Low Resolution Spectrometer\\nMultivariate \\nClassification \\nInteger, Real \\n531 \\n102 \\n1988 \\n  Logic Theorist\\nDomain-Theory \\n            Localization Data for Person Activity\\nUnivariate, Sequential, Time-Series \\nClassification \\nReal \\n164860 \\n8 \\n2010 \\n  Liver Disorders\\nMultivariate \\n  Categorical, Integer, Real \\n345 \\n7 \\n1990 \\n  Libras Movement\\nMultivariate, Sequential \\nClassification, Clustering \\nReal \\n360 \\n91 \\n2009 \\n  Letter Recognition\\nMultivariate \\nClassification \\nInteger \\n20000 \\n16 \\n1991 \\n  Lenses\\nMultivariate \\nClassification \\nCategorical \\n24 \\n4 \\n1990 \\n  Legal Case Reports\\nText \\nClassification \\n      2012 \\n  LED Display Domain\\nMultivariate, Data-Generator \\nClassification \\nCategorical \\n  7 \\n1988 \\n  Leaf\\nMultivariate \\nClassification \\nReal \\n340 \\n16 \\n2014 \\n  LastFM Asia Social Network\\nMultivariate \\nClassification \\n  7624 \\n7842 \\n2020 \\n  LastFM Asia Social Network\\nMultivariate \\nClassification \\n  7624 \\n7842 \\n2020 \\n  Las Vegas Strip\\n  Classification, Regression \\nInteger \\n504 \\n20 \\n2017 \\n  Labor Relations\\nMultivariate \\n  Categorical, Integer, Real \\n57 \\n16 \\n1988 \\n  Labeled Text Forum Threads Dataset\\nText \\nClassification \\nInteger \\n200 \\n9 \\n2019 \\n  Lab Test\\nMultivariate \\nClassification, Regression, Clustering \\n  221 \\n7 \\n2021 \\n  Kitsune Network Attack Dataset\\nMultivariate, Sequential, Time-Series \\nClassification, Clustering, Causal-Discovery \\nReal \\n27170754 \\n115 \\n2019 \\n  Kinship\\nRelational \\nRelational-Learning \\nCategorical \\n104 \\n12 \\n1990 \\n  KEGG Metabolic Relation Network (Directed)\\nMultivariate, Univariate, Text \\nClassification, Regression, Clustering \\nInteger, Real \\n53414 \\n24 \\n2011 \\n  KEGG Metabolic Reaction Network (Undirected)\\nMultivariate, Univariate, Text \\nClassification, Regression, Clustering \\nInteger, Real \\n65554 \\n29 \\n2011 \\n  KDD Cup 1999 Data\\nMultivariate \\nClassification \\nCategorical, Integer \\n4000000 \\n42 \\n1999 \\n  KDD Cup 1998 Data\\nMultivariate \\nRegression \\nCategorical, Integer \\n191779 \\n481 \\n1998 \\n  KDC-4007 dataset Collection\\nMultivariate, Text \\nClassification, Regression \\nInteger \\n4007 \\n  2017 \\n  KASANDR\\nMultivariate \\nCausal-Discovery \\nInteger \\n17764280 \\n2158859 \\n2017 \\n  Kain Tradisional Sambas\\nMultivariate \\nClassification, Clustering \\n  150 \\n3 \\n2020 \\n  Japanese Vowels\\nMultivariate, Time-Series \\nClassification \\nReal \\n640 \\n12 \\n    Japanese Credit Screening\\nMultivariate, Domain-Theory \\nClassification \\nCategorical, Real, Integer \\n125 \\n  1992 \\n  ISTANBUL STOCK EXCHANGE\\nMultivariate, Univariate, Time-Series \\nClassification, Regression \\nReal \\n536 \\n8 \\n2013 \\n  ISOLET\\nMultivariate \\nClassification \\nReal \\n7797 \\n617 \\n1994 \\n  Iris\\nMultivariate \\nClassification \\nReal \\n150 \\n4 \\n1988 \\n  Iranian Churn Dataset\\nMultivariate \\nClassification, Regression \\nInteger \\n3150 \\n13 \\n2020 \\n  Iranian Churn Dataset\\nMultivariate \\nClassification, Regression \\nInteger \\n3150 \\n13 \\n2020 \\n  IPUMS Census Database\\nMultivariate \\n  Categorical, Integer \\n256932 \\n61 \\n1999 \\n  Ionosphere\\nMultivariate \\nClassification \\nInteger, Real \\n351 \\n34 \\n1989 \\n  Internet Usage Data\\nMultivariate \\n  Categorical, Integer \\n10104 \\n72 \\n1999 \\n  Internet Firewall Data\\nMultivariate \\nClassification \\n  65532 \\n12 \\n2019 \\n  Internet Advertisements\\nMultivariate \\nClassification \\nCategorical, Integer, Real \\n3279 \\n1558 \\n1998 \\n  Intelligent Media Accelerometer and Gyroscope (IM-AccGyro) Dataset\\nTime-Series \\nClassification \\nReal \\n800 \\n9 \\n2020 \\n  Insurance Company Benchmark (COIL 2000)\\nMultivariate \\nRegression, Description \\nCategorical, Integer \\n9000 \\n86 \\n2000 \\n  Influenza outbreak event prediction via Twitter data\\nMultivariate \\nClassification \\nInteger, Real \\n75840 \\n525 \\n2020 \\n  Indoor User Movement Prediction from RSS data\\nMultivariate, Sequential, Time-Series \\nClassification \\nReal \\n13197 \\n4 \\n2016 \\n  Individual household electric power consumption\\nMultivariate, Time-Series \\nRegression, Clustering \\nReal \\n2075259 \\n9 \\n2012 \\n  Incident management process enriched event log\\nMultivariate, Sequential \\nRegression, Clustering \\nInteger \\n141712 \\n36 \\n2019 \\n  in-vehicle coupon recommendation\\nMultivariate \\nClassification \\n  12684 \\n23 \\n2020 \\n  Improved Spiral Test Using Digitized Graphics Tablet for Monitoring Parkinson’s Disease\\nMultivariate \\nClassification, Regression, Clustering \\nReal \\n40 \\n7 \\n2016 \\n  Immunotherapy Dataset\\nUnivariate \\nClassification \\nInteger, Real \\n90 \\n8 \\n2018 \\n  Image Segmentation\\nMultivariate \\nClassification \\nReal \\n2310 \\n19 \\n1990 \\n  Image Recognition Task Execution Times in Mobile Edge Computing\\nUnivariate, Sequential, Time-Series \\nRegression \\nReal \\n4000 \\n2 \\n2020 \\n  Image Recognition Task Execution Times in Mobile Edge Computing\\nUnivariate \\nRegression \\nReal \\n4000 \\n2 \\n2021 \\n  ILPD (Indian Liver Patient Dataset)\\nMultivariate \\nClassification \\nInteger, Real \\n583 \\n10 \\n2012 \\n  IIWA14-R820-Gazebo-Dataset-10Trajectories\\n  Regression \\nInteger \\n    2020 \\n  IDA2016Challenge\\nMultivariate \\nClassification \\nInteger \\n76000 \\n171 \\n2017 \\n  ICU\\nMultivariate, Time-Series \\n  Real \\n        ICMLA 2014 Accepted Papers Data Set\\nMultivariate \\nClassification, Clustering \\n  105 \\n5 \\n2018 \\n  Hybrid Indoor Positioning Dataset from WiFi RSSI, Bluetooth and magnetometer\\nMultivariate, Sequential, Time-Series \\nClassification \\nReal \\n1540 \\n65 \\n2016 \\n  Hungarian Chickenpox Cases\\nTime-Series \\nRegression \\nReal \\n521 \\n20 \\n2021 \\n  Human Activity Recognition Using Smartphones\\nMultivariate, Time-Series \\nClassification, Clustering \\n  10299 \\n561 \\n2012 \\n  Human Activity Recognition from Continuous Ambient Sensor Data\\nMultivariate, Sequential, Time-Series \\nClassification \\nInteger, Real \\n13956534 \\n37 \\n2019 \\n  HTRU2\\nMultivariate \\nClassification, Clustering \\nReal \\n17898 \\n9 \\n2017 \\n  Horton General Hospital\\nMultivariate, Time-Series \\nCausal-Discovery \\nInteger \\n139 \\n6 \\n2019 \\n  Horse Colic\\nMultivariate \\nClassification \\nCategorical, Integer, Real \\n368 \\n27 \\n1989 \\n  HIV-1 protease cleavage\\nMultivariate \\nClassification \\nCategorical \\n6590 \\n1 \\n2015 \\n  Hill-Valley\\nSequential \\nClassification \\nReal \\n606 \\n101 \\n2008 \\n  Higher Education Students Performance Evaluation Dataset\\nMultivariate \\nClassification \\nInteger \\n145 \\n33 \\n2021 \\n  HIGGS\\n  Classification \\nReal \\n11000000 \\n28 \\n2014 \\n  Heterogeneity Activity Recognition\\nMultivariate, Time-Series \\nClassification, Clustering \\nReal \\n43930257 \\n16 \\n2015 \\n  HEPMASS\\nMultivariate \\nClassification \\nReal \\n10500000 \\n28 \\n2016 \\n  Hepatitis C Virus (HCV) for Egyptian patients\\nMultivariate \\nClassification \\nInteger, Real \\n1385 \\n29 \\n2019 \\n  Hepatitis\\nMultivariate \\nClassification \\nCategorical, Integer, Real \\n155 \\n19 \\n1988 \\n  Heart failure clinical records\\nMultivariate \\nClassification, Regression, Clustering \\nInteger, Real \\n299 \\n13 \\n2020 \\n  Heart Disease\\nMultivariate \\nClassification \\nCategorical, Integer, Real \\n303 \\n75 \\n1988 \\n  Health News in Twitter\\nText \\nClustering \\nReal \\n58000 \\n25000 \\n2018 \\n  HCV data\\nMultivariate \\nClassification, Clustering \\nInteger, Real \\n615 \\n14 \\n2020 \\n  HCC Survival\\nMultivariate \\nClassification \\nInteger, Real \\n165 \\n49 \\n2017 \\n  Hayes-Roth\\nMultivariate \\nClassification \\nCategorical \\n160 \\n5 \\n1989 \\n  Haberman's Survival\\nMultivariate \\nClassification \\nInteger \\n306 \\n3 \\n1999 \\n  Guitar Chords finger positions\\nText \\nClassification \\n  2633 \\n5 \\n2020 \\n  Greenhouse Gas Observing Network\\nMultivariate, Time-Series \\nRegression \\nReal \\n2921 \\n5232 \\n2015 \\n  Grammatical Facial Expressions\\nMultivariate, Sequential \\nClassification, Clustering \\nReal \\n27965 \\n100 \\n2014 \\n  GPS Trajectories\\nMultivariate \\nClassification, Regression \\nReal \\n163 \\n15 \\n2016 \\n  GNFUV Unmanned Surface Vehicles Sensor Data Set 2\\nMultivariate, Sequential, Time-Series \\nRegression \\nReal \\n10190 \\n6 \\n2018 \\n  GNFUV Unmanned Surface Vehicles Sensor Data\\nMultivariate, Time-Series \\nRegression \\nReal \\n1672 \\n5 \\n2018 \\n  Glass Identification\\nMultivariate \\nClassification \\nReal \\n214 \\n10 \\n1987 \\n  GitHub MUSAE\\nMultivariate \\nClassification \\n  37700 \\n4006 \\n2019 \\n  Gisette\\nMultivariate \\nClassification \\nInteger \\n13500 \\n5000 \\n2008 \\n  Gesture Phase Segmentation\\nMultivariate, Sequential, Time-Series \\nClassification, Clustering \\nReal \\n9900 \\n50 \\n2014 \\n  Geographical Original of Music\\nMultivariate \\nClassification, Regression \\nReal \\n1059 \\n68 \\n2014 \\n  Geo-Magnetic field and WLAN dataset for indoor localisation from wristband and smartphone\\nMultivariate, Sequential, Time-Series \\nClassification, Regression, Clustering \\nInteger, Real \\n153540 \\n25 \\n2017 \\n  gene expression cancer RNA-Seq\\nMultivariate \\nClassification, Clustering \\nReal \\n801 \\n20531 \\n2016 \\n  Gender Gap in Spanish WP\\nMultivariate \\nClassification \\nInteger, Real \\n4746 \\n21 \\n2021 \\n  Gender by Name\\nText \\nClassification, Clustering \\n  147270 \\n4 \\n2020 \\n  Gastrointestinal Lesions in Regular Colonoscopy\\nMultivariate \\nClassification \\nReal \\n76 \\n698 \\n2016 \\n  Gas Turbine CO and NOx Emission Data Set\\nMultivariate \\nRegression, Clustering \\nReal \\n36733 \\n11 \\n2019 \\n  Gas sensors for home activity monitoring\\nMultivariate, Time-Series \\nClassification \\nReal \\n919438 \\n11 \\n2016 \\n  Gas sensor arrays in open sampling settings\\nMultivariate, Time-Series \\nClassification \\nReal \\n18000 \\n1950000 \\n2013 \\n  Gas sensor array under flow modulation\\nMultivariate, Time-Series \\nClassification, Regression \\nReal \\n58 \\n120432 \\n2014 \\n  Gas sensor array under dynamic gas mixtures\\nMultivariate, Time-Series \\nClassification, Regression \\nReal \\n4178504 \\n19 \\n2015 \\n  Gas sensor array temperature modulation\\nMultivariate, Time-Series \\nClassification, Regression \\nReal \\n4095000 \\n20 \\n2019 \\n  Gas sensor array exposed to turbulent gas mixtures\\nMultivariate, Time-Series \\nClassification, Regression \\nReal \\n180 \\n150000 \\n2014 \\n  Gas Sensor Array Drift Dataset at Different Concentrations\\nMultivariate, Time-Series \\nClassification, Regression, Clustering, Causa \\nReal \\n13910 \\n129 \\n2013 \\n  Gas Sensor Array Drift Dataset\\nMultivariate \\nClassification \\nReal \\n13910 \\n128 \\n2012 \\n  Gait Classification\\nMultivariate \\nClassification \\nReal \\n48 \\n321 \\n2020 \\n  Function Finding\\n  Function-Learning \\nReal \\n352 \\n  1990 \\n  Forest type mapping\\nMultivariate \\nClassification \\n  326 \\n27 \\n2015 \\n  Forest Fires\\nMultivariate \\nRegression \\nReal \\n517 \\n13 \\n2008 \\n  Folio\\nMultivariate \\nClassification, Clustering \\n  637 \\n20 \\n2015 \\n  FMA: A Dataset For Music Analysis\\nMultivariate, Time-Series \\nClassification, Clustering \\nReal \\n106574 \\n518 \\n2017 \\n  Flags\\nMultivariate \\nClassification \\nCategorical, Integer \\n194 \\n30 \\n1990 \\n  First-order theorem proving\\nMultivariate \\nClassification \\nReal \\n6118 \\n51 \\n2013 \\n  Firm-Teacher_Clave-Direction_Classification\\nMultivariate \\nClassification \\n  10800 \\n20 \\n2015 \\n  Fertility\\nMultivariate \\nClassification, Regression \\nReal \\n100 \\n10 \\n2013 \\n  Farm Ads\\nText \\nClassification \\n  4143 \\n54877 \\n2011 \\n  Facebook metrics\\nMultivariate \\nRegression \\nInteger \\n500 \\n19 \\n2016 \\n  Facebook Live Sellers in Thailand\\nMultivariate \\nClustering \\nInteger \\n7051 \\n12 \\n2019 \\n  Facebook Large Page-Page Network\\nMultivariate \\nClassification \\n  22470 \\n4714 \\n2020 \\n  Facebook Comment Volume Dataset\\nMultivariate \\nRegression \\nInteger, Real \\n40949 \\n54 \\n2016 \\n  extention of Z-Alizadeh sani dataset\\n  Classification \\nInteger, Real \\n303 \\n59 \\n2017 \\n  Exasens\\nMultivariate \\nClassification, Clustering \\nInteger \\n399 \\n4 \\n2020 \\n  Exasens\\nMultivariate \\nClassification, Clustering \\nInteger \\n399 \\n4 \\n2020 \\n  Estimation of obesity levels based on eating habits and physical condition\\nMultivariate \\nClassification, Regression, Clustering \\nInteger \\n2111 \\n17 \\n2019 \\n  Epileptic Seizure Recognition\\nMultivariate, Time-Series \\nClassification, Clustering \\nInteger, Real \\n11500 \\n179 \\n2017 \\n  Entree Chicago Recommendation Data\\nTransactional, Sequential \\nRecommender-Systems \\nCategorical \\n50672 \\n  2000 \\n  Energy efficiency\\nMultivariate \\nClassification, Regression \\nInteger, Real \\n768 \\n8 \\n2012 \\n  EMG Physical Action Data Set\\nTime-Series \\nClassification \\nReal \\n10000 \\n8 \\n2011 \\n  EMG dataset in Lower Limb\\nMultivariate, Time-Series \\n  Real \\n132 \\n5 \\n2014 \\n  EMG data for gestures\\nTime-Series \\nClassification \\nReal \\n30000 \\n6 \\n2019 \\n  ElectricityLoadDiagrams20112014\\nTime-Series \\nRegression, Clustering \\nReal \\n370 \\n140256 \\n2015 \\n  Electrical Grid Stability Simulated Data\\nMultivariate \\nClassification, Regression \\nReal \\n10000 \\n14 \\n2018 \\n  El Nino\\nSpatio-temporal \\n  Integer, Real \\n178080 \\n12 \\n1999 \\n  EEG Steady-State Visual Evoked Potential Signals\\nMultivariate, Time-Series \\nClassification, Regression \\nInteger \\n9200 \\n16 \\n2018 \\n  EEG Eye State\\nMultivariate, Sequential, Time-Series \\nClassification \\nInteger, Real \\n14980 \\n15 \\n2013 \\n  EEG Database\\nMultivariate, Time-Series \\n  Categorical, Integer, Real \\n122 \\n4 \\n1999 \\n  Educational Process Mining (EPM): A Learning Analytics Data Set\\nMultivariate, Sequential, Time-Series \\nClassification, Regression, Clustering \\nInteger \\n230318 \\n13 \\n2015 \\n  Economic Sanctions\\nDomain-Theory \\n            Ecoli\\nMultivariate \\nClassification \\nReal \\n336 \\n8 \\n1996 \\n  Eco-hotel\\nText \\n    401 \\n1 \\n2017 \\n  Echocardiogram\\nMultivariate \\nClassification \\nCategorical, Integer, Real \\n132 \\n12 \\n1989 \\n  EBL Domain Theories\\n              Early stage diabetes risk prediction dataset.\\nMultivariate \\nClassification \\n  520 \\n17 \\n2020 \\n  Early biomarkers of Parkinson�s disease based on natural connected speech\\nMultivariate \\nClassification, Regression \\nInteger, Real \\n130 \\n65 \\n2017 \\n  Early biomarkers of Parkinson’s disease based on natural connected speech Data Set\\nMultivariate \\nClassification \\nReal \\n    2018 \\n  E. Coli Genes\\nRelational \\n        2001 \\n  Dynamic Features of VirusShare Executables\\nMultivariate, Time-Series \\nClassification, Regression \\nInteger \\n107888 \\n482 \\n2017 \\n  DSRC Vehicle Communications\\nSequential, Text \\nClustering \\nReal \\n10000 \\n5 \\n2017 \\n  Dry Bean Dataset\\nMultivariate \\nClassification \\nInteger, Real \\n13611 \\n17 \\n2020 \\n  Drug Review Dataset (Drugs.com)\\nMultivariate, Text \\nClassification, Regression, Clustering \\nInteger \\n215063 \\n6 \\n2018 \\n  Drug Review Dataset (Druglib.com)\\nMultivariate, Text \\nClassification, Regression, Clustering \\nInteger \\n4143 \\n8 \\n2018 \\n  Drug consumption (quantified)\\nMultivariate \\nClassification \\nReal \\n1885 \\n32 \\n2016 \\n  DrivFace\\nMultivariate \\nClassification, Regression, Clustering \\nReal \\n606 \\n6400 \\n2016 \\n  Dresses_Attribute_Sales\\nText \\nClassification, Clustering \\n  501 \\n13 \\n2014 \\n  Dow Jones Index\\nTime-Series \\nClassification, Clustering \\nInteger, Real \\n750 \\n16 \\n2014 \\n  Dota2 Games Results\\nMultivariate \\nClassification \\n  102944 \\n116 \\n2016 \\n  Dorothea\\nMultivariate \\nClassification \\nInteger \\n1950 \\n100000 \\n2008 \\n  Dodgers Loop Sensor\\nMultivariate, Time-Series \\n  Categorical, Integer \\n50400 \\n3 \\n2006 \\n  Document Understanding\\n          1994 \\n  Divorce Predictors data set\\nMultivariate, Univariate \\nClassification \\nInteger \\n170 \\n54 \\n2019 \\n  Divorce Predictors data set\\nMultivariate, Univariate \\nClassification \\nInteger \\n170 \\n54 \\n2019 \\n  Dishonest Internet users Dataset\\nMultivariate \\nClassification, Clustering \\n  322 \\n5 \\n2018 \\n  Discrete Tone Image Dataset\\nMultivariate \\nClassification \\n  71 \\n11 \\n2018 \\n  Diabetic Retinopathy Debrecen Data Set\\nMultivariate \\nClassification \\nInteger, Real \\n1151 \\n20 \\n2014 \\n  Diabetes 130-US hospitals for years 1999-2008\\nMultivariate \\nClassification, Clustering \\nInteger \\n100000 \\n55 \\n2014 \\n  Diabetes\\nMultivariate, Time-Series \\n  Categorical, Integer \\n  20 \\n    DGP2 - The Second Data Generation Program\\nData-Generator \\n  Real \\n        Dexter\\nMultivariate \\nClassification \\nInteger \\n2600 \\n20000 \\n2008 \\n  Devanagari Handwritten Character Dataset\\n  Classification \\nInteger \\n92000 \\n  2016 \\n  detection_of_IoT_botnet_attacks_N_BaIoT\\nMultivariate, Sequential \\nClassification, Clustering \\nReal \\n7062606 \\n115 \\n2018 \\n  Detect Malware Types\\nMultivariate, Time-Series, Text \\nClassification \\n  7107 \\n280 \\n2019 \\n  Detect Malacious Executable(AntiVirus)\\nMultivariate \\nClassification \\nReal \\n373 \\n513 \\n2016 \\n  Dermatology\\nMultivariate \\nClassification \\nCategorical, Integer \\n366 \\n33 \\n1998 \\n  Demospongiae\\nMultivariate \\nClassification \\nInteger \\n503 \\n  2010 \\n  Demand Forecasting for a store\\nMultivariate \\nRegression \\nInteger \\n28764 \\n8 \\n2019 \\n  DeliciousMIL: A Data Set for Multi-Label Multi-Instance Learning with Instance Labels\\nText \\nClassification \\nInteger \\n12234 \\n8519 \\n2016 \\n  default of credit card clients\\nMultivariate \\nClassification \\nInteger, Real \\n30000 \\n24 \\n2016 \\n  Deepfakes: Medical Image Tamper Detection\\nMultivariate \\nClassification \\nReal \\n20000 \\n200000 \\n2020 \\n  DBWorld e-mails\\nText \\nClassification \\n  64 \\n4702 \\n2011 \\n  Dataset for Sensorless Drive Diagnosis\\nMultivariate \\nClassification \\nReal \\n58509 \\n49 \\n2015 \\n  Dataset for ADL Recognition with Wrist-worn Accelerometer\\nMultivariate, Time-Series \\nClassification, Clustering \\n    3 \\n2014 \\n  Data for Software Engineering Teamwork Assessment in Education Setting\\nSequential, Time-Series \\nClassification \\nInteger, Real \\n74 \\n102 \\n2017 \\n  Daphnet Freezing of Gait\\nMultivariate, Time-Series \\nClassification \\nReal \\n237 \\n9 \\n2013 \\n  Daily Demand Forecasting Orders\\nTime-Series \\nRegression \\nInteger \\n60 \\n13 \\n2017 \\n  Daily and Sports Activities\\nMultivariate, Time-Series \\nClassification, Clustering \\nReal \\n9120 \\n5625 \\n2013 \\n  Cylinder Bands\\nMultivariate \\nClassification \\nCategorical, Integer, Real \\n512 \\n39 \\n1995 \\n  Cuff-Less Blood Pressure Estimation\\nMultivariate \\nClassification, Regression \\nReal \\n12000 \\n3 \\n2015 \\n  CSM (Conventional and Social Media Movies) Dataset 2014 and 2015\\nMultivariate \\nClassification, Regression \\nInteger \\n217 \\n12 \\n2017 \\n  Cryotherapy Dataset\\nUnivariate \\nClassification \\nInteger, Real \\n90 \\n7 \\n2018 \\n  Crowdsourced Mapping\\nMultivariate \\nClassification \\n  10546 \\n29 \\n2016 \\n  Crop mapping using fused optical-radar data set\\nMultivariate, Time-Series \\nClassification \\nReal \\n325834 \\n175 \\n2020 \\n  Credit Approval\\nMultivariate \\nClassification \\nCategorical, Integer, Real \\n690 \\n15 \\n    COVID-19 Surveillance\\nMultivariate \\nClassification \\n  14 \\n7 \\n2020 \\n  Covertype\\nMultivariate \\nClassification \\nCategorical, Integer \\n581012 \\n54 \\n1998 \\n  Corel Image Features\\nMultivariate \\n  Real \\n68040 \\n89 \\n1999 \\n  Contraceptive Method Choice\\nMultivariate \\nClassification \\nCategorical, Integer \\n1473 \\n9 \\n1997 \\n  Container Crane Controller Data Set\\nUnivariate, Domain-Theory \\nClassification, Regression \\nReal \\n15 \\n3 \\n2018 \\n  Connectionist Bench (Vowel Recognition - Deterding Data)\\n  Classification \\nReal \\n528 \\n10 \\n    Connectionist Bench (Sonar, Mines vs. Rocks)\\nMultivariate \\nClassification \\nReal \\n208 \\n60 \\n    Connectionist Bench (Nettalk Corpus)\\nMultivariate \\n  Categorical \\n20008 \\n4 \\n    Connect-4\\nMultivariate, Spatial \\nClassification \\nCategorical \\n67557 \\n42 \\n1995 \\n  Congressional Voting Records\\nMultivariate \\nClassification \\nCategorical \\n435 \\n16 \\n1987 \\n  Condition monitoring of hydraulic systems\\nMultivariate, Time-Series \\nClassification, Regression \\nReal \\n2205 \\n43680 \\n2018 \\n  Condition Based Maintenance of Naval Propulsion Plants\\nMultivariate \\nRegression \\nReal \\n11934 \\n16 \\n2014 \\n  Concrete Slump Test\\nMultivariate \\nRegression \\nReal \\n103 \\n10 \\n2009 \\n  Concrete Compressive Strength\\nMultivariate \\nRegression \\nReal \\n1030 \\n9 \\n2007 \\n  Computer Hardware\\nMultivariate \\nRegression \\nInteger \\n209 \\n9 \\n1987 \\n  Communities and Crime Unnormalized\\nMultivariate \\nRegression \\nReal \\n2215 \\n147 \\n2011 \\n  Communities and Crime\\nMultivariate \\nRegression \\nReal \\n1994 \\n128 \\n2009 \\n  Combined Cycle Power Plant\\nMultivariate \\nRegression \\nReal \\n9568 \\n4 \\n2014 \\n  Coil 1999 Competition Data\\nMultivariate \\n  Categorical, Real \\n340 \\n17 \\n1999 \\n  Codon usage\\nMultivariate \\nClassification, Clustering \\n  13028 \\n69 \\n2020 \\n  CNNpred: CNN-based stock market prediction using a diverse set of variables\\nSequential, Time-Series \\nClassification, Regression \\nReal \\n1985 \\n84 \\n2019 \\n  CNAE-9\\nMultivariate, Text \\nClassification \\nInteger \\n1080 \\n857 \\n2012 \\n  CMU Face Images\\nImage \\nClassification \\nInteger \\n640 \\n  1999 \\n  Cloud\\nMultivariate \\n  Real \\n1024 \\n10 \\n1989 \\n  CLINC150\\nText \\nClassification \\n  23700 \\n  2020 \\n  Climate Model Simulation Crashes\\nMultivariate \\nClassification \\nReal \\n540 \\n18 \\n2013 \\n  clickstream data for online shopping\\nMultivariate, Sequential \\nClassification, Regression, Clustering \\nInteger, Real \\n165474 \\n14 \\n2019 \\n  Chronic_Kidney_Disease\\nMultivariate \\nClassification \\nReal \\n400 \\n25 \\n2015 \\n  chipseq\\nSequential \\nClassification \\nInteger \\n4960 \\n  2018 \\n  chestnut – LARVIC\\n  Classification, Clustering \\n  1451 \\n3 \\n2017 \\n  Chess (King-Rook vs. King-Pawn)\\nMultivariate \\nClassification \\nCategorical \\n3196 \\n36 \\n1989 \\n  Chess (King-Rook vs. King-Knight)\\nMultivariate, Data-Generator \\nClassification \\nCategorical, Integer \\n  22 \\n1988 \\n  Chess (King-Rook vs. King)\\nMultivariate \\nClassification \\nCategorical, Integer \\n28056 \\n6 \\n1994 \\n  Chess (Domain Theories)\\nDomain-Theory \\n            Chemical Composition of Ceramic Samples\\nMultivariate \\nClassification, Clustering \\nReal \\n88 \\n19 \\n2019 \\n  Character Trajectories\\nTime-Series \\nClassification, Clustering \\nReal \\n2858 \\n3 \\n2008 \\n  Character Font Images\\nMultivariate \\nClassification \\nInteger, Real \\n745000 \\n411 \\n2016 \\n  Challenger USA Space Shuttle O-Ring\\nMultivariate \\nRegression \\nInteger \\n23 \\n4 \\n1993 \\n  Cervical Cancer Behavior Risk\\nMultivariate, Univariate \\nClassification, Clustering \\nInteger \\n72 \\n19 \\n2019 \\n  Cervical cancer (Risk Factors)\\nMultivariate \\nClassification \\nInteger, Real \\n858 \\n36 \\n2017 \\n  Census-Income (KDD)\\nMultivariate \\nClassification \\nCategorical, Integer \\n299285 \\n40 \\n2000 \\n  Census Income\\nMultivariate \\nClassification \\nCategorical, Integer \\n48842 \\n14 \\n1996 \\n  Cargo 2000 Freight Tracking and Tracing\\nMultivariate, Sequential \\nClassification, Regression \\nInteger \\n3942 \\n98 \\n2016 \\n  Cardiotocography\\nMultivariate \\nClassification \\nReal \\n2126 \\n23 \\n2010 \\n  Carbon Nanotubes\\nUnivariate \\nRegression \\nReal \\n10721 \\n8 \\n2018 \\n  Car Evaluation\\nMultivariate \\nClassification \\nCategorical \\n1728 \\n6 \\n1997 \\n  CalIt2 Building People Counts\\nMultivariate, Time-Series \\n  Categorical, Integer \\n10080 \\n4 \\n2006 \\n  Caesarian Section Classification Dataset\\nUnivariate \\nClassification \\nInteger \\n80 \\n5 \\n2018 \\n  Buzz in social media\\nTime-Series, Multivariate \\nRegression, Classification \\nInteger, Real \\n140000 \\n77 \\n2013 \\n  Burst Header Packet (BHP) flooding attack on Optical Burst Switching (OBS) Network\\nText \\nClassification \\nInteger \\n1075 \\n22 \\n2017 \\n  BuddyMove Data Set\\nMultivariate, Text \\nClassification, Clustering \\nReal \\n249 \\n7 \\n2018 \\n  Breath Metabolomics\\nMultivariate, Time-Series \\nClassification, Clustering \\nReal \\n104 \\n1656 \\n2019 \\n  Breast Tissue\\nMultivariate \\nClassification \\nReal \\n106 \\n10 \\n2010 \\n  Breast Cancer Wisconsin (Prognostic)\\nMultivariate \\nClassification, Regression \\nReal \\n198 \\n34 \\n1995 \\n  Breast Cancer Wisconsin (Original)\\nMultivariate \\nClassification \\nInteger \\n699 \\n10 \\n1992 \\n  Breast Cancer Wisconsin (Diagnostic)\\nMultivariate \\nClassification \\nReal \\n569 \\n32 \\n1995 \\n  Breast Cancer Coimbra\\nMultivariate \\nClassification \\nInteger \\n116 \\n10 \\n2018 \\n  Breast Cancer\\nMultivariate \\nClassification \\nCategorical \\n286 \\n9 \\n1988 \\n  Bone marrow transplant: children\\nMultivariate \\nClassification, Regression \\nInteger, Real \\n187 \\n39 \\n2020 \\n  Blood Transfusion Service Center\\nMultivariate \\nClassification \\nReal \\n748 \\n5 \\n2008 \\n  BLOGGER\\nMultivariate \\nClassification \\n  100 \\n6 \\n2013 \\n  BlogFeedback\\nMultivariate \\nRegression \\nInteger, Real \\n60021 \\n281 \\n2014 \\n  BLE RSSI Dataset for Indoor localization and Navigation\\nMultivariate, Sequential, Time-Series \\nClassification, Clustering \\nInteger \\n6611 \\n15 \\n2018 \\n  BLE RSSI dataset for Indoor localization\\nSequential, Time-Series \\nClassification \\nInteger \\n23570 \\n5 \\n2019 \\n  BitcoinHeistRansomwareAddressDataset\\nMultivariate, Time-Series \\nClassification, Clustering \\nInteger, Real \\n2916697 \\n10 \\n2020 \\n  Bike Sharing Dataset\\nUnivariate \\nRegression \\nInteger, Real \\n17389 \\n16 \\n2013 \\n  Bias correction of numerical prediction model temperature forecast\\nMultivariate \\nRegression \\nReal \\n7750 \\n25 \\n2020 \\n  Beijing PM2.5 Data\\nMultivariate, Time-Series \\nRegression \\nInteger, Real \\n43824 \\n13 \\n2017 \\n  Beijing Multi-Site Air-Quality Data\\nMultivariate, Time-Series \\nRegression \\nInteger, Real \\n420768 \\n18 \\n2019 \\n  Behavior of the urban traffic of the city of Sao Paulo in Brazil\\nMultivariate, Time-Series \\nClassification, Regression \\nInteger, Real \\n135 \\n18 \\n2018 \\n  BAUM-2\\nTime-Series \\nClassification \\n  1047 \\n  2018 \\n  BAUM-1\\nTime-Series \\nClassification \\n  1184 \\n  2018 \\n  Basketball dataset\\nTime-Series \\nClassification \\nInteger \\n10000 \\n7 \\n2019 \\n  Bar Crawl: Detecting Heavy Drinking\\nMultivariate, Time-Series \\nClassification, Regression \\nReal \\n14057567 \\n3 \\n2020 \\n  Bar Crawl: Detecting Heavy Drinking\\nMultivariate, Time-Series \\nClassification, Regression \\nReal \\n14057567 \\n3 \\n2020 \\n  banknote authentication\\nMultivariate \\nClassification \\nReal \\n1372 \\n5 \\n2013 \\n  Bank Marketing\\nMultivariate \\nClassification \\nReal \\n45211 \\n17 \\n2012 \\n  Balloons\\nMultivariate \\nClassification \\nCategorical \\n16 \\n4 \\n    Balance Scale\\nMultivariate \\nClassification \\nCategorical \\n625 \\n4 \\n1994 \\n  Bag of Words\\nText \\nClustering \\nInteger \\n8000000 \\n100000 \\n2008 \\n  Badges\\nUnivariate, Text \\nClassification \\n  294 \\n1 \\n1994 \\n  Bach Chorales\\nUnivariate, Time-Series \\n  Categorical, Integer \\n100 \\n6 \\n    Bach Choral Harmony\\nSequential \\nClassification \\n  5665 \\n17 \\n2014 \\n  Avila\\nMultivariate \\nClassification \\nReal \\n20867 \\n10 \\n2018 \\n  Average Localization Error (ALE) in sensor node localization process in WSNs\\nMultivariate \\nRegression \\nReal \\n107 \\n6 \\n2021 \\n  AutoUniv\\nMultivariate \\nClassification \\nCategorical, Integer, Real \\n    2010 \\n  Automobile\\nMultivariate \\nRegression \\nCategorical, Integer, Real \\n205 \\n26 \\n1987 \\n  Auto MPG\\nMultivariate \\nRegression \\nCategorical, Real \\n398 \\n8 \\n1993 \\n  Autistic Spectrum Disorder Screening Data for Children\\nMultivariate \\nClassification \\nInteger \\n292 \\n21 \\n2017 \\n  Autistic Spectrum Disorder Screening Data for Adolescent\\nMultivariate \\nClassification \\nInteger \\n104 \\n21 \\n2017 \\n  Autism Screening Adult\\n  Classification \\nInteger \\n704 \\n21 \\n2017 \\n  Australian Sign Language signs (High Quality)\\nMultivariate, Time-Series \\nClassification \\nReal \\n2565 \\n22 \\n2002 \\n  Australian Sign Language signs\\nMultivariate, Time-Series \\nClassification \\nCategorical, Real \\n6650 \\n15 \\n1999 \\n  Audit Data\\nMultivariate \\nClassification \\nReal \\n777 \\n18 \\n2018 \\n  Audiology (Standardized)\\nMultivariate \\nClassification \\nCategorical \\n226 \\n69 \\n1992 \\n  Audiology (Original)\\nMultivariate \\nClassification \\nCategorical \\n226 \\n  1987 \\n  Artificial Characters\\nMultivariate \\nClassification \\nCategorical, Integer, Real \\n6000 \\n7 \\n1992 \\n  Arrhythmia\\nMultivariate \\nClassification \\nCategorical, Integer, Real \\n452 \\n279 \\n1998 \\n  Arcene\\nMultivariate \\nClassification \\nReal \\n900 \\n10000 \\n2008 \\n  APS Failure at Scania Trucks\\nMultivariate \\nClassification \\nInteger, Real \\n60000 \\n171 \\n2017 \\n  Appliances energy prediction\\nMultivariate, Time-Series \\nRegression \\nReal \\n19735 \\n29 \\n2017 \\n  Apartment for rent classified\\nMultivariate \\nClassification, Regression, Clustering \\n  10000 \\n22 \\n2019 \\n  Anuran Calls (MFCCs)\\nMultivariate \\nClassification, Clustering \\nReal \\n7195 \\n22 \\n2017 \\n  Anticancer peptides\\nSequential \\nClassification \\n  1850 \\n2 \\n2019 \\n  Anonymous Microsoft Web Data\\n  Recommender-Systems \\nCategorical \\n37711 \\n294 \\n1998 \\n  Annealing\\nMultivariate \\nClassification \\nCategorical, Integer, Real \\n798 \\n38 \\n    Amphibians\\nMultivariate \\nClassification \\nInteger, Real \\n189 \\n23 \\n2020 \\n  Amazon Commerce reviews set\\nMultivariate, Text, Domain-Theory \\nClassification \\nReal \\n1500 \\n10000 \\n2011 \\n  Amazon Access Samples\\nTime-Series, Domain-Theory \\nRegression, Clustering, Causal-Discovery \\n  30000 \\n20000 \\n2011 \\n  Algerian Forest Fires Dataset\\nMultivariate \\nClassification, Regression \\nReal \\n244 \\n12 \\n2019 \\n  Alcohol QCM Sensor Dataset\\nMultivariate \\nClassification, Regression, Clustering \\nReal \\n125 \\n8 \\n2019 \\n  Airfoil Self-Noise\\nMultivariate \\nRegression \\nReal \\n1503 \\n6 \\n2014 \\n  Air Quality\\nMultivariate, Time-Series \\nRegression \\nReal \\n9358 \\n15 \\n2016 \\n  Air quality\\nMultivariate, Time-Series \\nRegression \\nReal \\n9358 \\n15 \\n2016 \\n  AI4I 2020 Predictive Maintenance Dataset\\nMultivariate, Time-Series \\nClassification, Regression, Causal-Discovery \\nReal \\n10000 \\n14 \\n2020 \\n  Adult\\nMultivariate \\nClassification \\nCategorical, Integer \\n48842 \\n14 \\n1996 \\n  Acute Inflammations\\nMultivariate \\nClassification \\nCategorical, Integer \\n120 \\n6 \\n2009 \\n  Activity recognition with healthy older people using a batteryless wearable sensor\\nSequential \\nClassification \\nReal \\n75128 \\n9 \\n2016 \\n  Activity recognition using wearable physiological measurements\\nMultivariate \\nClassification \\nReal \\n4480 \\n533 \\n2019 \\n  Activity Recognition system based on Multisensor data fusion (AReM)\\nMultivariate, Sequential, Time-Series \\nClassification \\nReal \\n42240 \\n6 \\n2016 \\n  Activity Recognition from Single Chest-Mounted Accelerometer\\nUnivariate, Sequential, Time-Series \\nClassification, Clustering \\nReal \\n    2014 \\n  Activities of Daily Living (ADLs) Recognition Using Binary Sensors\\nMultivariate, Sequential, Time-Series \\nClassification, Clustering \\n  2747 \\n  2013 \\n  Accelerometer\\nMultivariate \\nClassification, Regression \\nInteger, Real \\n153000 \\n5 \\n2021 \\n  Absenteeism at work\\nMultivariate, Time-Series \\nClassification, Clustering \\nInteger, Real \\n740 \\n21 \\n2018 \\n  Abscisic Acid Signaling Network\\nMultivariate \\nCausal-Discovery \\nInteger \\n300 \\n43 \\n2008 \\n  Abalone\\nMultivariate \\nClassification \\nCategorical, Integer, Real \\n4177 \\n8 \\n1995 \\n  AAAI 2014 Accepted Papers\\nMultivariate \\nClustering \\n  399 \\n6 \\n2014 \\n  AAAI 2013 Accepted Papers\\nMultivariate \\nClustering \\n  150 \\n5 \\n2014 \\n  A study of Asian Religious and Biblical Texts\\nMultivariate, Text \\nClassification, Clustering \\nInteger \\n590 \\n8265 \\n2019 \\n  : Simulated Data set of Iraqi tourism places\\nMultivariate \\nClassification, Clustering \\n  232 \\n16 \\n2020 \\n  9mers from cullpdb\\nSequential \\nClassification, Regression \\nReal \\n158716 \\n4 \\n2021 \\n  3W dataset\\nMultivariate, Time-Series \\nClassification, Clustering \\nInteger, Real \\n1984 \\n8 \\n2019 \\n  3D Road Network (North Jutland, Denmark)\\nSequential, Text \\nRegression, Clustering \\nReal \\n434874 \\n4 \\n2013 \\n  2.4 GHZ Indoor Channel Measurements\\nMultivariate \\nClassification \\nReal \\n7840 \\n5 \\n2018 \"]\n"
     ]
    }
   ],
   "source": [
    "print(dataset_name)"
   ]
  },
  {
   "cell_type": "code",
   "execution_count": null,
   "id": "67168f43",
   "metadata": {},
   "outputs": [],
   "source": []
  },
  {
   "cell_type": "code",
   "execution_count": null,
   "id": "9618a81f",
   "metadata": {},
   "outputs": [],
   "source": []
  },
  {
   "cell_type": "code",
   "execution_count": null,
   "id": "f3e2f4a7",
   "metadata": {},
   "outputs": [],
   "source": []
  },
  {
   "cell_type": "code",
   "execution_count": null,
   "id": "71830711",
   "metadata": {},
   "outputs": [],
   "source": []
  },
  {
   "cell_type": "code",
   "execution_count": null,
   "id": "193a8b59",
   "metadata": {},
   "outputs": [],
   "source": []
  },
  {
   "cell_type": "code",
   "execution_count": null,
   "id": "e2b4a6bd",
   "metadata": {},
   "outputs": [],
   "source": []
  }
 ],
 "metadata": {
  "kernelspec": {
   "display_name": "Python 3 (ipykernel)",
   "language": "python",
   "name": "python3"
  },
  "language_info": {
   "codemirror_mode": {
    "name": "ipython",
    "version": 3
   },
   "file_extension": ".py",
   "mimetype": "text/x-python",
   "name": "python",
   "nbconvert_exporter": "python",
   "pygments_lexer": "ipython3",
   "version": "3.9.12"
  }
 },
 "nbformat": 4,
 "nbformat_minor": 5
}
