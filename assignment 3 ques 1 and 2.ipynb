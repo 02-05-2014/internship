{
 "cells": [
  {
   "cell_type": "code",
   "execution_count": 1,
   "id": "7e73d1a6",
   "metadata": {},
   "outputs": [
    {
     "name": "stdout",
     "output_type": "stream",
     "text": [
      "Requirement already satisfied: selenium in c:\\users\\asus\\anaconda3\\lib\\site-packages (4.5.0)\n",
      "Requirement already satisfied: urllib3[socks]~=1.26 in c:\\users\\asus\\anaconda3\\lib\\site-packages (from selenium) (1.26.9)\n",
      "Requirement already satisfied: certifi>=2021.10.8 in c:\\users\\asus\\anaconda3\\lib\\site-packages (from selenium) (2021.10.8)\n",
      "Requirement already satisfied: trio~=0.17 in c:\\users\\asus\\anaconda3\\lib\\site-packages (from selenium) (0.22.0)\n",
      "Requirement already satisfied: trio-websocket~=0.9 in c:\\users\\asus\\anaconda3\\lib\\site-packages (from selenium) (0.9.2)\n",
      "Requirement already satisfied: async-generator>=1.9 in c:\\users\\asus\\anaconda3\\lib\\site-packages (from trio~=0.17->selenium) (1.10)\n",
      "Requirement already satisfied: sortedcontainers in c:\\users\\asus\\anaconda3\\lib\\site-packages (from trio~=0.17->selenium) (2.4.0)\n",
      "Requirement already satisfied: sniffio in c:\\users\\asus\\anaconda3\\lib\\site-packages (from trio~=0.17->selenium) (1.2.0)\n",
      "Requirement already satisfied: cffi>=1.14 in c:\\users\\asus\\anaconda3\\lib\\site-packages (from trio~=0.17->selenium) (1.15.0)\n",
      "Requirement already satisfied: idna in c:\\users\\asus\\anaconda3\\lib\\site-packages (from trio~=0.17->selenium) (3.3)\n",
      "Requirement already satisfied: exceptiongroup>=1.0.0rc9 in c:\\users\\asus\\anaconda3\\lib\\site-packages (from trio~=0.17->selenium) (1.0.0)\n",
      "Requirement already satisfied: attrs>=19.2.0 in c:\\users\\asus\\anaconda3\\lib\\site-packages (from trio~=0.17->selenium) (21.4.0)\n",
      "Requirement already satisfied: outcome in c:\\users\\asus\\anaconda3\\lib\\site-packages (from trio~=0.17->selenium) (1.2.0)\n",
      "Requirement already satisfied: pycparser in c:\\users\\asus\\anaconda3\\lib\\site-packages (from cffi>=1.14->trio~=0.17->selenium) (2.21)\n",
      "Requirement already satisfied: wsproto>=0.14 in c:\\users\\asus\\anaconda3\\lib\\site-packages (from trio-websocket~=0.9->selenium) (1.2.0)\n",
      "Requirement already satisfied: PySocks!=1.5.7,<2.0,>=1.5.6 in c:\\users\\asus\\anaconda3\\lib\\site-packages (from urllib3[socks]~=1.26->selenium) (1.7.1)\n",
      "Requirement already satisfied: h11<1,>=0.9.0 in c:\\users\\asus\\anaconda3\\lib\\site-packages (from wsproto>=0.14->trio-websocket~=0.9->selenium) (0.14.0)\n"
     ]
    }
   ],
   "source": [
    "!pip install selenium"
   ]
  },
  {
   "cell_type": "code",
   "execution_count": 1,
   "id": "7419c5fd",
   "metadata": {},
   "outputs": [],
   "source": [
    "#importing important libraries\n",
    "import selenium\n",
    "from selenium import webdriver\n",
    "import pandas as pd\n",
    "from selenium.webdriver.common.by import By\n",
    "import warnings\n",
    "warnings.filterwarnings(\"ignore\")\n",
    "import time\n",
    "from selenium.common.exceptions import StaleElementReferenceException,NoSuchElementException\n",
    "import re\n",
    "from selenium.webdriver.common.by import By"
   ]
  },
  {
   "cell_type": "markdown",
   "id": "493cf863",
   "metadata": {},
   "source": [
    "# ##1. Write a python program which searches all the product under a particular product from www.amazon.in. The product to be searched will be taken as input from user. For e.g. If user input is ‘guitar’. Then search for guitars."
   ]
  },
  {
   "cell_type": "code",
   "execution_count": 11,
   "id": "eb421bc4",
   "metadata": {},
   "outputs": [],
   "source": [
    "#connecting to web drivers\n",
    "driver = webdriver.Chrome(r'C:\\Users\\ASUS\\Downloads\\chromedriver_win32\\chromedriver.exe')"
   ]
  },
  {
   "cell_type": "code",
   "execution_count": 12,
   "id": "020491a4",
   "metadata": {},
   "outputs": [],
   "source": [
    "#maximizing automated windows\n",
    "driver.maximize_window()"
   ]
  },
  {
   "cell_type": "code",
   "execution_count": 13,
   "id": "9f3ad83b",
   "metadata": {},
   "outputs": [],
   "source": [
    "#opening website in automated chrome window\n",
    "url = 'https://www.amazon.com/'\n",
    "driver.get(url)"
   ]
  },
  {
   "cell_type": "code",
   "execution_count": 14,
   "id": "0fc179b0",
   "metadata": {},
   "outputs": [],
   "source": [
    "#finding web element for search bar\n",
    "search_product = driver.find_element(By.XPATH,\"//input[@type='text']\")\n",
    "search_product.send_keys(\"shoes\")"
   ]
  },
  {
   "cell_type": "code",
   "execution_count": 15,
   "id": "8e642f20",
   "metadata": {},
   "outputs": [],
   "source": [
    "#clicking using absolute xpath function\n",
    "search_btn =driver.find_element(By.XPATH,\"//input[@id='nav-search-submit-button']\")\n",
    "search_btn.click()"
   ]
  },
  {
   "cell_type": "markdown",
   "id": "bbcdedec",
   "metadata": {},
   "source": [
    "# ##2. In the above question, now scrape the following details of each product listed in first 3 pages of your search results and save it in a data frame and csv. In case if any product has less than 3 pages in search results then scrape all the products available under that product name. Details to be scraped are: \"Brand Name\", \"Name of the Product\", \"Price\", \"Return/Exchange\", \"Expected Delivery\", \"Availability\" and “Product URL”. In case, if any of the details are missing for any of the product then replace it by “-“."
   ]
  },
  {
   "cell_type": "code",
   "execution_count": 16,
   "id": "07d855c7",
   "metadata": {},
   "outputs": [
    {
     "data": {
      "text/plain": [
       "219"
      ]
     },
     "execution_count": 16,
     "metadata": {},
     "output_type": "execute_result"
    }
   ],
   "source": [
    "brands =[]\n",
    "start=0\n",
    "end=3\n",
    "for pages in range(start,end):\n",
    "    brands_shoes = driver.find_elements(By.XPATH,\"//span[@class='a-size-base-plus a-color-base a-text-normal']\")\n",
    "    for i in brands_shoes :\n",
    "        brands.append(i.text)\n",
    "    next_button=driver.find_elements(By.CLASS_NAME,\"s-pagination-item s-pagination-next s-pagination-button s-pagination-separator\")\n",
    "len(brands) \n"
   ]
  },
  {
   "cell_type": "code",
   "execution_count": null,
   "id": "17b27b83",
   "metadata": {},
   "outputs": [],
   "source": []
  },
  {
   "cell_type": "code",
   "execution_count": 7,
   "id": "47af2b64",
   "metadata": {},
   "outputs": [
    {
     "data": {
      "text/plain": [
       "219"
      ]
     },
     "execution_count": 7,
     "metadata": {},
     "output_type": "execute_result"
    }
   ],
   "source": [
    "shoes_brand_url = []\n",
    "start =0\n",
    "end= 3\n",
    "for page in range (start,end):\n",
    "    url =driver.find_elements(By.XPATH,\"//a[@class='a-link-normal s-underline-text s-underline-link-text s-link-style a-text-normal']\")\n",
    "    for i in url:\n",
    "        shoes_brand_url.append(i.get_attribute('href'))\n",
    "    next_button=driver.find_elements(By.CLASS_NAME,\"s-pagination-item s-pagination-next s-pagination-button s-pagination-separator\")\n",
    "len(shoes_brand_url)    "
   ]
  },
  {
   "cell_type": "code",
   "execution_count": 17,
   "id": "9d231d27",
   "metadata": {},
   "outputs": [],
   "source": [
    "name_of_product = []\n",
    "for i in shoes_brand_url[0:20]:\n",
    "    driver.get(i)\n",
    "    time.sleep(5)\n",
    "    try:\n",
    "        product_name=driver.find_element(By.XPATH,\"//span[@id='productTitle']\")\n",
    "        name_of_product.append(product_name.text)\n",
    "    except NoSuchElementException:\n",
    "        name_of_product.append('\"\"')"
   ]
  },
  {
   "cell_type": "code",
   "execution_count": 11,
   "id": "700d4b01",
   "metadata": {},
   "outputs": [
    {
     "data": {
      "text/plain": [
       "20"
      ]
     },
     "execution_count": 11,
     "metadata": {},
     "output_type": "execute_result"
    }
   ],
   "source": [
    "len(name_of_product)"
   ]
  },
  {
   "cell_type": "code",
   "execution_count": null,
   "id": "cdf82d48",
   "metadata": {},
   "outputs": [],
   "source": []
  },
  {
   "cell_type": "code",
   "execution_count": 24,
   "id": "da4318ac",
   "metadata": {},
   "outputs": [],
   "source": [
    "price = []\n",
    "for i in shoes_brand_url[0:20]:\n",
    "    driver.get(i)\n",
    "    time.sleep(5)\n",
    "    try:\n",
    "   \n",
    "        price_details = driver.find_element(By.XPATH,\"//span[@class='a-price-whole']\") \n",
    "        price.append(price_details.text)\n",
    "    except NoSuchElementException:\n",
    "        price.append(\"--\")\n",
    "   \n",
    "   "
   ]
  },
  {
   "cell_type": "code",
   "execution_count": 50,
   "id": "189c4a85",
   "metadata": {},
   "outputs": [
    {
     "data": {
      "text/plain": [
       "20"
      ]
     },
     "execution_count": 50,
     "metadata": {},
     "output_type": "execute_result"
    }
   ],
   "source": [
    "len(price)"
   ]
  },
  {
   "cell_type": "code",
   "execution_count": 25,
   "id": "387e1755",
   "metadata": {},
   "outputs": [],
   "source": [
    "eod= []\n",
    "for i in shoes_brand_url[0:20]:\n",
    "    driver.get(i)\n",
    "    time.sleep(3)\n",
    "    try:\n",
    "        delivery = driver.find_element(By.XPATH,'/html[1]/body[1]/div[1]/div[2]/div[5]/div[2]/div[1]/div[2]/div[2]/div[1]/div[1]/div[2]/div[3]/div[1]/div[1]/div[1]/div[1]/div[1]/form[1]/div[1]/div[1]/div[1]/div[1]/div[3]/div[1]/div[2]/div[8]/div[1]/div[1]/div[1]/div[2]/span[1]/span[1]')\n",
    "        eod.append(delivery.text)\n",
    "    except NoSuchElementException:\n",
    "        eod.append(\"--\")\n"
   ]
  },
  {
   "cell_type": "code",
   "execution_count": 20,
   "id": "ec256612",
   "metadata": {},
   "outputs": [
    {
     "data": {
      "text/plain": [
       "20"
      ]
     },
     "execution_count": 20,
     "metadata": {},
     "output_type": "execute_result"
    }
   ],
   "source": [
    "len(eod)\n"
   ]
  },
  {
   "cell_type": "code",
   "execution_count": 27,
   "id": "6437facc",
   "metadata": {},
   "outputs": [],
   "source": [
    "return_exchange = []\n",
    "for i in shoes_brand_url[0:20]:\n",
    "    driver.get(i)\n",
    "    time.sleep(3)\n",
    "    try:\n",
    "        re_ex = driver.find_element(By.XPATH,'/html[1]/body[1]/div[1]/div[2]/div[5]/div[2]/div[1]/div[2]/div[2]/div[1]/div[1]/div[2]/div[3]/div[1]/div[1]/div[1]/div[1]/div[1]/form[1]/div[1]/div[1]/div[1]/div[1]/div[3]/div[1]/div[21]/div[1]/div[1]/span[1]/span[1]/a[1]')\n",
    "        return_exchange.append(re_ex.text)\n",
    "    except NoSuchElementException:\n",
    "        return_exchange.append(\"--\")\n"
   ]
  },
  {
   "cell_type": "code",
   "execution_count": 22,
   "id": "efd72676",
   "metadata": {},
   "outputs": [
    {
     "data": {
      "text/plain": [
       "20"
      ]
     },
     "execution_count": 22,
     "metadata": {},
     "output_type": "execute_result"
    }
   ],
   "source": [
    "\n",
    "len(return_exchange)"
   ]
  },
  {
   "cell_type": "code",
   "execution_count": 18,
   "id": "a6fe0347",
   "metadata": {},
   "outputs": [],
   "source": [
    "#creating dataframe\n"
   ]
  },
  {
   "cell_type": "code",
   "execution_count": 28,
   "id": "825c734f",
   "metadata": {},
   "outputs": [
    {
     "data": {
      "text/html": [
       "<div>\n",
       "<style scoped>\n",
       "    .dataframe tbody tr th:only-of-type {\n",
       "        vertical-align: middle;\n",
       "    }\n",
       "\n",
       "    .dataframe tbody tr th {\n",
       "        vertical-align: top;\n",
       "    }\n",
       "\n",
       "    .dataframe thead th {\n",
       "        text-align: right;\n",
       "    }\n",
       "</style>\n",
       "<table border=\"1\" class=\"dataframe\">\n",
       "  <thead>\n",
       "    <tr style=\"text-align: right;\">\n",
       "      <th></th>\n",
       "      <th>Brand Title</th>\n",
       "      <th>Urls</th>\n",
       "      <th>Prices</th>\n",
       "      <th>Delivery Periods</th>\n",
       "      <th>Return Policy</th>\n",
       "    </tr>\n",
       "  </thead>\n",
       "  <tbody>\n",
       "    <tr>\n",
       "      <th>0</th>\n",
       "      <td>Under Armour Men's Charged Assert 9 Running Shoe</td>\n",
       "      <td>https://www.amazon.com/sspa/click?ie=UTF8&amp;spc=...</td>\n",
       "      <td>26</td>\n",
       "      <td>December 5 - 14</td>\n",
       "      <td>Returnable until Jan 31, 2023</td>\n",
       "    </tr>\n",
       "    <tr>\n",
       "      <th>1</th>\n",
       "      <td>adidas Women's Cloudfoam Pure-2.0 Running Shoe</td>\n",
       "      <td>https://www.amazon.com/Brooks-Ghost-Ebony-Blac...</td>\n",
       "      <td>--</td>\n",
       "      <td>--</td>\n",
       "      <td>--</td>\n",
       "    </tr>\n",
       "    <tr>\n",
       "      <th>2</th>\n",
       "      <td>ASICS Men's Gel-Venture 8</td>\n",
       "      <td>https://www.amazon.com/Under-Armour-Charged-As...</td>\n",
       "      <td>--</td>\n",
       "      <td>--</td>\n",
       "      <td>--</td>\n",
       "    </tr>\n",
       "    <tr>\n",
       "      <th>3</th>\n",
       "      <td>PUMA Men's Tazon 6 FM</td>\n",
       "      <td>https://www.amazon.com/adidas-Womens-Cloudfoam...</td>\n",
       "      <td>--</td>\n",
       "      <td>--</td>\n",
       "      <td>--</td>\n",
       "    </tr>\n",
       "    <tr>\n",
       "      <th>4</th>\n",
       "      <td>adidas Men's Fluidflow 2.0 Running Shoe</td>\n",
       "      <td>https://www.amazon.com/PUMA-Tazon-White-Silver...</td>\n",
       "      <td></td>\n",
       "      <td>--</td>\n",
       "      <td>--</td>\n",
       "    </tr>\n",
       "    <tr>\n",
       "      <th>5</th>\n",
       "      <td>SOUL Naturalizer Women's, Turner Slip-On</td>\n",
       "      <td>https://www.amazon.com/ASICS-Gel-Venture-Runni...</td>\n",
       "      <td>--</td>\n",
       "      <td>--</td>\n",
       "      <td>--</td>\n",
       "    </tr>\n",
       "    <tr>\n",
       "      <th>6</th>\n",
       "      <td>Soda Glove - Ankle Boot w/Lug Sole Elastic Gor...</td>\n",
       "      <td>https://www.amazon.com/adidas-Racer-Adapt-Blac...</td>\n",
       "      <td>--</td>\n",
       "      <td>--</td>\n",
       "      <td>--</td>\n",
       "    </tr>\n",
       "    <tr>\n",
       "      <th>7</th>\n",
       "      <td>adidas Men's Lite Racer Adapt 4.0 Running Shoe</td>\n",
       "      <td>https://www.amazon.com/Rockport-Mens-Eureka-Wa...</td>\n",
       "      <td>--</td>\n",
       "      <td>--</td>\n",
       "      <td>--</td>\n",
       "    </tr>\n",
       "    <tr>\n",
       "      <th>8</th>\n",
       "      <td>Brooks Women's Ghost 14 Neutral Running Shoe</td>\n",
       "      <td>https://www.amazon.com/PUMA-Mens-Axelion-Runni...</td>\n",
       "      <td>--</td>\n",
       "      <td>--</td>\n",
       "      <td>--</td>\n",
       "    </tr>\n",
       "    <tr>\n",
       "      <th>9</th>\n",
       "      <td>PUMA Men's Axelion Cross-Trainer</td>\n",
       "      <td>https://www.amazon.com/adidas-Mens-Kaptir-Blac...</td>\n",
       "      <td>--</td>\n",
       "      <td>--</td>\n",
       "      <td>--</td>\n",
       "    </tr>\n",
       "    <tr>\n",
       "      <th>10</th>\n",
       "      <td>Rockport Men's Eureka Walking Shoe</td>\n",
       "      <td>https://www.amazon.com/SOUL-Naturalizer-womens...</td>\n",
       "      <td>--</td>\n",
       "      <td>--</td>\n",
       "      <td>--</td>\n",
       "    </tr>\n",
       "    <tr>\n",
       "      <th>11</th>\n",
       "      <td>Skechers Men's Afterburn M. Fit Wonted Loafer</td>\n",
       "      <td>https://www.amazon.com/Skechers-Afterburn-Wont...</td>\n",
       "      <td>--</td>\n",
       "      <td>--</td>\n",
       "      <td>--</td>\n",
       "    </tr>\n",
       "    <tr>\n",
       "      <th>12</th>\n",
       "      <td>Amazon Essentials Women's Pointed-Toe Ballet Flat</td>\n",
       "      <td>https://www.amazon.com/adidas-Fluidflow-Trail-...</td>\n",
       "      <td>--</td>\n",
       "      <td>--</td>\n",
       "      <td>--</td>\n",
       "    </tr>\n",
       "    <tr>\n",
       "      <th>13</th>\n",
       "      <td>R.PRINCE Men's Leather Casual Shoes First Laye...</td>\n",
       "      <td>https://www.amazon.com/Reebok-Womens-Sneaker-C...</td>\n",
       "      <td>--</td>\n",
       "      <td>--</td>\n",
       "      <td>--</td>\n",
       "    </tr>\n",
       "    <tr>\n",
       "      <th>14</th>\n",
       "      <td>BBONUS Nursing Shoes Woman, Man Signature Sand...</td>\n",
       "      <td>https://www.amazon.com/Sperry-Mens-Boat-Shoe-S...</td>\n",
       "      <td>--</td>\n",
       "      <td>--</td>\n",
       "      <td>--</td>\n",
       "    </tr>\n",
       "    <tr>\n",
       "      <th>15</th>\n",
       "      <td>Professional Shoe Shine Kit- Buffing Cloth &amp; D...</td>\n",
       "      <td>https://www.amazon.com/Skechers-Nampa-Service-...</td>\n",
       "      <td>--</td>\n",
       "      <td>--</td>\n",
       "      <td>--</td>\n",
       "    </tr>\n",
       "    <tr>\n",
       "      <th>16</th>\n",
       "      <td>UNIQWETO Mens And Womens Comfort Flip Flops Wi...</td>\n",
       "      <td>https://www.amazon.com/sspa/click?ie=UTF8&amp;spc=...</td>\n",
       "      <td>27</td>\n",
       "      <td>December 5 - 14</td>\n",
       "      <td>Returnable until Jan 31, 2023</td>\n",
       "    </tr>\n",
       "    <tr>\n",
       "      <th>17</th>\n",
       "      <td>Boot Dryer Shoe Dryer, Glove Dryer &amp; Boot Warm...</td>\n",
       "      <td>https://www.amazon.com/sspa/click?ie=UTF8&amp;spc=...</td>\n",
       "      <td>--</td>\n",
       "      <td>--</td>\n",
       "      <td>--</td>\n",
       "    </tr>\n",
       "    <tr>\n",
       "      <th>18</th>\n",
       "      <td>BRONAX Cloud Slippers for Women and Men | Pill...</td>\n",
       "      <td>https://www.amazon.com/sspa/click?ie=UTF8&amp;spc=...</td>\n",
       "      <td>--</td>\n",
       "      <td>--</td>\n",
       "      <td>--</td>\n",
       "    </tr>\n",
       "    <tr>\n",
       "      <th>19</th>\n",
       "      <td>Reef Men's Slide Sandale</td>\n",
       "      <td>https://www.amazon.com/sspa/click?ie=UTF8&amp;spc=...</td>\n",
       "      <td>--</td>\n",
       "      <td>--</td>\n",
       "      <td>--</td>\n",
       "    </tr>\n",
       "  </tbody>\n",
       "</table>\n",
       "</div>"
      ],
      "text/plain": [
       "                                          Brand Title  \\\n",
       "0    Under Armour Men's Charged Assert 9 Running Shoe   \n",
       "1      adidas Women's Cloudfoam Pure-2.0 Running Shoe   \n",
       "2                           ASICS Men's Gel-Venture 8   \n",
       "3                               PUMA Men's Tazon 6 FM   \n",
       "4             adidas Men's Fluidflow 2.0 Running Shoe   \n",
       "5            SOUL Naturalizer Women's, Turner Slip-On   \n",
       "6   Soda Glove - Ankle Boot w/Lug Sole Elastic Gor...   \n",
       "7      adidas Men's Lite Racer Adapt 4.0 Running Shoe   \n",
       "8        Brooks Women's Ghost 14 Neutral Running Shoe   \n",
       "9                    PUMA Men's Axelion Cross-Trainer   \n",
       "10                 Rockport Men's Eureka Walking Shoe   \n",
       "11      Skechers Men's Afterburn M. Fit Wonted Loafer   \n",
       "12  Amazon Essentials Women's Pointed-Toe Ballet Flat   \n",
       "13  R.PRINCE Men's Leather Casual Shoes First Laye...   \n",
       "14  BBONUS Nursing Shoes Woman, Man Signature Sand...   \n",
       "15  Professional Shoe Shine Kit- Buffing Cloth & D...   \n",
       "16  UNIQWETO Mens And Womens Comfort Flip Flops Wi...   \n",
       "17  Boot Dryer Shoe Dryer, Glove Dryer & Boot Warm...   \n",
       "18  BRONAX Cloud Slippers for Women and Men | Pill...   \n",
       "19                           Reef Men's Slide Sandale   \n",
       "\n",
       "                                                 Urls Prices Delivery Periods  \\\n",
       "0   https://www.amazon.com/sspa/click?ie=UTF8&spc=...     26  December 5 - 14   \n",
       "1   https://www.amazon.com/Brooks-Ghost-Ebony-Blac...     --               --   \n",
       "2   https://www.amazon.com/Under-Armour-Charged-As...     --               --   \n",
       "3   https://www.amazon.com/adidas-Womens-Cloudfoam...     --               --   \n",
       "4   https://www.amazon.com/PUMA-Tazon-White-Silver...                      --   \n",
       "5   https://www.amazon.com/ASICS-Gel-Venture-Runni...     --               --   \n",
       "6   https://www.amazon.com/adidas-Racer-Adapt-Blac...     --               --   \n",
       "7   https://www.amazon.com/Rockport-Mens-Eureka-Wa...     --               --   \n",
       "8   https://www.amazon.com/PUMA-Mens-Axelion-Runni...     --               --   \n",
       "9   https://www.amazon.com/adidas-Mens-Kaptir-Blac...     --               --   \n",
       "10  https://www.amazon.com/SOUL-Naturalizer-womens...     --               --   \n",
       "11  https://www.amazon.com/Skechers-Afterburn-Wont...     --               --   \n",
       "12  https://www.amazon.com/adidas-Fluidflow-Trail-...     --               --   \n",
       "13  https://www.amazon.com/Reebok-Womens-Sneaker-C...     --               --   \n",
       "14  https://www.amazon.com/Sperry-Mens-Boat-Shoe-S...     --               --   \n",
       "15  https://www.amazon.com/Skechers-Nampa-Service-...     --               --   \n",
       "16  https://www.amazon.com/sspa/click?ie=UTF8&spc=...     27  December 5 - 14   \n",
       "17  https://www.amazon.com/sspa/click?ie=UTF8&spc=...     --               --   \n",
       "18  https://www.amazon.com/sspa/click?ie=UTF8&spc=...     --               --   \n",
       "19  https://www.amazon.com/sspa/click?ie=UTF8&spc=...     --               --   \n",
       "\n",
       "                    Return Policy  \n",
       "0   Returnable until Jan 31, 2023  \n",
       "1                              --  \n",
       "2                              --  \n",
       "3                              --  \n",
       "4                              --  \n",
       "5                              --  \n",
       "6                              --  \n",
       "7                              --  \n",
       "8                              --  \n",
       "9                              --  \n",
       "10                             --  \n",
       "11                             --  \n",
       "12                             --  \n",
       "13                             --  \n",
       "14                             --  \n",
       "15                             --  \n",
       "16  Returnable until Jan 31, 2023  \n",
       "17                             --  \n",
       "18                             --  \n",
       "19                             --  "
      ]
     },
     "execution_count": 28,
     "metadata": {},
     "output_type": "execute_result"
    }
   ],
   "source": [
    "items = pd.DataFrame()\n",
    "items['Brand Title'] = brands [0:20]\n",
    "items['Urls']= shoes_brand_url[0:20]\n",
    "items['Prices'] = price[0:20]\n",
    "items['Delivery Periods'] = eod[0:20]\n",
    "items['Return Policy'] =  return_exchange[0:20]\n",
    "items"
   ]
  },
  {
   "cell_type": "code",
   "execution_count": 29,
   "id": "a43ef467",
   "metadata": {},
   "outputs": [],
   "source": [
    "items.to_csv('shoes_df.csv')"
   ]
  },
  {
   "cell_type": "code",
   "execution_count": 30,
   "id": "67e9da05",
   "metadata": {},
   "outputs": [],
   "source": [
    "#the data is taking too much time to scrap so taken only 20 elements for each and saved it in a dataframe."
   ]
  },
  {
   "cell_type": "markdown",
   "id": "67c58bdb",
   "metadata": {},
   "source": [
    "since it is taking too much time to run and process the cells so i have done only 2 ques in this jupyter notebook and other questions to the other jupyter notebook."
   ]
  },
  {
   "cell_type": "code",
   "execution_count": null,
   "id": "de2a224a",
   "metadata": {},
   "outputs": [],
   "source": []
  }
 ],
 "metadata": {
  "kernelspec": {
   "display_name": "Python 3 (ipykernel)",
   "language": "python",
   "name": "python3"
  },
  "language_info": {
   "codemirror_mode": {
    "name": "ipython",
    "version": 3
   },
   "file_extension": ".py",
   "mimetype": "text/x-python",
   "name": "python",
   "nbconvert_exporter": "python",
   "pygments_lexer": "ipython3",
   "version": "3.9.12"
  }
 },
 "nbformat": 4,
 "nbformat_minor": 5
}
