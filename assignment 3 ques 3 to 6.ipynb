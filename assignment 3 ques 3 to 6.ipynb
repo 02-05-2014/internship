{
 "cells": [
  {
   "cell_type": "markdown",
   "id": "2a8bf316",
   "metadata": {},
   "source": [
    "# ##3. Write a python program to access the search bar and search button on images.google.com and scrape 10 images each for keywords ‘fruits’, ‘cars’ and ‘Machine Learning’, ‘Guitar’, ‘Cakes’.¶"
   ]
  },
  {
   "cell_type": "code",
   "execution_count": 1,
   "id": "cc39cac2",
   "metadata": {},
   "outputs": [],
   "source": [
    "#importing important libraries\n",
    "import selenium\n",
    "from selenium import webdriver\n",
    "import pandas as pd\n",
    "from selenium.webdriver.common.by import By\n",
    "import warnings\n",
    "warnings.filterwarnings(\"ignore\")\n",
    "import time\n",
    "from selenium.common.exceptions import StaleElementReferenceException,NoSuchElementException\n",
    "import re\n",
    "from selenium.webdriver.common.by import By\n",
    "import urllib"
   ]
  },
  {
   "cell_type": "code",
   "execution_count": 2,
   "id": "16a64124",
   "metadata": {},
   "outputs": [],
   "source": [
    "#connecting to web drivers\n",
    "driver = webdriver.Chrome(r'C:\\Users\\ASUS\\Downloads\\chromedriver_win32\\chromedriver.exe')"
   ]
  },
  {
   "cell_type": "code",
   "execution_count": 3,
   "id": "20438ffd",
   "metadata": {},
   "outputs": [],
   "source": [
    "#maximizing automated windows\n",
    "driver.maximize_window()"
   ]
  },
  {
   "cell_type": "code",
   "execution_count": 4,
   "id": "6c6f840e",
   "metadata": {},
   "outputs": [],
   "source": [
    "#opening website in automated chrome windows\n",
    "url = (\"https://www.google.com/search?q={s}&tbm=isch&tbs=sur%3Afc&hl=en&ved=0CAIQpwVqFwoTCKCa1c6s4-oCFQAAAAAdAAAAABAC&biw=1251&bih=568\")\n",
    "driver.get(url.format(s='fruits'))"
   ]
  },
  {
   "cell_type": "code",
   "execution_count": 5,
   "id": "7ac72b6f",
   "metadata": {},
   "outputs": [],
   "source": [
    "driver.execute_script(\"window.scrollTo(0,document.body.scrollHeight);\")\n",
    "time.sleep(5)"
   ]
  },
  {
   "cell_type": "code",
   "execution_count": 6,
   "id": "dac3b344",
   "metadata": {},
   "outputs": [],
   "source": [
    "imgResults = driver.find_elements(By.XPATH,\"//img[contains(@class,'rg_i Q4LuWd')]\")"
   ]
  },
  {
   "cell_type": "code",
   "execution_count": 9,
   "id": "475cd90e",
   "metadata": {},
   "outputs": [],
   "source": [
    "src = []\n",
    "for img in imgResults[0:10]:\n",
    "    src.append(img.get_attribute('src'))"
   ]
  },
  {
   "cell_type": "code",
   "execution_count": 10,
   "id": "438ac2a6",
   "metadata": {},
   "outputs": [
    {
     "data": {
      "text/plain": [
       "10"
      ]
     },
     "execution_count": 10,
     "metadata": {},
     "output_type": "execute_result"
    }
   ],
   "source": [
    "len(src)"
   ]
  },
  {
   "cell_type": "code",
   "execution_count": 13,
   "id": "8a0a0c15",
   "metadata": {},
   "outputs": [],
   "source": [
    "#downloading the images in our system files\n",
    "\n",
    "for i in range(10):    \n",
    "    urllib.request.urlretrieve(str(src[i]),\"downloads/fruits{}.jpg\".format(i))"
   ]
  },
  {
   "cell_type": "markdown",
   "id": "a3b9ea44",
   "metadata": {},
   "source": [
    "similarly we can scrap all other images also:"
   ]
  },
  {
   "cell_type": "code",
   "execution_count": 14,
   "id": "d87a40a1",
   "metadata": {},
   "outputs": [],
   "source": [
    "#scarping cars images\n",
    "driver.get(url.format(s='cars'))"
   ]
  },
  {
   "cell_type": "code",
   "execution_count": 15,
   "id": "7b8da810",
   "metadata": {},
   "outputs": [],
   "source": [
    "imgResults = driver.find_elements(By.XPATH,\"//img[contains(@class,'rg_i Q4LuWd')]\")"
   ]
  },
  {
   "cell_type": "code",
   "execution_count": 16,
   "id": "0be374bb",
   "metadata": {},
   "outputs": [],
   "source": [
    "src = []\n",
    "for img in imgResults[0:10]:\n",
    "    src.append(img.get_attribute('src'))"
   ]
  },
  {
   "cell_type": "code",
   "execution_count": 17,
   "id": "2fc3d834",
   "metadata": {},
   "outputs": [
    {
     "data": {
      "text/plain": [
       "10"
      ]
     },
     "execution_count": 17,
     "metadata": {},
     "output_type": "execute_result"
    }
   ],
   "source": [
    "len(src)"
   ]
  },
  {
   "cell_type": "code",
   "execution_count": 18,
   "id": "be71b8b3",
   "metadata": {},
   "outputs": [],
   "source": [
    "#scarping machine learning images\n",
    "driver.get(url.format(s='machine learning'))"
   ]
  },
  {
   "cell_type": "code",
   "execution_count": 19,
   "id": "e52e7923",
   "metadata": {},
   "outputs": [],
   "source": [
    "imgResults = driver.find_elements(By.XPATH,\"//img[contains(@class,'rg_i Q4LuWd')]\")"
   ]
  },
  {
   "cell_type": "code",
   "execution_count": 20,
   "id": "db6079b4",
   "metadata": {},
   "outputs": [],
   "source": [
    "src = []\n",
    "for img in imgResults[0:10]:\n",
    "    src.append(img.get_attribute('src'))"
   ]
  },
  {
   "cell_type": "code",
   "execution_count": 21,
   "id": "11ab0079",
   "metadata": {},
   "outputs": [
    {
     "data": {
      "text/plain": [
       "10"
      ]
     },
     "execution_count": 21,
     "metadata": {},
     "output_type": "execute_result"
    }
   ],
   "source": [
    "len(src)"
   ]
  },
  {
   "cell_type": "code",
   "execution_count": 23,
   "id": "68271374",
   "metadata": {},
   "outputs": [],
   "source": [
    "#scarping guitar images\n",
    "driver.get(url.format(s='guitar'))"
   ]
  },
  {
   "cell_type": "code",
   "execution_count": 24,
   "id": "3367b144",
   "metadata": {},
   "outputs": [],
   "source": [
    "imgResults = driver.find_elements(By.XPATH,\"//img[contains(@class,'rg_i Q4LuWd')]\")"
   ]
  },
  {
   "cell_type": "code",
   "execution_count": 25,
   "id": "bb0f9a1d",
   "metadata": {},
   "outputs": [],
   "source": [
    "src = []\n",
    "for img in imgResults[0:10]:\n",
    "    src.append(img.get_attribute('src'))"
   ]
  },
  {
   "cell_type": "code",
   "execution_count": 26,
   "id": "7a017e72",
   "metadata": {},
   "outputs": [
    {
     "data": {
      "text/plain": [
       "10"
      ]
     },
     "execution_count": 26,
     "metadata": {},
     "output_type": "execute_result"
    }
   ],
   "source": [
    "len(src)"
   ]
  },
  {
   "cell_type": "code",
   "execution_count": 27,
   "id": "9a4aaa84",
   "metadata": {},
   "outputs": [],
   "source": [
    "#scarping cakes images\n",
    "driver.get(url.format(s='cakes'))"
   ]
  },
  {
   "cell_type": "code",
   "execution_count": 28,
   "id": "00db5d56",
   "metadata": {},
   "outputs": [],
   "source": [
    "imgResults = driver.find_elements(By.XPATH,\"//img[contains(@class,'rg_i Q4LuWd')]\")"
   ]
  },
  {
   "cell_type": "code",
   "execution_count": 29,
   "id": "6ee12008",
   "metadata": {},
   "outputs": [],
   "source": [
    "src = []\n",
    "for img in imgResults[0:10]:\n",
    "    src.append(img.get_attribute('src'))"
   ]
  },
  {
   "cell_type": "code",
   "execution_count": 30,
   "id": "8ed27d14",
   "metadata": {},
   "outputs": [
    {
     "data": {
      "text/plain": [
       "10"
      ]
     },
     "execution_count": 30,
     "metadata": {},
     "output_type": "execute_result"
    }
   ],
   "source": [
    "len(src)"
   ]
  },
  {
   "cell_type": "markdown",
   "id": "b65ea2d2",
   "metadata": {},
   "source": [
    "# 4. Write a python program to search for a smartphone(e.g.: Oneplus Nord, pixel 4A, etc.) on www.flipkart.com and scrape following details for all the search results displayed on 1st page. Details to be scraped: “Brand Name”, “Smartphone name”, “Colour”, “RAM”, “Storage(ROM)”, “Primary Camera”, “Secondary Camera”, “Display Size”, “Battery Capacity”, “Price”, “Product URL”. Incase if any of the details is missing then replace it by “- “. Save your results in a dataframe and CSV."
   ]
  },
  {
   "cell_type": "code",
   "execution_count": 3,
   "id": "ca08672b",
   "metadata": {},
   "outputs": [],
   "source": [
    "#connecting to web drivers\n",
    "driver = webdriver.Chrome(r'C:\\Users\\ASUS\\Downloads\\chromedriver_win32\\chromedriver.exe')"
   ]
  },
  {
   "cell_type": "code",
   "execution_count": 4,
   "id": "8cbf435b",
   "metadata": {},
   "outputs": [],
   "source": [
    "#maximizing automated windows\n",
    "driver.maximize_window()"
   ]
  },
  {
   "cell_type": "code",
   "execution_count": 5,
   "id": "722ae580",
   "metadata": {},
   "outputs": [],
   "source": [
    "#opening website in automated chrome window\n",
    "\n",
    "url = 'https://www.flipkart.com/'\n",
    "driver.get(url)\n"
   ]
  },
  {
   "cell_type": "code",
   "execution_count": 6,
   "id": "ba6f7322",
   "metadata": {},
   "outputs": [],
   "source": [
    "#finding web element for search bar\n",
    "search_product = driver.find_element(By.XPATH,\"//input[@type='text']\")\n",
    "search_product.send_keys(\"smartphones\")"
   ]
  },
  {
   "cell_type": "code",
   "execution_count": 10,
   "id": "5d1b6523",
   "metadata": {},
   "outputs": [],
   "source": [
    "#clicking using absolute xpath function\n",
    "search_btn =driver.find_element(By.XPATH,\"//body/div[@id='container']/div[1]/div[1]/div[1]/div[2]/div[2]/form[1]/div[1]/button[1]/*[1]\")\n",
    "search_btn.click()"
   ]
  },
  {
   "cell_type": "code",
   "execution_count": 15,
   "id": "60fbf620",
   "metadata": {},
   "outputs": [],
   "source": [
    "brands =[]\n",
    "\n",
    "brands_phones = driver.find_elements(By.XPATH,\"//div[@class='_4rR01T']\")\n",
    "for i in brands_phones :\n",
    "    brands.append(i.text) \n"
   ]
  },
  {
   "cell_type": "code",
   "execution_count": 16,
   "id": "7ad433bb",
   "metadata": {},
   "outputs": [
    {
     "data": {
      "text/plain": [
       "24"
      ]
     },
     "execution_count": 16,
     "metadata": {},
     "output_type": "execute_result"
    }
   ],
   "source": [
    "len(brands)"
   ]
  },
  {
   "cell_type": "code",
   "execution_count": 23,
   "id": "3f3ad776",
   "metadata": {},
   "outputs": [],
   "source": [
    "RAM =[]\n",
    "\n",
    "RAM_size = driver.find_elements(By.XPATH,\"//li[@class='rgWa7D']\")\n",
    "for i in RAM_size [0:24]:\n",
    "    RAM.append(i.text) \n"
   ]
  },
  {
   "cell_type": "code",
   "execution_count": 24,
   "id": "b61de623",
   "metadata": {},
   "outputs": [
    {
     "data": {
      "text/plain": [
       "24"
      ]
     },
     "execution_count": 24,
     "metadata": {},
     "output_type": "execute_result"
    }
   ],
   "source": [
    "len(RAM)"
   ]
  },
  {
   "cell_type": "code",
   "execution_count": 25,
   "id": "726d22c2",
   "metadata": {},
   "outputs": [],
   "source": [
    "smartphones_url = []\n",
    "\n",
    "url =driver.find_elements(By.XPATH,\"//a[@class='_1fQZEK']\")\n",
    "for i in url:\n",
    "    smartphones_url.append(i.get_attribute('href'))\n",
    "    "
   ]
  },
  {
   "cell_type": "code",
   "execution_count": 26,
   "id": "259cd00e",
   "metadata": {},
   "outputs": [
    {
     "data": {
      "text/plain": [
       "24"
      ]
     },
     "execution_count": 26,
     "metadata": {},
     "output_type": "execute_result"
    }
   ],
   "source": [
    "len(smartphones_url)"
   ]
  },
  {
   "cell_type": "code",
   "execution_count": 27,
   "id": "6e5873b8",
   "metadata": {},
   "outputs": [],
   "source": [
    "price = []\n",
    "for i in smartphones_url[0:24]:\n",
    "    driver.get(i)\n",
    "    time.sleep(5)\n",
    "    try:\n",
    "   \n",
    "        price_details = driver.find_element(By.XPATH,\"//div[@class='_30jeq3 _1_WHN1']\") \n",
    "        price.append(price_details.text)\n",
    "    except NoSuchElementException:\n",
    "        price.append(\"--\")\n",
    "   "
   ]
  },
  {
   "cell_type": "code",
   "execution_count": 28,
   "id": "7688b664",
   "metadata": {},
   "outputs": [],
   "source": [
    "primary_camera = []\n",
    "for i in smartphones_url[0:24]:\n",
    "    driver.get(i)\n",
    "    time.sleep(5)\n",
    "    try:\n",
    "   \n",
    "        pc_details = driver.find_element(By.XPATH,\"//li[@class='rgWa7D']\") \n",
    "        primary_camera.append(pc_details.text)\n",
    "    except NoSuchElementException:\n",
    "        primary_camera.append(\"--\")\n",
    "   "
   ]
  },
  {
   "cell_type": "code",
   "execution_count": 30,
   "id": "23795051",
   "metadata": {},
   "outputs": [],
   "source": [
    "secondary_camera = []\n",
    "for i in smartphones_url[0:24]:\n",
    "    driver.get(i)\n",
    "    time.sleep(5)\n",
    "    try:\n",
    "   \n",
    "        sc_details = driver.find_element(By.XPATH,\"//*[@id='container']/div/div[3]/div[1]/div[2]/div[5]/div/div/div/a/div[2]/div[1]/div[3]/ul/li[3]\") \n",
    "        secondary_camera.append(sc_details.text)\n",
    "    except NoSuchElementException:\n",
    "        secondary_camera.append(\"--\")"
   ]
  },
  {
   "cell_type": "code",
   "execution_count": 31,
   "id": "630d175a",
   "metadata": {},
   "outputs": [],
   "source": [
    "display = []\n",
    "for i in smartphones_url[0:24]:\n",
    "    driver.get(i)\n",
    "    time.sleep(5)\n",
    "    try:\n",
    "\n",
    "        display_details = driver.find_element(By.XPATH,\"//*[@id='container']/div/div[3]/div[1]/div[2]/div[5]/div/div/div/a/div[2]/div[1]/div[3]/ul/li[2]\") \n",
    "        display.append(dispaly_details.text)\n",
    "    except NoSuchElementException:\n",
    "        display.append(\"--\")"
   ]
  },
  {
   "cell_type": "code",
   "execution_count": 33,
   "id": "091c2917",
   "metadata": {},
   "outputs": [],
   "source": [
    "battery = []\n",
    "for i in smartphones_url[0:24]:\n",
    "    driver.get(i)\n",
    "    time.sleep(5)\n",
    "    try:\n",
    "\n",
    "        battery_capacity = driver.find_element(By.XPATH,\"//*[@id='container']/div/div[3]/div[1]/div[2]/div[5]/div/div/div/a/div[2]/div[1]/div[3]/ul/li[4]\") \n",
    "        battery.append(battery_capacity.text)\n",
    "    except NoSuchElementException:\n",
    "        battery.append(\"--\")"
   ]
  },
  {
   "cell_type": "code",
   "execution_count": 35,
   "id": "8fbdd9c4",
   "metadata": {},
   "outputs": [
    {
     "data": {
      "text/html": [
       "<div>\n",
       "<style scoped>\n",
       "    .dataframe tbody tr th:only-of-type {\n",
       "        vertical-align: middle;\n",
       "    }\n",
       "\n",
       "    .dataframe tbody tr th {\n",
       "        vertical-align: top;\n",
       "    }\n",
       "\n",
       "    .dataframe thead th {\n",
       "        text-align: right;\n",
       "    }\n",
       "</style>\n",
       "<table border=\"1\" class=\"dataframe\">\n",
       "  <thead>\n",
       "    <tr style=\"text-align: right;\">\n",
       "      <th></th>\n",
       "      <th>Brand Title</th>\n",
       "      <th>Urls</th>\n",
       "      <th>Prices</th>\n",
       "      <th>Memory</th>\n",
       "      <th>Camera</th>\n",
       "      <th>Rear camera</th>\n",
       "      <th>Display</th>\n",
       "      <th>Battery</th>\n",
       "    </tr>\n",
       "  </thead>\n",
       "  <tbody>\n",
       "    <tr>\n",
       "      <th>0</th>\n",
       "      <td>APPLE iPhone 13 (Starlight, 128 GB)</td>\n",
       "      <td>https://www.flipkart.com/apple-iphone-13-starl...</td>\n",
       "      <td>--</td>\n",
       "      <td>128 GB ROM</td>\n",
       "      <td>--</td>\n",
       "      <td>--</td>\n",
       "      <td>--</td>\n",
       "      <td>--</td>\n",
       "    </tr>\n",
       "    <tr>\n",
       "      <th>1</th>\n",
       "      <td>APPLE iPhone 13 (Midnight, 128 GB)</td>\n",
       "      <td>https://www.flipkart.com/apple-iphone-13-midni...</td>\n",
       "      <td>--</td>\n",
       "      <td>15.49 cm (6.1 inch) Super Retina XDR Display</td>\n",
       "      <td>--</td>\n",
       "      <td>--</td>\n",
       "      <td>--</td>\n",
       "      <td>--</td>\n",
       "    </tr>\n",
       "    <tr>\n",
       "      <th>2</th>\n",
       "      <td>APPLE iPhone 13 (Green, 128 GB)</td>\n",
       "      <td>https://www.flipkart.com/apple-iphone-13-green...</td>\n",
       "      <td>--</td>\n",
       "      <td>12MP + 12MP | 12MP Front Camera</td>\n",
       "      <td>--</td>\n",
       "      <td>--</td>\n",
       "      <td>--</td>\n",
       "      <td>--</td>\n",
       "    </tr>\n",
       "    <tr>\n",
       "      <th>3</th>\n",
       "      <td>I Kall Z5 (Blue, 16 GB)</td>\n",
       "      <td>https://www.flipkart.com/kall-z5-blue-16-gb/p/...</td>\n",
       "      <td>--</td>\n",
       "      <td>A15 Bionic Chip Processor</td>\n",
       "      <td>--</td>\n",
       "      <td>--</td>\n",
       "      <td>--</td>\n",
       "      <td>--</td>\n",
       "    </tr>\n",
       "    <tr>\n",
       "      <th>4</th>\n",
       "      <td>APPLE iPhone 13 (Blue, 128 GB)</td>\n",
       "      <td>https://www.flipkart.com/apple-iphone-13-blue-...</td>\n",
       "      <td>--</td>\n",
       "      <td>Brand Warranty for 1 Year</td>\n",
       "      <td>--</td>\n",
       "      <td>--</td>\n",
       "      <td>--</td>\n",
       "      <td>--</td>\n",
       "    </tr>\n",
       "    <tr>\n",
       "      <th>5</th>\n",
       "      <td>POCO C31 (Royal Blue, 64 GB)</td>\n",
       "      <td>https://www.flipkart.com/poco-c31-royal-blue-6...</td>\n",
       "      <td>--</td>\n",
       "      <td>128 GB ROM</td>\n",
       "      <td>--</td>\n",
       "      <td>--</td>\n",
       "      <td>--</td>\n",
       "      <td>--</td>\n",
       "    </tr>\n",
       "    <tr>\n",
       "      <th>6</th>\n",
       "      <td>vivo T1 5G (Rainbow Fantasy, 128 GB)</td>\n",
       "      <td>https://www.flipkart.com/vivo-t1-5g-rainbow-fa...</td>\n",
       "      <td>--</td>\n",
       "      <td>15.49 cm (6.1 inch) Super Retina XDR Display</td>\n",
       "      <td>--</td>\n",
       "      <td>--</td>\n",
       "      <td>--</td>\n",
       "      <td>--</td>\n",
       "    </tr>\n",
       "    <tr>\n",
       "      <th>7</th>\n",
       "      <td>I Kall Z 15 (SKY BLUE, 64 GB)</td>\n",
       "      <td>https://www.flipkart.com/kall-z-15-sky-blue-64...</td>\n",
       "      <td>--</td>\n",
       "      <td>12MP + 12MP | 12MP Front Camera</td>\n",
       "      <td>--</td>\n",
       "      <td>--</td>\n",
       "      <td>--</td>\n",
       "      <td>--</td>\n",
       "    </tr>\n",
       "    <tr>\n",
       "      <th>8</th>\n",
       "      <td>vivo T1 44W (Starry Sky, 128 GB)</td>\n",
       "      <td>https://www.flipkart.com/vivo-t1-44w-starry-sk...</td>\n",
       "      <td>--</td>\n",
       "      <td>A15 Bionic Chip Processor</td>\n",
       "      <td>--</td>\n",
       "      <td>--</td>\n",
       "      <td>--</td>\n",
       "      <td>--</td>\n",
       "    </tr>\n",
       "    <tr>\n",
       "      <th>9</th>\n",
       "      <td>APPLE iPhone 13 (Pink, 128 GB)</td>\n",
       "      <td>https://www.flipkart.com/apple-iphone-13-pink-...</td>\n",
       "      <td>--</td>\n",
       "      <td>Brand Warranty for 1 Year</td>\n",
       "      <td>--</td>\n",
       "      <td>--</td>\n",
       "      <td>--</td>\n",
       "      <td>--</td>\n",
       "    </tr>\n",
       "    <tr>\n",
       "      <th>10</th>\n",
       "      <td>vivo T1 44W (Midnight Galaxy, 128 GB)</td>\n",
       "      <td>https://www.flipkart.com/vivo-t1-44w-midnight-...</td>\n",
       "      <td>--</td>\n",
       "      <td>128 GB ROM</td>\n",
       "      <td>--</td>\n",
       "      <td>--</td>\n",
       "      <td>--</td>\n",
       "      <td>--</td>\n",
       "    </tr>\n",
       "    <tr>\n",
       "      <th>11</th>\n",
       "      <td>I Kall Z16 (SKY BLUE, 64 GB)</td>\n",
       "      <td>https://www.flipkart.com/kall-z16-sky-blue-64-...</td>\n",
       "      <td>--</td>\n",
       "      <td>15.49 cm (6.1 inch) Super Retina XDR Display</td>\n",
       "      <td>--</td>\n",
       "      <td>--</td>\n",
       "      <td>--</td>\n",
       "      <td>--</td>\n",
       "    </tr>\n",
       "    <tr>\n",
       "      <th>12</th>\n",
       "      <td>MOTOROLA e40 (Carbon Gray, 64 GB)</td>\n",
       "      <td>https://www.flipkart.com/motorola-e40-carbon-g...</td>\n",
       "      <td>--</td>\n",
       "      <td>12MP + 12MP | 12MP Front Camera</td>\n",
       "      <td>--</td>\n",
       "      <td>--</td>\n",
       "      <td>--</td>\n",
       "      <td>--</td>\n",
       "    </tr>\n",
       "    <tr>\n",
       "      <th>13</th>\n",
       "      <td>POCO C31 (Shadow Gray, 64 GB)</td>\n",
       "      <td>https://www.flipkart.com/poco-c31-shadow-gray-...</td>\n",
       "      <td>--</td>\n",
       "      <td>A15 Bionic Chip Processor</td>\n",
       "      <td>--</td>\n",
       "      <td>--</td>\n",
       "      <td>--</td>\n",
       "      <td>--</td>\n",
       "    </tr>\n",
       "    <tr>\n",
       "      <th>14</th>\n",
       "      <td>vivo T1X (Gravity Black, 64 GB)</td>\n",
       "      <td>https://www.flipkart.com/vivo-t1x-gravity-blac...</td>\n",
       "      <td>--</td>\n",
       "      <td>Brand Warranty for 1 Year</td>\n",
       "      <td>--</td>\n",
       "      <td>--</td>\n",
       "      <td>--</td>\n",
       "      <td>--</td>\n",
       "    </tr>\n",
       "    <tr>\n",
       "      <th>15</th>\n",
       "      <td>I Kall Z7 (Grey, 32 GB)</td>\n",
       "      <td>https://www.flipkart.com/kall-z7-grey-32-gb/p/...</td>\n",
       "      <td>--</td>\n",
       "      <td>3 GB RAM | 16 GB ROM</td>\n",
       "      <td>--</td>\n",
       "      <td>--</td>\n",
       "      <td>--</td>\n",
       "      <td>--</td>\n",
       "    </tr>\n",
       "    <tr>\n",
       "      <th>16</th>\n",
       "      <td>vivo T1X (Space Blue, 64 GB)</td>\n",
       "      <td>https://www.flipkart.com/vivo-t1x-space-blue-6...</td>\n",
       "      <td>--</td>\n",
       "      <td>13.84 cm (5.45 inch) Display</td>\n",
       "      <td>--</td>\n",
       "      <td>--</td>\n",
       "      <td>--</td>\n",
       "      <td>--</td>\n",
       "    </tr>\n",
       "    <tr>\n",
       "      <th>17</th>\n",
       "      <td>vivo T1 44W (Starry Sky, 128 GB)</td>\n",
       "      <td>https://www.flipkart.com/vivo-t1-44w-starry-sk...</td>\n",
       "      <td>--</td>\n",
       "      <td>8MP Rear Camera | 5MP Front Camera</td>\n",
       "      <td>--</td>\n",
       "      <td>--</td>\n",
       "      <td>--</td>\n",
       "      <td>--</td>\n",
       "    </tr>\n",
       "    <tr>\n",
       "      <th>18</th>\n",
       "      <td>vivo T1 5G (Starlight Black, 128 GB)</td>\n",
       "      <td>https://www.flipkart.com/vivo-t1-5g-starlight-...</td>\n",
       "      <td>--</td>\n",
       "      <td>3000 mAh Battery</td>\n",
       "      <td>--</td>\n",
       "      <td>--</td>\n",
       "      <td>--</td>\n",
       "      <td>--</td>\n",
       "    </tr>\n",
       "    <tr>\n",
       "      <th>19</th>\n",
       "      <td>I Kall K470 (Dark Blue, 32 GB)</td>\n",
       "      <td>https://www.flipkart.com/kall-k470-dark-blue-3...</td>\n",
       "      <td>--</td>\n",
       "      <td>1 year manufacturing warranty for mobile and 6...</td>\n",
       "      <td>--</td>\n",
       "      <td>--</td>\n",
       "      <td>--</td>\n",
       "      <td>--</td>\n",
       "    </tr>\n",
       "    <tr>\n",
       "      <th>20</th>\n",
       "      <td>realme 9 (Sunburst Gold, 128 GB)</td>\n",
       "      <td>https://www.flipkart.com/realme-9-sunburst-gol...</td>\n",
       "      <td>--</td>\n",
       "      <td>128 GB ROM</td>\n",
       "      <td>--</td>\n",
       "      <td>--</td>\n",
       "      <td>--</td>\n",
       "      <td>--</td>\n",
       "    </tr>\n",
       "    <tr>\n",
       "      <th>21</th>\n",
       "      <td>POCO M4 Pro 5G (Cool Blue, 128 GB)</td>\n",
       "      <td>https://www.flipkart.com/poco-m4-pro-5g-cool-b...</td>\n",
       "      <td>--</td>\n",
       "      <td>15.49 cm (6.1 inch) Super Retina XDR Display</td>\n",
       "      <td>--</td>\n",
       "      <td>--</td>\n",
       "      <td>--</td>\n",
       "      <td>--</td>\n",
       "    </tr>\n",
       "    <tr>\n",
       "      <th>22</th>\n",
       "      <td>realme 9 (Meteor Black, 128 GB)</td>\n",
       "      <td>https://www.flipkart.com/realme-9-meteor-black...</td>\n",
       "      <td>--</td>\n",
       "      <td>12MP + 12MP | 12MP Front Camera</td>\n",
       "      <td>--</td>\n",
       "      <td>--</td>\n",
       "      <td>--</td>\n",
       "      <td>--</td>\n",
       "    </tr>\n",
       "    <tr>\n",
       "      <th>23</th>\n",
       "      <td>I Kall Z13 (Cyan, 64 GB)</td>\n",
       "      <td>https://www.flipkart.com/kall-z13-cyan-64-gb/p...</td>\n",
       "      <td>--</td>\n",
       "      <td>A15 Bionic Chip Processor</td>\n",
       "      <td>--</td>\n",
       "      <td>--</td>\n",
       "      <td>--</td>\n",
       "      <td>--</td>\n",
       "    </tr>\n",
       "  </tbody>\n",
       "</table>\n",
       "</div>"
      ],
      "text/plain": [
       "                              Brand Title  \\\n",
       "0     APPLE iPhone 13 (Starlight, 128 GB)   \n",
       "1      APPLE iPhone 13 (Midnight, 128 GB)   \n",
       "2         APPLE iPhone 13 (Green, 128 GB)   \n",
       "3                 I Kall Z5 (Blue, 16 GB)   \n",
       "4          APPLE iPhone 13 (Blue, 128 GB)   \n",
       "5            POCO C31 (Royal Blue, 64 GB)   \n",
       "6    vivo T1 5G (Rainbow Fantasy, 128 GB)   \n",
       "7           I Kall Z 15 (SKY BLUE, 64 GB)   \n",
       "8        vivo T1 44W (Starry Sky, 128 GB)   \n",
       "9          APPLE iPhone 13 (Pink, 128 GB)   \n",
       "10  vivo T1 44W (Midnight Galaxy, 128 GB)   \n",
       "11           I Kall Z16 (SKY BLUE, 64 GB)   \n",
       "12      MOTOROLA e40 (Carbon Gray, 64 GB)   \n",
       "13          POCO C31 (Shadow Gray, 64 GB)   \n",
       "14        vivo T1X (Gravity Black, 64 GB)   \n",
       "15                I Kall Z7 (Grey, 32 GB)   \n",
       "16           vivo T1X (Space Blue, 64 GB)   \n",
       "17       vivo T1 44W (Starry Sky, 128 GB)   \n",
       "18   vivo T1 5G (Starlight Black, 128 GB)   \n",
       "19         I Kall K470 (Dark Blue, 32 GB)   \n",
       "20       realme 9 (Sunburst Gold, 128 GB)   \n",
       "21     POCO M4 Pro 5G (Cool Blue, 128 GB)   \n",
       "22        realme 9 (Meteor Black, 128 GB)   \n",
       "23               I Kall Z13 (Cyan, 64 GB)   \n",
       "\n",
       "                                                 Urls Prices  \\\n",
       "0   https://www.flipkart.com/apple-iphone-13-starl...     --   \n",
       "1   https://www.flipkart.com/apple-iphone-13-midni...     --   \n",
       "2   https://www.flipkart.com/apple-iphone-13-green...     --   \n",
       "3   https://www.flipkart.com/kall-z5-blue-16-gb/p/...     --   \n",
       "4   https://www.flipkart.com/apple-iphone-13-blue-...     --   \n",
       "5   https://www.flipkart.com/poco-c31-royal-blue-6...     --   \n",
       "6   https://www.flipkart.com/vivo-t1-5g-rainbow-fa...     --   \n",
       "7   https://www.flipkart.com/kall-z-15-sky-blue-64...     --   \n",
       "8   https://www.flipkart.com/vivo-t1-44w-starry-sk...     --   \n",
       "9   https://www.flipkart.com/apple-iphone-13-pink-...     --   \n",
       "10  https://www.flipkart.com/vivo-t1-44w-midnight-...     --   \n",
       "11  https://www.flipkart.com/kall-z16-sky-blue-64-...     --   \n",
       "12  https://www.flipkart.com/motorola-e40-carbon-g...     --   \n",
       "13  https://www.flipkart.com/poco-c31-shadow-gray-...     --   \n",
       "14  https://www.flipkart.com/vivo-t1x-gravity-blac...     --   \n",
       "15  https://www.flipkart.com/kall-z7-grey-32-gb/p/...     --   \n",
       "16  https://www.flipkart.com/vivo-t1x-space-blue-6...     --   \n",
       "17  https://www.flipkart.com/vivo-t1-44w-starry-sk...     --   \n",
       "18  https://www.flipkart.com/vivo-t1-5g-starlight-...     --   \n",
       "19  https://www.flipkart.com/kall-k470-dark-blue-3...     --   \n",
       "20  https://www.flipkart.com/realme-9-sunburst-gol...     --   \n",
       "21  https://www.flipkart.com/poco-m4-pro-5g-cool-b...     --   \n",
       "22  https://www.flipkart.com/realme-9-meteor-black...     --   \n",
       "23  https://www.flipkart.com/kall-z13-cyan-64-gb/p...     --   \n",
       "\n",
       "                                               Memory Camera Rear camera  \\\n",
       "0                                          128 GB ROM     --          --   \n",
       "1        15.49 cm (6.1 inch) Super Retina XDR Display     --          --   \n",
       "2                     12MP + 12MP | 12MP Front Camera     --          --   \n",
       "3                           A15 Bionic Chip Processor     --          --   \n",
       "4                           Brand Warranty for 1 Year     --          --   \n",
       "5                                          128 GB ROM     --          --   \n",
       "6        15.49 cm (6.1 inch) Super Retina XDR Display     --          --   \n",
       "7                     12MP + 12MP | 12MP Front Camera     --          --   \n",
       "8                           A15 Bionic Chip Processor     --          --   \n",
       "9                           Brand Warranty for 1 Year     --          --   \n",
       "10                                         128 GB ROM     --          --   \n",
       "11       15.49 cm (6.1 inch) Super Retina XDR Display     --          --   \n",
       "12                    12MP + 12MP | 12MP Front Camera     --          --   \n",
       "13                          A15 Bionic Chip Processor     --          --   \n",
       "14                          Brand Warranty for 1 Year     --          --   \n",
       "15                               3 GB RAM | 16 GB ROM     --          --   \n",
       "16                       13.84 cm (5.45 inch) Display     --          --   \n",
       "17                 8MP Rear Camera | 5MP Front Camera     --          --   \n",
       "18                                   3000 mAh Battery     --          --   \n",
       "19  1 year manufacturing warranty for mobile and 6...     --          --   \n",
       "20                                         128 GB ROM     --          --   \n",
       "21       15.49 cm (6.1 inch) Super Retina XDR Display     --          --   \n",
       "22                    12MP + 12MP | 12MP Front Camera     --          --   \n",
       "23                          A15 Bionic Chip Processor     --          --   \n",
       "\n",
       "   Display Battery  \n",
       "0       --      --  \n",
       "1       --      --  \n",
       "2       --      --  \n",
       "3       --      --  \n",
       "4       --      --  \n",
       "5       --      --  \n",
       "6       --      --  \n",
       "7       --      --  \n",
       "8       --      --  \n",
       "9       --      --  \n",
       "10      --      --  \n",
       "11      --      --  \n",
       "12      --      --  \n",
       "13      --      --  \n",
       "14      --      --  \n",
       "15      --      --  \n",
       "16      --      --  \n",
       "17      --      --  \n",
       "18      --      --  \n",
       "19      --      --  \n",
       "20      --      --  \n",
       "21      --      --  \n",
       "22      --      --  \n",
       "23      --      --  "
      ]
     },
     "execution_count": 35,
     "metadata": {},
     "output_type": "execute_result"
    }
   ],
   "source": [
    "phones = pd.DataFrame()\n",
    "phones['Brand Title'] = brands [0:24]\n",
    "phones['Urls']= smartphones_url[0:24]\n",
    "phones['Prices'] = price[0:24]\n",
    "phones['Memory'] = RAM[0:24]\n",
    "phones['Camera'] = primary_camera[0:24]\n",
    "phones['Rear camera'] = secondary_camera[0:24]\n",
    "phones['Display'] = display[0:24]\n",
    "phones['Battery'] = battery[0:24]\n",
    "phones"
   ]
  },
  {
   "cell_type": "code",
   "execution_count": 36,
   "id": "52720657",
   "metadata": {},
   "outputs": [],
   "source": [
    "phones.to_csv('phones_df.csv')"
   ]
  },
  {
   "cell_type": "markdown",
   "id": "d3f94de7",
   "metadata": {},
   "source": [
    "# 5. Write a program to scrap geospatial coordinates (latitude, longitude) of a city searched on google maps."
   ]
  },
  {
   "cell_type": "code",
   "execution_count": 2,
   "id": "44142608",
   "metadata": {},
   "outputs": [],
   "source": [
    "#connecting to web drivers\n",
    "driver = webdriver.Chrome(r'C:\\Users\\ASUS\\Downloads\\chromedriver_win32\\chromedriver.exe')"
   ]
  },
  {
   "cell_type": "code",
   "execution_count": 3,
   "id": "8c164da5",
   "metadata": {},
   "outputs": [],
   "source": [
    "#maximizing automated windows\n",
    "driver.maximize_window()"
   ]
  },
  {
   "cell_type": "code",
   "execution_count": 4,
   "id": "96a18329",
   "metadata": {},
   "outputs": [],
   "source": [
    "#opening website in automated chrome window\n",
    "\n",
    "url = 'https://www.google.com/maps/@23.9740114,78.422961,7z'\n",
    "driver.get(url)\n"
   ]
  },
  {
   "cell_type": "code",
   "execution_count": 5,
   "id": "359eccc9",
   "metadata": {},
   "outputs": [],
   "source": [
    "#finding web element for search bar\n",
    "search_city = driver.find_element(By.XPATH,\"//input[@jslog='11886']\")\n",
    "search_city.send_keys(\"Bangalore\")"
   ]
  },
  {
   "cell_type": "code",
   "execution_count": 6,
   "id": "72e01d17",
   "metadata": {},
   "outputs": [],
   "source": [
    "#clicking using absolute xpath function\n",
    "search_btn =driver.find_element(By.XPATH,\"//button[@jslog='11887']\")\n",
    "search_btn.click()"
   ]
  },
  {
   "cell_type": "code",
   "execution_count": 7,
   "id": "73214552",
   "metadata": {},
   "outputs": [
    {
     "name": "stdout",
     "output_type": "stream",
     "text": [
      "[]\n"
     ]
    }
   ],
   "source": [
    "#scraping geospatial cordinates\n",
    "search_cordinates = driver.find_elements(By.CLASS_NAME,'mLuXec')\n",
    "print(search_cordinates)"
   ]
  },
  {
   "cell_type": "code",
   "execution_count": 8,
   "id": "0b74c335",
   "metadata": {},
   "outputs": [],
   "source": [
    "#UNABLE TO FIND THE CORDINATESabs\n"
   ]
  },
  {
   "cell_type": "markdown",
   "id": "a1b1a687",
   "metadata": {},
   "source": [
    "# 6. Write a program to scrap details of all the funding deals for second quarter (i.e Jan 21 – March 21) from trak.in."
   ]
  },
  {
   "cell_type": "code",
   "execution_count": 9,
   "id": "e482a09f",
   "metadata": {},
   "outputs": [],
   "source": [
    "\n",
    "#connecting to web drivers\n",
    "driver = webdriver.Chrome(r'C:\\Users\\ASUS\\Downloads\\chromedriver_win32\\chromedriver.exe')"
   ]
  },
  {
   "cell_type": "code",
   "execution_count": 10,
   "id": "68841545",
   "metadata": {},
   "outputs": [],
   "source": [
    "#maximizing automated windows\n",
    "driver.maximize_window()"
   ]
  },
  {
   "cell_type": "code",
   "execution_count": 11,
   "id": "11cfc15f",
   "metadata": {},
   "outputs": [],
   "source": [
    "#opening website in automated chrome window\n",
    "\n",
    "url = 'https://trak.in/'\n",
    "driver.get(url)\n"
   ]
  },
  {
   "cell_type": "code",
   "execution_count": 12,
   "id": "f16ddccf",
   "metadata": {},
   "outputs": [],
   "source": [
    "#clicking using absolute xpath function\n",
    "search_btn =driver.find_element(By.XPATH,\"//*[@id='menu-item-51510']/a\")\n",
    "search_btn.click()"
   ]
  },
  {
   "cell_type": "code",
   "execution_count": 18,
   "id": "44d74742",
   "metadata": {},
   "outputs": [],
   "source": [
    "deals_j =[]\n",
    "\n",
    "jan = driver.find_elements(By.XPATH,\"/html[1]/body[1]/div[1]/main[1]/div[1]/div[1]/div[1]/div[2]/div[1]/div[1]/div[1]/div[1]/div[1]/div[1]/div[5]\")\n",
    "for i in jan :\n",
    "    deals_j.append(i.text) \n"
   ]
  },
  {
   "cell_type": "code",
   "execution_count": 19,
   "id": "d05a3b20",
   "metadata": {},
   "outputs": [
    {
     "data": {
      "text/plain": [
       "[\"Show\\n10\\n25\\n50\\n100\\nentries\\nSearch:\\nSr. No. Date (dd/mm/yyyy) Startup Name Industry / Vertical Sub-Vertical City / Location Investors' Name Investment Type Amount (In USD)\\n1 15/01/2021 Digit Insurance Financial Services Insurance Services Bengaluru A91 Partners, Faering Capital, TVS Capital Funds Venture 1,80,00,000\\n2 28/01/2021 Bombay Shaving Company Consumer Goods Company Shave care, beard care, and skincare products New Delhi Reckitt Benckiser Venture 6,172,258.50\\n3 19/01/2021 DeHaat AgriTech Startup online marketplace for farm products and services Patna Prosus Ventures Series C 30,000,000\\n4 19/01/2021 Darwinbox SaaS HR Tech Mumbai Salesforce Ventures Seed 15,000,000\\n5 18/01/2021 mfine Health Tech Startup AI-powered telemedicine mobile app Bengaluru Heritas Capital Management Venture Round 16,000,000\\n6 18/01/2021 Udayy EdTech Online learning platform for kids in class 1-5 Gurgaon Sequoia Capital Seed Funding 15,000,000\\n7 11/01/2021 True Elements Food Startup Whole Food plant based Nashta Pune SIDBI Venture Capital Series 100,000,000\\n8 13/01/2021 Saveo B2B E-commerce Pharmacies Bengaluru Matrix Partners India, RTP Global, others Seed 4,000,000\\nShowing 1 to 8 of 8 entries\\nPreviousNext\"]"
      ]
     },
     "execution_count": 19,
     "metadata": {},
     "output_type": "execute_result"
    }
   ],
   "source": [
    "deals_j"
   ]
  },
  {
   "cell_type": "code",
   "execution_count": 20,
   "id": "c9e26745",
   "metadata": {},
   "outputs": [],
   "source": [
    "deals_f =[]\n",
    "\n",
    "feb = driver.find_elements(By.XPATH,\"/html[1]/body[1]/div[1]/main[1]/div[1]/div[1]/div[1]/div[2]/div[1]/div[1]/div[1]/div[1]/div[1]/div[1]/div[4]\")\n",
    "for i in feb :\n",
    "    deals_f.append(i.text) \n"
   ]
  },
  {
   "cell_type": "code",
   "execution_count": null,
   "id": "e3575652",
   "metadata": {},
   "outputs": [],
   "source": []
  },
  {
   "cell_type": "code",
   "execution_count": 21,
   "id": "c5bee58d",
   "metadata": {},
   "outputs": [
    {
     "data": {
      "text/plain": [
       "[\"Show\\n10\\n25\\n50\\n100\\nentries\\nSearch:\\nSr. No. Date (dd/mm/yyyy) Startup Name Industry / Vertical Sub-Vertical City / Location Investors' Name Investment Type Amount (In USD)\\n1 11/02/2021 Doubtnut Edu Tech E-Learning Platform Gurgaon SIG Global, Sequoia Capital, WaterBridge Ventures and ON Mauritius Series B 2,500,000\\n2 22/02/2021 Zomato Hospitality Online Food Delivery Platform Gurgaon Tiger Global, Kora Venture 250,000,000\\n3 19/02/2021 Fingerlix Hospitality Semi-cooked food delivery app Mumbai Rhodium Trust, Accel Partners and Swiggy Series C 2,747,045.20\\n4 17/02/2021 Zolve FinTech Global Neobank Venture Mumbai Accel Partners and Lightspeed Venture Partners Seed 1,50,00,000\\n5 15/02/2021 KreditBee Finance Digital lending platform Bengaluru Azim Premji’s PremjiInvest and South Korea’s Mirae Asset Venture Series C 75,000,000\\n6 12/02/2021 Pepperfry E-commerce Multi-brand furniture brand Mumbai InnoVen Capital Debt Financing 4,773,958\\n7 12/02/2021 Grofers E-Commerce Online supermarket Gurgaon SoftBank Vision Fund (SVF) Unspecified 55,000,000\\n8 09/02/2021 Nothing Technology Consumer Technology Venture London GV Series A 15,000,000\\n9 09/02/2021 SplashLearn EdTech Game-based learning programme Gurgaon Owl Ventures Series C 18,000,000\\nShowing 1 to 9 of 9 entries\\nPreviousNext\"]"
      ]
     },
     "execution_count": 21,
     "metadata": {},
     "output_type": "execute_result"
    }
   ],
   "source": [
    "deals_f"
   ]
  },
  {
   "cell_type": "code",
   "execution_count": 22,
   "id": "c174c5bf",
   "metadata": {},
   "outputs": [],
   "source": [
    "deals_m =[]\n",
    "\n",
    "march = driver.find_elements(By.XPATH,\"/html[1]/body[1]/div[1]/main[1]/div[1]/div[1]/div[1]/div[2]/div[1]/div[1]/div[1]/div[1]/div[1]/div[1]/div[3]\")\n",
    "for i in march :\n",
    "    deals_m.append(i.text) \n"
   ]
  },
  {
   "cell_type": "code",
   "execution_count": 23,
   "id": "9f298346",
   "metadata": {},
   "outputs": [
    {
     "data": {
      "text/plain": [
       "[\"Show\\n10\\n25\\n50\\n100\\nentries\\nSearch:\\nSr. No. Date (dd/mm/yyyy) Startup Name Industry / Vertical Sub-Vertical City / Location Investors' Name Investment Type Amount (In USD)\\n1 04/03/2021 DealShare E-commerce Online shopping platform Jaipur, Rajasthan Innoven Capital Debt Financing 250,000,000\\n2 31/03/2021 Uniphore Technology Conversational Service Automation (CSA) Palo Alto Sorenson Capital Partners Series D 140,000,000\\n3 30/03/2021 Dunzo E-commerce Hyper-local delivery app Bengaluru Krishtal Advisors Pte Ltd Series E 8,000,000\\n4 30/03/2021 BYJU’S Edu-tech Online tutoring Bengaluru MC Global Edtech, B Capital, Baron, others Series F 460,000,000\\n5 23/03/2021 SkilloVilla Edu-tech Career and job-oriented upskilling. Bengaluru Titan Capital, others Seed 300,000,000\\n6 25/03/2021 CityMall E-commerce Social ecommerce and online grocery platform Gurgaon Accel Partners Series A 11,000,000\\n7 26/03/2021 DotPe FinTech Commerce and payments platform to offline enterprise businesses. Gurgaon PayU Series A 27,500,000\\nShowing 1 to 7 of 7 entries\\nPreviousNext\"]"
      ]
     },
     "execution_count": 23,
     "metadata": {},
     "output_type": "execute_result"
    }
   ],
   "source": [
    "deals_m"
   ]
  },
  {
   "cell_type": "code",
   "execution_count": null,
   "id": "9c400436",
   "metadata": {},
   "outputs": [],
   "source": []
  }
 ],
 "metadata": {
  "kernelspec": {
   "display_name": "Python 3 (ipykernel)",
   "language": "python",
   "name": "python3"
  },
  "language_info": {
   "codemirror_mode": {
    "name": "ipython",
    "version": 3
   },
   "file_extension": ".py",
   "mimetype": "text/x-python",
   "name": "python",
   "nbconvert_exporter": "python",
   "pygments_lexer": "ipython3",
   "version": "3.9.12"
  }
 },
 "nbformat": 4,
 "nbformat_minor": 5
}
